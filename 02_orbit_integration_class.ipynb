{
 "cells": [
  {
   "cell_type": "markdown",
   "metadata": {
    "id": "OD2VRQbNZXpa"
   },
   "source": [
    "<center>\n",
    "    \n",
    "## <font color='maroon'>ASTR 21100/31200</font>\n",
    "## <font color='maroon'>Computational techniques in astrophysics<br></font>\n",
    "</center>\n",
    "\n",
    "### Instructor: \n",
    "Andrey Kravtsov (email: <tt>kravtsov@uchicago.edu</tt>)\n",
    "Professor,<br> Department of Astronomy & Astrophysics\n",
    "\n",
    "\n",
    "### Teaching Assistants (for undergraduate students):  \n",
    "\n",
    "Nathalie Chicoine (<tt>nchicoine@uchicago.edu</tt>), Diego Garza (<tt>diego2500garza@uchicago.edu</tt>), Alexandra Masegian (<tt>amasegian@uchicago.edu</tt>), Yue Pan (<tt>explorerpan@uchicago.edu</tt>), Aster Taylor (<tt>astertaylor@uchicago.edu</tt>)\n"
   ]
  },
  {
   "cell_type": "markdown",
   "metadata": {
    "id": "OWwSeJgOZXpe"
   },
   "source": [
    "### <font color='darkblue'>Numerical \"integration\" of motion of planets in the Gliese 876 exoplanet system \n",
    "\n",
    "Our goal for this week and for the 1st homework assignment is for you to learn the basics of how orbits are computed numerically and reproduce some cool motions of planets in an [exoplanet system Gliese 876](https://planet.fandom.com/wiki/Gliese_876) and results and figures of a paper by [Laughlin et al. 2005](https://ui.adsabs.harvard.edu/abs/2005ApJ...622.1182L/abstract). \n",
    "    \n",
    "    \n",
    "**Jupyter notebook with HW 1 assignment was distributed today. Your submission in the form of Jupyter notebook is due on Wednesday, Apr 6 by 10pm via Canvas.** \n",
    "    \n",
    "<p>\n",
    "<center>\n",
    "<img width=700 src=\"https://vignette.wikia.nocookie.net/planetpedia/images/9/9a/Gliese_876_b.jpg/revision/latest/scale-to-width-down/2000?cb=20110512032028\"></img>"
   ]
  },
  {
   "cell_type": "markdown",
   "metadata": {
    "id": "fb_QZXq-ZXpe"
   },
   "source": [
    "### <font color='darkblue'>Office hours\n",
    "    \n",
    "    \n",
    "* Thu, 5-7pm, ERC 517 - TAs + myself (via zoom)\n",
    "    \n",
    "    \n",
    "* Fri, 1-3pm, ERC 517 - TAs\n",
    "    \n",
    "    \n",
    "* Mon, 5-7pm, ERC 517 - TAs\n",
    "    \n",
    "    \n",
    "* Wed, 5-7pm, ERC 545 - TAs\n"
   ]
  },
  {
   "cell_type": "code",
   "execution_count": null,
   "metadata": {
    "id": "sWslcJJXumxC"
   },
   "outputs": [],
   "source": [
    "import numpy as np \n",
    "\n",
    "# use jupyter \"magic\" command to tell it to embed plot into the notebook \n",
    "import matplotlib.pyplot as plt\n",
    "%matplotlib inline"
   ]
  },
  {
   "cell_type": "markdown",
   "metadata": {
    "id": "nKpt3mp50iyp"
   },
   "source": [
    "### <font color='darkblue'>Equations governing motion of particles interacting gravitationally\n",
    "        \n",
    "Consider 2 particles interacting gravitationally. \n",
    "    \n",
    "The first particle has \"Cartesian\" coordinates $x_1$, $y_1$, $z_1$ and velocity components $v_{x,1}$, $v_{y,1}$, $v_{z,1}$.     \n",
    "    \n",
    "Particle coordinates change as long as these velocity components are not zero; the rate of change is given by the definition of velocity:  \n",
    "        \n",
    "$$\\frac{dx_1}{dt} = v_{x,1};\\ \\ \\ \\ \\ \\frac{dy_1}{dt} = v_{y,1};\\ \\ \\ \\ \\  \\frac{dz_1}{dt} = v_{z,1}.$$\n",
    "\n",
    "This particle experiences gravitational force from the second particle, which changes its velocity components:  \n",
    "    \n",
    "$$\\frac{dv_{x,1}}{dt}=a_{x,1};\\ \\ \\ \\ \\frac{dv_{y,1}}{dt}=a_{y,1};\\ \\ \\ \\ \\frac{dv_{z,1}}{dt}=a_{z,1},$$\n",
    "    \n",
    "where $a_{x,1}$, $a_{y,1}$, $a_{z,1}$ are components of the gravitational acceleration.\n",
    "    "
   ]
  },
  {
   "cell_type": "markdown",
   "metadata": {
    "id": "GenB9sPuZXph"
   },
   "source": [
    "$$\\vec{a}_1 = -G\\,\\frac{m_2}{r^3_{12}}\\,\\vec{r}_{21},$$\n",
    "\n",
    "or \n",
    "$$a_{x,1}=-G\\,\\frac{m_2}{r^3_{12}}\\,(x_{2}-x_{1}),$$\n",
    "\n",
    "$$a_{y,1}=-G\\,\\frac{m_2}{r^3_{12}}\\,(y_{2}-y_{1}),$$\n",
    "\n",
    "$$a_{z,1}=-G\\,\\frac{m_2}{r^3_{12}}\\,(z_{2}-z_{1}),$$\n",
    "    \n",
    "and where $r_{12}$ is the distance between the two particles: \n",
    "    \n",
    "$$r_{12}=\\left[(x_1-x_2)^2 + (y_1-y_2)^2 +(z_1-z_2)^2 \\right]^{1/2}.$$\n",
    "  "
   ]
  },
  {
   "cell_type": "markdown",
   "metadata": {
    "id": "iGh8GuQhZXph"
   },
   "source": [
    "Equations for particle 2 are similar and can be obtained by switching indices 1 and 2 in the equations above. \n",
    "\n",
    "We start with the case of 2 particles both because it is simpler and because for this case, we know solution for orbits from a given initial condition exactly, which allows us to check our computations. We will then proceed to a general case of $N$ particles (see below). "
   ]
  },
  {
   "cell_type": "markdown",
   "metadata": {
    "id": "Zh-r3-LsZXpi"
   },
   "source": [
    "### <font color='darkblue'>\"Integrating\" these equations\n",
    "\n",
    "By integrating equations of motion, we mean that solution of these equation, say particle positions as a function of time: $x_1(t)$, $x_2(t)$. \n",
    "    \n",
    "However to get this solution from equation $dx_1/dt = v_{x,1}$, we need to know $v_{x,1}(t)$, but we don't know it in general. This solution needs to be obtained in parallel with obtaining $x_1(t)$, $x_2(t)$, ... because to solve for velocities we need accelerations and these depend on positions... "
   ]
  },
  {
   "cell_type": "markdown",
   "metadata": {
    "id": "iB0g6AIP0iyt"
   },
   "source": [
    "### <font color='darkblue'>Numerical scheme for equations of motion \n",
    "    \n",
    "equations are written for $x$ component only and would be similar for $y$ and $z$ components, acceleration is computed using positions at $t=t_n$. : \n",
    "\n",
    "$$t_{n+1} = t_n + \\Delta t$$ \n",
    "\n",
    "$$x_{n+1} = x_{n}+ v_{x,n}\\Delta t,\\ \\ \\ \\ y_{n+1}=\\ldots$$\n",
    "\n",
    "$$v_{x,n+1} = v_{x,n}+a_{x,n}\\Delta t,\\ \\ \\ \\ v_{y,n+1}=\\ldots$$\n"
   ]
  },
  {
   "cell_type": "markdown",
   "metadata": {
    "id": "Kit0eHdeZXpj"
   },
   "source": [
    "***Note:*** This is the simplest scheme called the ***1st order forward Euler scheme***. "
   ]
  },
  {
   "cell_type": "markdown",
   "metadata": {
    "id": "XGJbOQccZXpk"
   },
   "source": [
    "### <font color='darkblue'>Some relevant constants and quantities "
   ]
  },
  {
   "cell_type": "code",
   "execution_count": null,
   "metadata": {
    "id": "QUHAkj_qZXpk"
   },
   "outputs": [],
   "source": [
    "AU = 1.49598e+13 # 1 AU = average distance from the Earth to the Sun in centimeters (cm)\n",
    "G = 6.67259e-08 # universal gravitational constant in cgs units \n",
    "yr =  3.15569e+07 # 1 year in seconds\n",
    "msun = 1.9891e33 # mass of the Sun in grams\n",
    "mearth = 5.9742e27 # mass of the Earth in grams\n",
    "vcirc = (G*msun/AU)**0.5 # circular velocity = sqrt(G*Msun/AU)"
   ]
  },
  {
   "cell_type": "markdown",
   "metadata": {
    "id": "iYfQFKZdZXpk"
   },
   "source": [
    "### <font color='darkblue'> Initialize positions and velocities for a test: circular motion of the Earth around the Sun"
   ]
  },
  {
   "cell_type": "code",
   "execution_count": null,
   "metadata": {
    "id": "eQ4J9ezFZXpl"
   },
   "outputs": [],
   "source": [
    "x1, y1, z1 = 0., 0., 0. # coordinates of the Sun\n",
    "x2, y2, z2 =  AU, 0., 0. # coordinates of the Earth \n",
    "\n",
    "vx1, vy1, vz1 = 0., 0., 0. # initial velocity of the Sun\n",
    "vx2, vy2, vz2 = 0., vcirc, 0. # initial velocity of the Earth \n",
    "\n",
    "m1, m2 = msun, mearth # masses "
   ]
  },
  {
   "cell_type": "markdown",
   "metadata": {
    "id": "L0LTbeemZXpl"
   },
   "source": [
    "\n",
    "The code below implements the 1st order Euler scheme "
   ]
  },
  {
   "cell_type": "code",
   "execution_count": null,
   "metadata": {
    "id": "JrUB63_TZXpl"
   },
   "outputs": [],
   "source": [
    "nsteps = 1000 # number of steps\n",
    "dt =  10 * yr / nsteps # time step\n",
    "\n",
    "x, y, z = [], [], [] # lists to record positions of the Earth during time steps  \n",
    "for n in range(nsteps):\n",
    "    r12 = ((x1-x2)**2 + (y1-y2)**2 + (z1-z2)**2)**0.5\n",
    "    ax1 = G * m2 / r12**3 * (x2 - x1)\n",
    "    ay1 = G * m2 / r12**3 * (y2 - y1)\n",
    "    az1 = G * m2 / r12**3 * (z2 - z1)\n",
    "    ax2 = G * m1 / r12**3 * (x1 - x2)\n",
    "    ay2 = G * m1 / r12**3 * (y1 - y2)\n",
    "    az2 = G * m1 / r12**3 * (z1 - z2)\n",
    "    x1  = x1 + vx1 * dt \n",
    "    y1  = y1 + vy1 * dt \n",
    "    z1  = z1 + vz1 * dt \n",
    "    x2  = x2 + vx2 * dt \n",
    "    y2  = y2 + vy2 * dt \n",
    "    z2  = z2 + vz2 * dt \n",
    "    vx1 = vx1 + ax1 * dt \n",
    "    vy1 = vy1 + ay1 * dt \n",
    "    vz1 = vz1 + az1 * dt \n",
    "    vx2 = vx2 + ax2 * dt \n",
    "    vy2 = vy2 + ay2 * dt \n",
    "    vz2 = vz2 + az2 * dt \n",
    "    x.append(x2)\n",
    "    y.append(y2)\n",
    "    z.append(z2)\n",
    "    \n",
    "x, y, z = np.array(x)/AU, np.array(y)/AU, np.array(z)/AU"
   ]
  },
  {
   "cell_type": "markdown",
   "metadata": {
    "id": "rpH7Oz9CZXpm"
   },
   "source": [
    "Using NumPy instead of lists to store coordinates of the 2nd particle (the Earth). \n"
   ]
  },
  {
   "cell_type": "code",
   "execution_count": null,
   "metadata": {
    "id": "Jn9gGsh9ZXpm"
   },
   "outputs": [],
   "source": [
    "nsteps = 1000 # number of steps\n",
    "dt =  10 * yr / nsteps # time step\n",
    "\n",
    "x, y, z = np.zeros(nsteps), np.empty(nsteps), np.empty(nsteps)\n",
    "for n in range(nsteps):\n",
    "    r12 = ((x1-x2)**2 + (y1-y2)**2 + (z1-z2)**2)**0.5\n",
    "    ax1 = G * m2 / r12**3 * (x2 - x1)\n",
    "    ay1 = G * m2 / r12**3 * (y2 - y1)\n",
    "    az1 = G * m2 / r12**3 * (z2 - z1)\n",
    "    ax2 = G * m1 / r12**3 * (x1 - x2)\n",
    "    ay2 = G * m1 / r12**3 * (y1 - y2)\n",
    "    az2 = G * m1 / r12**3 * (z1 - z2)\n",
    "    x1  = x1 + vx1 * dt \n",
    "    y1  = y1 + vy1 * dt \n",
    "    z1  = z1 + vz1 * dt \n",
    "    x2  = x2 + vx2 * dt \n",
    "    y2  = y2 + vy2 * dt \n",
    "    z2  = z2 + vz2 * dt \n",
    "    vx1 = vx1 + ax1 * dt \n",
    "    vy1 = vy1 + ay1 * dt \n",
    "    vz1 = vz1 + az1 * dt \n",
    "    vx2 = vx2 + ax2 * dt \n",
    "    vy2 = vy2 + ay2 * dt \n",
    "    vz2 = vz2 + az2 * dt \n",
    "    x[n], y[n], z[n] = x2, y2, z2\n",
    "\n",
    "x, y, z = x/AU, y/AU, z/AU"
   ]
  },
  {
   "cell_type": "code",
   "execution_count": null,
   "metadata": {
    "id": "vtuA7GXVZXpm",
    "outputId": "3dcd6c0c-998f-44e5-d00b-e27f09ce12f5"
   },
   "outputs": [
    {
     "data": {
      "image/png": "[encoded data removed]",
      "text/plain": [
       "<Figure size 600x600 with 1 Axes>"
      ]
     },
     "metadata": {
      "needs_background": "light"
     },
     "output_type": "display_data"
    }
   ],
   "source": [
    "plt.figure(figsize=(3,3))\n",
    "plt.scatter(x[:100],y[:100], s=0.5)\n",
    "plt.show()"
   ]
  },
  {
   "cell_type": "markdown",
   "metadata": {
    "id": "DL5hwXwtZXpn"
   },
   "source": [
    "### <font color='darkblue'> Making multi-panel plots with Matplotlib "
   ]
  },
  {
   "cell_type": "code",
   "execution_count": null,
   "metadata": {
    "id": "5PFarH3yZXpn",
    "outputId": "cf403373-425e-41aa-8c56-a8ee20846885"
   },
   "outputs": [
    {
     "data": {
      "image/png": "[encoded data removed]",
      "text/plain": [
       "<Figure size 1400x600 with 2 Axes>"
      ]
     },
     "metadata": {
      "needs_background": "light"
     },
     "output_type": "display_data"
    }
   ],
   "source": [
    "from codes.plotting import plot_prettier\n",
    "plot_prettier()\n",
    "\n",
    "fig, ax = plt.subplots(1, 2, figsize=(7,3)) # define sub-panels\n",
    "fig.subplots_adjust(wspace=0.4)\n",
    "\n",
    "r = (x**2 + y**2 + z**2)**0.5\n",
    "ax[0].plot(x,y)\n",
    "ax[0].set_ylabel('Y (AU)') # add labels to axes\n",
    "ax[0].set_xlabel('X (AU)')\n",
    "ax[1].plot(np.arange(nsteps)*dt/yr, r)\n",
    "ax[1].set_xlabel('$t\\ (years)$')\n",
    "ax[1].set_ylabel('$R\\ (AU)$')\n",
    "plt.show()"
   ]
  },
  {
   "cell_type": "markdown",
   "metadata": {
    "id": "y8_N8emDZXpo"
   },
   "source": [
    "### <font color='darkblue'>What's going on here? "
   ]
  },
  {
   "cell_type": "markdown",
   "metadata": {
    "id": "rpe827AK0iyu"
   },
   "source": [
    "### <font color='darkblue'>1st order Kick-Drift (KD) scheme\n",
    "    \n",
    "equations are written for $x$ component only and would be similar for $y$ and $z$ components, acceleration is computed using positions at $t=t_n$. \n",
    "    \n",
    "Compute acceleration using positions at $t_n$ and update velocity (**kick**). Then use the updated velocity to update positions (**drift**). \n",
    "\n",
    "**Kick:**\n",
    "    \n",
    "$$v_{x,n+1} = v_{x,n}+g_{x,n}\\Delta t,\\ \\ \\ \\ v_{y,n+1}=\\ldots$$\n",
    "\n",
    "    \n",
    "**Drift:**\n",
    "    \n",
    "$$x_{n+1} = x_{n}+ v_{x,n+1}\\Delta t,\\ \\ \\ \\ y_{n+1}=\\ldots$$\n",
    "\n",
    "    \n",
    "Below is the version implementing this scheme. It is only different from the Euler scheme by location of the velocity update\n"
   ]
  },
  {
   "cell_type": "code",
   "execution_count": null,
   "metadata": {
    "id": "hHvPPMaCZXpo"
   },
   "outputs": [],
   "source": [
    "nsteps = 1000 # number of steps\n",
    "dt =  10 * yr / nsteps # time step\n",
    "\n",
    "x, y, z = [], [], [] # lists to record positions of the Earth during time steps  \n",
    "for n in range(nsteps):\n",
    "    r12 = ((x1-x2)**2 + (y1-y2)**2 + (z1-z2)**2)**0.5\n",
    "    ax1 = G * m2 / r12**3 * (x2 - x1)\n",
    "    ay1 = G * m2 / r12**3 * (y2 - y1)\n",
    "    az1 = G * m2 / r12**3 * (z2 - z1)\n",
    "    ax2 = G * m1 / r12**3 * (x1 - x2)\n",
    "    ay2 = G * m1 / r12**3 * (y1 - y2)\n",
    "    az2 = G * m1 / r12**3 * (z1 - z2)\n",
    "    # kick\n",
    "    vx1 = vx1 + ax1 * dt \n",
    "    vy1 = vy1 + ay1 * dt \n",
    "    vz1 = vz1 + az1 * dt \n",
    "    vx2 = vx2 + ax2 * dt \n",
    "    vy2 = vy2 + ay2 * dt \n",
    "    vz2 = vz2 + az2 * dt \n",
    "    # drift \n",
    "    x1  = x1 + vx1 * dt \n",
    "    y1  = y1 + vy1 * dt \n",
    "    z1  = z1 + vz1 * dt \n",
    "    x2  = x2 + vx2 * dt \n",
    "    y2  = y2 + vy2 * dt \n",
    "    z2  = z2 + vz2 * dt \n",
    "    x.append(x2)\n",
    "    y.append(y2)\n",
    "    z.append(z2)\n",
    "    \n",
    "x, y, z = np.array(x)/AU, np.array(y)/AU, np.array(z)/AU"
   ]
  },
  {
   "cell_type": "markdown",
   "metadata": {
    "id": "_8DSbPdIZXpp"
   },
   "source": [
    "### <font color='darkblue'>1st order Drift-Kick (DK) scheme\n",
    "    \n",
    "equations are written for $x$ component only and would be similar for $y$ and $z$ components, acceleration is computed using positions at $t=t_n$ and is used to update velocity to $t_{n+1}$ (**drift**). The new velocity is then used to update position to $t_{n+1}$ (**kick**). : \n",
    "\n",
    "    \n",
    "**Drift:** \n",
    "    \n",
    "$$x_{n+1} = x_{n}+ v_{x,n}\\Delta t,\\ \\ \\ \\ y_{n+1}=\\ldots$$\n",
    "\n",
    "Compute acceleration using positions after drift (i.e. at $t_{n+1}$)\n",
    "    \n",
    "**Kick:** \n",
    "    \n",
    "$$v_{x,n+1} = v_{x,n}+g_{x,n+1}\\Delta t,\\ \\ \\ \\ v_{y,n+1}=\\ldots$$\n",
    "\n",
    "\n"
   ]
  },
  {
   "cell_type": "code",
   "execution_count": null,
   "metadata": {
    "id": "NwlEM92OZXpp"
   },
   "outputs": [],
   "source": [
    "nsteps = 1000 # number of steps\n",
    "dt =  10 * yr / nsteps # time step\n",
    "\n",
    "x, y, z = [], [], [] # lists to record positions of the Earth during time steps  \n",
    "for n in range(nsteps):\n",
    "    # drift \n",
    "    x1  = x1 + vx1 * dt \n",
    "    y1  = y1 + vy1 * dt \n",
    "    z1  = z1 + vz1 * dt \n",
    "    x2  = x2 + vx2 * dt \n",
    "    y2  = y2 + vy2 * dt \n",
    "    z2  = z2 + vz2 * dt \n",
    "    # compute acceleration at t_{n+1}\n",
    "    r12 = ((x1-x2)**2 + (y1-y2)**2 + (z1-z2)**2)**0.5\n",
    "    ax1 = G * m2 / r12**3 * (x2 - x1)\n",
    "    ay1 = G * m2 / r12**3 * (y2 - y1)\n",
    "    az1 = G * m2 / r12**3 * (z2 - z1)\n",
    "    ax2 = G * m1 / r12**3 * (x1 - x2)\n",
    "    ay2 = G * m1 / r12**3 * (y1 - y2)\n",
    "    az2 = G * m1 / r12**3 * (z1 - z2)\n",
    "    # kick using new acceleration \n",
    "    vx1 = vx1 + ax1 * dt \n",
    "    vy1 = vy1 + ay1 * dt \n",
    "    vz1 = vz1 + az1 * dt \n",
    "    vx2 = vx2 + ax2 * dt \n",
    "    vy2 = vy2 + ay2 * dt \n",
    "    vz2 = vz2 + az2 * dt \n",
    "    x.append(x2)\n",
    "    y.append(y2)\n",
    "    z.append(z2)\n",
    "    \n",
    "x, y, z = np.array(x)/AU, np.array(y)/AU, np.array(z)/AU"
   ]
  },
  {
   "cell_type": "markdown",
   "metadata": {
    "id": "aKyR7-1-ZXpq"
   },
   "source": [
    "***Note:*** the key feature of these schemes is that they don't update coordinates and velocities using accelerations at $t_n$. Rather, they update either coordinates or velocity components first to $t_{n+1}$ time, and then use the updated value to update the other quantity. \n",
    "\n",
    "Although as you saw, this only amounts to moving a few lines of code around this has dramatic effect on the accuracy of the calculation. \n",
    "\n",
    "The reason for this is that DK, KD, and other similar schemes, such as DKD, belong to o class of ***symplectic*** schemes, which happen to preserve a key property of physical systems - ***conservation of energy*** (roughly speaking). \n",
    "\n",
    "Although this material is advanced, for those of you who want to dive deeper into the origin of their superior performance, read Section 2.3.12 on pages 48-50 in these <a href=\"https://astro.uchicago.edu/~andrey/classes/a330/notes.pdf\">notes</a>. "
   ]
  },
  {
   "cell_type": "markdown",
   "metadata": {
    "id": "DKnvBnRt0iyz"
   },
   "source": [
    "### <font color='darkblue'>2nd order Drift-Kick-Drift (DKD) scheme \n",
    "\n",
    "\\begin{eqnarray}\n",
    "&D:& \\ \\ \\vec{x}_{n+1/2} = \\vec{x}_{n}+v_{n}\\,\\frac{\\Delta t}{2},\\\\\n",
    "&K:& \\ \\ \\vec{v}_{n+1}=\\vec{v}_n + \\vec{g}_{n+1/2}\\, \\Delta t, \\\\\n",
    "&D:& \\ \\ \\vec{x}_{n+1} = \\vec{x}_{n+1/2}+v_{n+1}\\,\\Delta t/2,\\nonumber\\\\\n",
    "\\end{eqnarray}\n",
    "\n",
    "\n",
    "Still uses only one acceleration evaluation per step, but requires initialization of positions or velocities half a step behind or forward. "
   ]
  },
  {
   "cell_type": "markdown",
   "metadata": {
    "id": "PXOTLr-1ZXpq"
   },
   "source": [
    "**Note:** the scheme is called \"2nd order\" because its *truncation error* $\\epsilon_{\\rm trunc}$ decreases as $\\Delta t^3$ with decreasing $\\Delta t$, compared to $\\Delta t^3$ for the first order schemes. \n",
    "\n",
    "The overall error after many integration steps decreases as $\\Delta t^2$ with decreasing $\\Delta t$ for the 2nd order schemes, and as $\\Delta t$ for the 1st order schemes. \n"
   ]
  },
  {
   "cell_type": "markdown",
   "metadata": {
    "id": "WvI4SzkU0iy0"
   },
   "source": [
    "\n",
    "### <font color='darkblue'>DKD scheme is also called interchangeable either \"leapfrog\" or Verlet scheme\n",
    "\n",
    "<img width=300 src=\"https://www.particleincell.com/wp-content/uploads/2010/11/pic_leapfrog.png\"></img>\n",
    "\n",
    "In practice, this scheme is employed with positions and momenta kept at different time slices, half a step from each other. The velocities and positions \"leap-frog\" each other, hence the name of the scheme: *leapfrog* integration (this scheme is also known as *the Verlet scheme* in Physics and molecular dynamics areas). \n"
   ]
  },
  {
   "cell_type": "markdown",
   "metadata": {
    "id": "V3mIvRUU0iy1"
   },
   "source": [
    "### <font color='darkblue'> Symplectic DKD scheme is the most accurate scheme that uses only one acceleration calculation per time step\n",
    "    \n",
    "\n",
    "\n",
    "* More accurate schemes exist, but they require more calculations per step. \n",
    "    \n",
    "    \n",
    "* Step size control is also critical in some $N$-body integration problem, especially those that involve close encounters and strong gravitational interactions. Symplectic schemes for adaptive step sizes exist. "
   ]
  },
  {
   "cell_type": "markdown",
   "metadata": {
    "id": "zhqB52jRZXpq"
   },
   "source": [
    "### <font color='darkblue'>Integration of orbits of $N$ particles interacting gravitationally\n",
    "    \n",
    "    \n",
    "Consider $N$ particles interacting gravitationally. We will label each particle with an index $i$ running from 0 to $N-1$. \n",
    "A particle with index $i$ has \"Cartesian\" coordinates $x_i$, $y_i$, $z_i$ and velocity components $v_{x,i}$, $v_{y,i}$, $v_{z,i}$. These are usually combined into *vectors* $\\vec{r}_i=[x_i, y_i, z_i]$ and $\\vec{v}_i=[v_{x,i}, v_{y,i}, v_{z,i}]$.\n",
    "    \n",
    "This particle is subject to gravitational forces from all other particles (except for itself): \n",
    "    \n",
    "$$\\frac{d\\vec{r}_i}{dt} = \\vec{v}_i;\\ \\ \\ \\ \\frac{d\\vec{v}_i}{dt}=\\vec{g}_i\\ \\ \\ i\\in [0,N-1]$$\n",
    "\n",
    "where $\\vec{g}_i$ is vector of acceleration for a body at $\\vec{r}_i$, which is determined by gravitational force from all the other bodies in the system:\n",
    "\n",
    "$$\\vec{g}_i=-G\\sum\\limits_{j=0,j\\ne i}^{N-1} \\frac{m_j}{r^3_{ij}}\\,\\vec{r}_{ij},$$\n",
    "        \n",
    "and where $\\vec{r}_{ij}$ is the vector from location of body $i$ to body $j$ with magnitude given by the corresponding distance: \n",
    "    \n",
    "$$r_{ij}=\\left[(x_i-x_j)^2 + (y_i-y_j)^2 +(z_i-z_j)^2 \\right]^{1/2}.$$\n",
    "    "
   ]
  },
  {
   "cell_type": "markdown",
   "metadata": {
    "id": "tLx-9tFWZXpr"
   },
   "source": [
    "The same equations explicitly for each of the components are:\n",
    "    \n",
    "$$\\frac{dx_i}{dt} = v_{x,i};\\ \\ \\ \\ \\ \\frac{dy_i}{dt} = v_{y,i};\\ \\ \\ \\ \\  \\frac{dz_i}{dt} = v_{z,i};$$\n",
    "\n",
    "$$\\frac{v_{x,i}}{dt}=g_{x,i}\\ \\ \\ \\ \\frac{{v}_{y,i}}{dt}=g_{y,i}\\ \\ \\ \\ \\frac{{v}_{z,i}}{dt}=g_{z,i}$$\n",
    "\n",
    "The only thing that changes is that now we may have to deal with many particles, so writing code the way we did before will not work and accelerations have to computed by summation of forces from all other particles via a loop. \n",
    "\n",
    "$$g_{x,i}=-G\\sum\\limits_{j=0,j\\ne i}^{N-1} \\frac{m_j}{r^3_{ij}}\\,(x_{j}-x_{i}),$$\n",
    "\n",
    "$$g_{y,i}=-G\\sum\\limits_{j=0,j\\ne i}^{N-1} \\frac{m_j}{r^3_{ij}}\\,(y_{j}-y_{i}),$$\n",
    "\n",
    "$$g_{z,i}=-G\\sum\\limits_{j=0,j\\ne i}^{N-1} \\frac{m_j}{r^3_{ij}}\\,(z_{j}-z_{i}),$$\n"
   ]
  },
  {
   "cell_type": "markdown",
   "metadata": {
    "id": "oPnV6V9aZXpr"
   },
   "source": [
    "### <font color='darkblue'> Homework 1: Distributed today. Due next Wednesday, Apr 6, at 10pm.  \n",
    "    \n",
    "* 1. Write code to evolve $N$ gravitationally interacting particles and test it \n",
    "\n",
    "    \n",
    "* 2. Apply it to model motion of star and 2 planets in the exoplanet system [exoplanet system Gliese 876](https://planet.fandom.com/wiki/Gliese_876) and results and figures of a paper by [Laughlin et al. 2005](https://ui.adsabs.harvard.edu/abs/2005ApJ...622.1182L/abstract)."
   ]
  },
  {
   "cell_type": "markdown",
   "metadata": {
    "id": "7aZBmxITZXpr"
   },
   "source": [
    "\n",
    "<p>\n",
    "<center>\n",
    "<img width=700 src=\"https://vignette.wikia.nocookie.net/planetpedia/images/9/9a/Gliese_876_b.jpg/revision/latest/scale-to-width-down/2000?cb=20110512032028\"></img>"
   ]
  },
  {
   "cell_type": "markdown",
   "metadata": {
    "id": "TeOs56GqZXpr",
    "slideshow": {
     "slide_type": "slide"
    }
   },
   "source": [
    "### <font color='darkblue'> Namely, the goal is to reproduce these figures \n",
    "\n",
    "    \n",
    "<img width=700 src=\"https://astro.uchicago.edu/~andrey/classes/a211/img/laughlin05_fig12.png\">Fig 1 and Fig 2</img>"
   ]
  },
  {
   "cell_type": "markdown",
   "metadata": {
    "id": "zqgOqusTZXps"
   },
   "source": [
    "### <font color='darkblue'> Numerical integration"
   ]
  },
  {
   "cell_type": "markdown",
   "metadata": {
    "id": "pZiEDLsmZXps"
   },
   "source": [
    "Example of how arrays for N particles can be initialized. In this case N=2 for a test of circular motion considered previously. "
   ]
  },
  {
   "cell_type": "code",
   "execution_count": null,
   "metadata": {
    "id": "YFWspWXIZXps"
   },
   "outputs": [],
   "source": [
    "N = 2\n",
    "# the next 3 lines will work as initialization for any N\n",
    "x = np.empty((N,3))\n",
    "v = np.zeros_like(x)\n",
    "m = np.empty(N)\n",
    "\n",
    "# initialization with specific values is problem specific and so is specific to a given N value\n",
    "# this is initialization for 2 particle test with the \"Earth\" on a circular orbit around the Sun\n",
    "x[0,:] = 0., 0., 0. # coordinates of the Sun\n",
    "x[1,:] =  AU, 0., 0. # coordinates of the Earth \n",
    "\n",
    "v[0,:] = 0., 0., 0. # initial velocity of the Sun\n",
    "v[1,:] = 0., vcirc, 0. # initial velocity of the Earth \n",
    "\n",
    "m[:] = msun, mearth # masses "
   ]
  },
  {
   "cell_type": "markdown",
   "metadata": {
    "id": "rwV8yEzSZXps"
   },
   "source": [
    "The beauty of this is that this code will work for any $N$ (as long as arrays fit into available RAM). "
   ]
  },
  {
   "cell_type": "code",
   "execution_count": null,
   "metadata": {
    "id": "xHzfFjNAZXps"
   },
   "outputs": [],
   "source": [
    "nsteps = 100000 # number of steps\n",
    "dt =  10 * yr / nsteps # time step\n"
   ]
  },
  {
   "cell_type": "markdown",
   "metadata": {
    "id": "MFxBuIizZXps"
   },
   "source": [
    "Below is an example of how stepping can be arrange for the Euler scheme. You should implement your own acceleration calculation in acc_func. "
   ]
  },
  {
   "cell_type": "code",
   "execution_count": null,
   "metadata": {
    "id": "wJg7GKkkZXps"
   },
   "outputs": [],
   "source": [
    "nsteps = 100000 # number of steps\n",
    "dt =  10 * yr / nsteps # time step\n",
    "\n",
    "xt = np.zeros((nsteps,N,3))\n",
    "vt = np.zeros_like(xt)\n",
    "for n in range(nsteps):\n",
    "    acc = acc_func(x, m)\n",
    "    x = x + v * dt \n",
    "    v = v + acc * dt \n",
    "    xt[n] = x\n",
    "    vt[n] = v\n",
    "    \n",
    "xt /= AU # convert x to AU\n"
   ]
  },
  {
   "cell_type": "code",
   "execution_count": null,
   "metadata": {
    "id": "G9Xhu_JMZXpt"
   },
   "outputs": [],
   "source": [
    "def acc_func(x, m):\n",
    "    \"\"\"\n",
    "    x - numpy array of shape (N,3) containing coordinates of N particles in cm\n",
    "    m - numpy 1d array of size N containing masses of particles in grams\n",
    "    \n",
    "    Returns\n",
    "    accelerations in numpy array of shape (N,3)\n",
    "    implement your own function here \n",
    "    \n",
    "    \"\"\"\n",
    "    acc = np.empty_like(x)\n",
    "    return acc"
   ]
  },
  {
   "cell_type": "code",
   "execution_count": null,
   "metadata": {
    "id": "Jchb04SeZXpt",
    "outputId": "736ca4d2-9aac-4c06-8ed9-36492dd446fd"
   },
   "outputs": [
    {
     "data": {
      "image/png": "[encoded data removed]",
      "text/plain": [
       "<Figure size 600x600 with 1 Axes>"
      ]
     },
     "metadata": {
      "needs_background": "light"
     },
     "output_type": "display_data"
    }
   ],
   "source": [
    "\n",
    "\n",
    "plt.figure(figsize=(3,3))\n",
    "plt.plot(xt[:,1,0],xt[:,1,1])\n",
    "plt.show()"
   ]
  }
 ],
 "metadata": {
  "celltoolbar": "Slideshow",
  "colab": {
   "name": "02_orbit_integration_class.ipynb",
   "provenance": []
  },
  "kernelspec": {
   "display_name": "Python 3 (ipykernel)",
   "language": "python",
   "name": "python3"
  },
  "language_info": {
   "codemirror_mode": {
    "name": "ipython",
    "version": 3
   },
   "file_extension": ".py",
   "mimetype": "text/x-python",
   "name": "python",
   "nbconvert_exporter": "python",
   "pygments_lexer": "ipython3",
   "version": "3.9.1"
  }
 },
 "nbformat": 4,
 "nbformat_minor": 1
}
