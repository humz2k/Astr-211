{
 "cells": [
  {
   "cell_type": "markdown",
   "metadata": {
    "id": "zmY0Z-ycAaEE"
   },
   "source": [
    "##  <font color='darkblue'>Notes on numpy and optimization\n",
    "\n",
    "A nice numpy tutorial can be found in Chapter 2 of this <a href=\"https://jakevdp.github.io/PythonDataScienceHandbook/\">online book</a> and some basics are also covered in this <a href=\"https://github.com/HarvardOpenData/numpy-pandas-bootcamp/blob/master/numpy_pandas_tutorial.ipynb\">short tutorial.</a>\n",
    "\n",
    "Below are examples of the numpy functions I often use. "
   ]
  },
  {
   "cell_type": "code",
   "execution_count": 2,
   "metadata": {
    "id": "NgPuppMUAaEL"
   },
   "outputs": [],
   "source": [
    "# import numpy\n",
    "import numpy as np"
   ]
  },
  {
   "cell_type": "markdown",
   "metadata": {},
   "source": [
    "## <font color='darkblue'>\"Shape\" of NumPy arrays</font>\n",
    "\n",
    "The list of dimensions of an array is called \"shape\" in NumPy jargon. \n",
    "\n",
    "Dimensions themselves are called \"axes\" in NumPy. So dimension 0 is axis 0. \n",
    "\n",
    "\n",
    "So a 1D array with 5 elements has shape of <tt>(5)</tt>, 2D array with 4 rows and 3 columns has shape of <tt>(4,3)</tt>, etc. "
   ]
  },
  {
   "cell_type": "code",
   "execution_count": 66,
   "metadata": {},
   "outputs": [
    {
     "name": "stdout",
     "output_type": "stream",
     "text": [
      "(5,) (5,)\n",
      "(4, 3) (4, 3)\n"
     ]
    }
   ],
   "source": [
    "arr = np.array([1, 2.0, 3, 4, 5])\n",
    "\n",
    "# there are two alternative ways to get array shape\n",
    "print(arr.shape, np.shape(arr))\n",
    "\n",
    "# a 2D array with 4 rows and 3 columns\n",
    "arr = np.array([[0,0,0], [1, 2, 3], [4, 5, 6], [7, 8, 9]])\n",
    "print(arr.shape, np.shape(arr))"
   ]
  },
  {
   "cell_type": "markdown",
   "metadata": {},
   "source": [
    "We can re-arrange elements of an array into a different \"shape\". For example, I can rearrange a 1D array of 9 elements into a 2D array of 3 rows and 3 columns (still 9 elements total, as the number of elements must be preserved in reshaping!). "
   ]
  },
  {
   "cell_type": "code",
   "execution_count": 67,
   "metadata": {},
   "outputs": [
    {
     "name": "stdout",
     "output_type": "stream",
     "text": [
      "(9,)\n",
      "[1 2 3 4 5 6 7 8 9]\n",
      "(3, 3)\n",
      "[[1 2 3]\n",
      " [4 5 6]\n",
      " [7 8 9]]\n"
     ]
    }
   ],
   "source": [
    "arr = np.array([1, 2, 3, 4, 5, 6, 7, 8, 9])\n",
    "print(arr.shape)\n",
    "print(arr)\n",
    "\n",
    "arr = arr.reshape((3,3))\n",
    "\n",
    "print(arr.shape)\n",
    "print(arr)"
   ]
  },
  {
   "cell_type": "markdown",
   "metadata": {},
   "source": [
    "If I am trying to reshape an array into \"shape\" with different number of elements, an error will be generated. "
   ]
  },
  {
   "cell_type": "code",
   "execution_count": 71,
   "metadata": {},
   "outputs": [
    {
     "ename": "ValueError",
     "evalue": "cannot reshape array of size 10 into shape (3,3)",
     "output_type": "error",
     "traceback": [
      "\u001b[1;31m---------------------------------------------------------------------------\u001b[0m",
      "\u001b[1;31mValueError\u001b[0m                                Traceback (most recent call last)",
      "\u001b[1;32m<ipython-input-71-697cb4a7c412>\u001b[0m in \u001b[0;36m<module>\u001b[1;34m\u001b[0m\n\u001b[0;32m      3\u001b[0m \u001b[1;33m\u001b[0m\u001b[0m\n\u001b[0;32m      4\u001b[0m \u001b[1;31m# so I cannot reshape it into an array with 9 elements\u001b[0m\u001b[1;33m\u001b[0m\u001b[1;33m\u001b[0m\u001b[1;33m\u001b[0m\u001b[0m\n\u001b[1;32m----> 5\u001b[1;33m \u001b[0marr\u001b[0m \u001b[1;33m=\u001b[0m \u001b[0marr\u001b[0m\u001b[1;33m.\u001b[0m\u001b[0mreshape\u001b[0m\u001b[1;33m(\u001b[0m\u001b[1;33m(\u001b[0m\u001b[1;36m3\u001b[0m\u001b[1;33m,\u001b[0m\u001b[1;36m3\u001b[0m\u001b[1;33m)\u001b[0m\u001b[1;33m)\u001b[0m\u001b[1;33m\u001b[0m\u001b[1;33m\u001b[0m\u001b[0m\n\u001b[0m",
      "\u001b[1;31mValueError\u001b[0m: cannot reshape array of size 10 into shape (3,3)"
     ]
    }
   ],
   "source": [
    "# this is an array of 10 elements\n",
    "arr = np.array([0, 1, 2, 3, 4, 5, 6, 7, 8, 9])\n",
    "\n",
    "# so I cannot reshape it into an array with 9 elements\n",
    "arr = arr.reshape((3,3))"
   ]
  },
  {
   "cell_type": "markdown",
   "metadata": {
    "id": "J7k0LoZ0AaEM"
   },
   "source": [
    "###  <font color='darkblue'>Array initialization"
   ]
  },
  {
   "cell_type": "code",
   "execution_count": null,
   "metadata": {
    "id": "h5aa4svGAaEM"
   },
   "outputs": [],
   "source": [
    "N1, N2 = 100, 100\n",
    "# initialize a vector of size N1 filled with zeroes\n",
    "z1 = np.zeros(N1)\n",
    "z2 =np.zeros_like(z1) # array with the same dimensions as z1 filled with 0.\n",
    "# the same but filled with ones\n",
    "o1 = np.ones(N1)\n",
    "o2 = np.ones_like(o1) # array with the same dimensions as o1 filled with 1.0\n",
    "# initialize a 2D array of size (N1, N2)\n",
    "a1 = np.empty((N1,N2))\n",
    "a2 = np.empty_like(a1)"
   ]
  },
  {
   "cell_type": "code",
   "execution_count": null,
   "metadata": {
    "id": "7PmMhNwSAaEM",
    "outputId": "3f5ecb99-f2c7-4fc9-8588-dfe0e851591a"
   },
   "outputs": [
    {
     "name": "stdout",
     "output_type": "stream",
     "text": [
      "10000 (100, 100)\n",
      "[1.15131363e-311 0.00000000e+000 0.00000000e+000 0.00000000e+000\n",
      " 0.00000000e+000 0.00000000e+000 0.00000000e+000 0.00000000e+000\n",
      " 0.00000000e+000 0.00000000e+000]\n"
     ]
    }
   ],
   "source": [
    "# size and shape of the array\n",
    "print(np.size(a2), np.shape(a2))\n",
    "# print 10 elements of the array\n",
    "print(a2[:10,0])"
   ]
  },
  {
   "cell_type": "code",
   "execution_count": null,
   "metadata": {
    "id": "_hcjSGVNAaEN",
    "outputId": "a41a32b1-7211-4b2c-cb4d-4b7c5865e6c5"
   },
   "outputs": [
    {
     "name": "stdout",
     "output_type": "stream",
     "text": [
      "[[9.9999 9.9999 9.9999]\n",
      " [9.9999 9.9999 9.9999]\n",
      " [9.9999 9.9999 9.9999]]\n"
     ]
    }
   ],
   "source": [
    "# initialize an array of given dimensions filled with specified number\n",
    "f = np.full((3, 3), 9.9999)\n",
    "print(f)"
   ]
  },
  {
   "cell_type": "code",
   "execution_count": null,
   "metadata": {
    "id": "gGsxFfTkAaEO"
   },
   "outputs": [],
   "source": [
    "# initialize a2 array of 64-bit integer type\n",
    "i2 = np.empty((N1,N2), dtype=np.int64)"
   ]
  },
  {
   "cell_type": "code",
   "execution_count": null,
   "metadata": {
    "id": "rXgT_uk7AaEO",
    "outputId": "cd6e49dd-27ed-47b8-fe26-f1d82ee6b050"
   },
   "outputs": [
    {
     "name": "stdout",
     "output_type": "stream",
     "text": [
      "[[0 1 2]\n",
      " [3 4 5]\n",
      " [6 7 8]]\n"
     ]
    }
   ],
   "source": [
    "# numpy vectors can be reshaped, which is often useful in initialization\n",
    "r = np.arange(9).reshape(3,3)\n",
    "print(r)"
   ]
  },
  {
   "cell_type": "markdown",
   "metadata": {
    "id": "2Xkq-OJmAaEO"
   },
   "source": [
    "See more on numpy data types <a href=\"https://numpy.org/devdocs/user/basics.types.html\">here</a>. Full list of array initialization routines can be found <a href=\"https://docs.scipy.org/doc/numpy-1.13.0/reference/routines.array-creation.html\">here.</a> "
   ]
  },
  {
   "cell_type": "markdown",
   "metadata": {
    "id": "ZKjqOYnxAaEO"
   },
   "source": [
    "### <font color='darkblue'> Efficient indexing (aka slicing) of numpy array and lists\n",
    "\n",
    "See <a href=\"https://numpy.org/devdocs/user/basics.indexing.html\">for a concise introduction</a>"
   ]
  },
  {
   "cell_type": "code",
   "execution_count": null,
   "metadata": {
    "id": "IHEWoj5DAaEP",
    "outputId": "1869dd13-c5c2-4864-8258-d50653f018d2"
   },
   "outputs": [
    {
     "name": "stdout",
     "output_type": "stream",
     "text": [
      "0 99\n",
      "[0 1 2 3 4 5 6 7 8 9]\n",
      "[10 11 12 13 14 15 16 17 18 19 20 21 22 23 24 25 26 27 28 29 30 31 32 33\n",
      " 34 35 36 37 38 39 40 41 42 43 44 45 46 47 48 49 50 51 52 53 54 55 56 57\n",
      " 58 59 60 61 62 63 64 65 66 67 68 69 70 71 72 73 74 75 76 77 78 79 80 81\n",
      " 82 83 84 85 86 87 88 89 90 91 92 93 94 95 96 97 98 99]\n",
      "[90 91 92 93 94 95 96 97 98 99]\n",
      "[ 0  5 10 15 20 25 30 35 40 45 50 55 60 65 70 75 80 85 90 95]\n",
      "[99 94 89 84 79 74 69 64 59 54 49 44 39 34 29 24 19 14  9  4]\n",
      "[ 1  6 11 16 21 26 31 36 41 46]\n"
     ]
    }
   ],
   "source": [
    "x = np.arange(100)\n",
    "print(x[0], x[-1]) # the first and last elements\n",
    "print(x[:10]) # first 10 elements\n",
    "print(x[10:]) # 10th and all elements after \n",
    "print(x[-10:]) # last 10 elements\n",
    "print(x[::5]) # every 5th element\n",
    "print(x[::-5]) # every 5th element starting from last down to the first\n",
    "print(x[1:50:5]) # every 5th element starting from 2nd and until 50th"
   ]
  },
  {
   "cell_type": "markdown",
   "metadata": {
    "id": "EF3Cc2WvAaEP"
   },
   "source": [
    "For multi-dimensional array, each individual dimension can be indexed like in the examples above. "
   ]
  },
  {
   "cell_type": "markdown",
   "metadata": {
    "id": "TdZnz8xiAaEP"
   },
   "source": [
    "The following slicing operation is particularly useful in many situations, as it reverses the order of elements in the array. "
   ]
  },
  {
   "cell_type": "code",
   "execution_count": null,
   "metadata": {
    "id": "Ir5tZVijAaEQ",
    "outputId": "ba7188f4-f02a-4a98-ca35-37c7796526f3"
   },
   "outputs": [
    {
     "name": "stdout",
     "output_type": "stream",
     "text": [
      "[99 98 97 96 95 94 93 92 91 90 89 88 87 86 85 84 83 82 81 80 79 78 77 76\n",
      " 75 74 73 72 71 70 69 68 67 66 65 64 63 62 61 60 59 58 57 56 55 54 53 52\n",
      " 51 50 49 48 47 46 45 44 43 42 41 40 39 38 37 36 35 34 33 32 31 30 29 28\n",
      " 27 26 25 24 23 22 21 20 19 18 17 16 15 14 13 12 11 10  9  8  7  6  5  4\n",
      "  3  2  1  0]\n"
     ]
    }
   ],
   "source": [
    "print(x[::-1])"
   ]
  },
  {
   "cell_type": "code",
   "execution_count": 93,
   "metadata": {},
   "outputs": [
    {
     "name": "stdout",
     "output_type": "stream",
     "text": [
      "[5. 4. 3. 2. 1.]\n"
     ]
    }
   ],
   "source": [
    "arr = np.array([1, 2.0, 3, 4, 5])\n",
    "\n",
    "# scan through list or array elements in reverse order\n",
    "print(arr[::-1]) "
   ]
  },
  {
   "cell_type": "code",
   "execution_count": 95,
   "metadata": {
    "slideshow": {
     "slide_type": "skip"
    }
   },
   "outputs": [
    {
     "data": {
      "text/plain": [
       "(array([1., 3., 5.]), array([5., 3., 1.]))"
      ]
     },
     "execution_count": 95,
     "metadata": {},
     "output_type": "execute_result"
    }
   ],
   "source": [
    "arr[::2], arr[::-2] # scan with step of 2, scan with step 2 in reverse order"
   ]
  },
  {
   "cell_type": "code",
   "execution_count": 30,
   "metadata": {
    "slideshow": {
     "slide_type": "-"
    }
   },
   "outputs": [
    {
     "data": {
      "text/plain": [
       "array(['3', '4', '5'], dtype='<U32')"
      ]
     },
     "execution_count": 30,
     "metadata": {},
     "output_type": "execute_result"
    }
   ],
   "source": [
    "arr[2:] # select starting from the 3rd element"
   ]
  },
  {
   "cell_type": "code",
   "execution_count": 31,
   "metadata": {
    "slideshow": {
     "slide_type": "-"
    }
   },
   "outputs": [
    {
     "data": {
      "text/plain": [
       "array(['1', '2.0', '3'], dtype='<U32')"
      ]
     },
     "execution_count": 31,
     "metadata": {},
     "output_type": "execute_result"
    }
   ],
   "source": [
    "arr[:-2] # select starting from the 3rd to last element"
   ]
  },
  {
   "cell_type": "markdown",
   "metadata": {
    "slideshow": {
     "slide_type": "slide"
    }
   },
   "source": [
    "Lists can be changed at any point (they are \"mutable\" in programming jargon):"
   ]
  },
  {
   "cell_type": "code",
   "execution_count": 32,
   "metadata": {
    "slideshow": {
     "slide_type": "-"
    }
   },
   "outputs": [
    {
     "data": {
      "text/plain": [
       "array(['1', '2.0', '3', '4', 'five'], dtype='<U32')"
      ]
     },
     "execution_count": 32,
     "metadata": {},
     "output_type": "execute_result"
    }
   ],
   "source": [
    "arr[4] = 'five'\n",
    "arr"
   ]
  },
  {
   "cell_type": "markdown",
   "metadata": {},
   "source": [
    "We can generate a list of consecutive numbers from n1 to n2-1 with some step s as follows"
   ]
  },
  {
   "cell_type": "code",
   "execution_count": 25,
   "metadata": {},
   "outputs": [
    {
     "name": "stdout",
     "output_type": "stream",
     "text": [
      "[0 1 2 3 4 5 6 7 8 9]\n",
      "[10 20 30 40 50 60 70 80 90]\n"
     ]
    }
   ],
   "source": [
    "n1, n2, s = 0, 10, 1\n",
    "consecutive_numbers = np.arange(n2) # in this case n1 and s can be ommitted as 0 and 1 are their default values\n",
    "print(consecutive_numbers)\n",
    "\n",
    "n1, n2, s = 10, 100, 10\n",
    "consecutive_numbers = np.arange(n1, n2, s)\n",
    "print(consecutive_numbers)"
   ]
  },
  {
   "cell_type": "markdown",
   "metadata": {
    "slideshow": {
     "slide_type": "slide"
    }
   },
   "source": [
    "### <font color='darkblue'>\"Flattening\" NumPy arrays</font>\n",
    "\n",
    "We can turn a multi-dimensional NumPy array into 1-dimensional one (\"flatten\" it) using method <tt>flatten</tt>"
   ]
  },
  {
   "cell_type": "code",
   "execution_count": 86,
   "metadata": {
    "scrolled": true
   },
   "outputs": [
    {
     "name": "stdout",
     "output_type": "stream",
     "text": [
      "(9,)\n",
      "[1 2 3 4 5 6 7 8 9]\n",
      "(3, 3)\n",
      "(9,)\n"
     ]
    }
   ],
   "source": [
    "arr = np.array([1, 2, 3, 4, 5, 6, 7, 8, 9])\n",
    "print(arr.shape)\n",
    "print(arr)\n",
    "\n",
    "arr = arr.reshape((3,3))\n",
    "print(arr.shape)\n",
    "\n",
    "arr = arr.flatten()\n",
    "print(arr.shape)"
   ]
  },
  {
   "cell_type": "markdown",
   "metadata": {},
   "source": [
    "Flattening is useful because sometimes it's convenient to work with a multi-dimensional array, but sometimes we just want to plot or histogram all numbers in such array and this may need to be converted into 1-d array. "
   ]
  },
  {
   "cell_type": "markdown",
   "metadata": {
    "slideshow": {
     "slide_type": "slide"
    }
   },
   "source": [
    "### <font color='darkblue'>More on \"vector\" operations with NumPy arrays</font>"
   ]
  },
  {
   "cell_type": "code",
   "execution_count": 16,
   "metadata": {
    "scrolled": true,
    "slideshow": {
     "slide_type": "skip"
    }
   },
   "outputs": [
    {
     "name": "stdout",
     "output_type": "stream",
     "text": [
      "[ 7  9 11 13 15] [ 6 14 24 36 50] [0.16666667 0.28571429 0.375      0.44444444 0.5       ] [ 36  49  64  81 100]\n"
     ]
    }
   ],
   "source": [
    "import numpy as np \n",
    "\n",
    "a = [1, 2, 3, 4, 5] # this is a list\n",
    "b = [6, 7, 8, 9, 10] # another list\n",
    "\n",
    "# we cannot do c = a + b with lists, we need to sum list elements in a loop\n",
    "# or using a list comprehension\n",
    "c = []\n",
    "for i in range(len(a)):\n",
    "    c.append(a[i] + b[i])\n",
    "    \n",
    "    \n",
    "# however, if we convert a and b into numpy arrays\n",
    "a = [1, 2, 3, 4, 5]\n",
    "b = [6, 7, 8, 9, 10]\n",
    "a, b = np.array(a), np.array(b)\n",
    "# we can just sum the arrays or do other operations\n",
    "print(a+b, a*b, a/b, b**2)"
   ]
  },
  {
   "cell_type": "markdown",
   "metadata": {
    "slideshow": {
     "slide_type": "slide"
    }
   },
   "source": [
    "### <font color='darkblue'>Summing up only along certain dimensions of an array</font>\n",
    "\n",
    "Many NumPy functions allow to perform operations only for items along certain dimensions (axis) of a numpy array. \n",
    "\n"
   ]
  },
  {
   "cell_type": "code",
   "execution_count": 4,
   "metadata": {},
   "outputs": [
    {
     "name": "stdout",
     "output_type": "stream",
     "text": [
      "[[1 2 3]\n",
      " [4 5 6]\n",
      " [7 8 9]]\n",
      "[12 15 18]\n"
     ]
    }
   ],
   "source": [
    "arr = np.array([1, 2, 3, 4, 5, 6, 7, 8, 9])\n",
    "arr = arr.reshape((3,3))\n",
    "print(arr)\n",
    "\n",
    "# we can compute sum only along the first dimension\n",
    "\n",
    "print(np.sum(arr, axis=0))"
   ]
  },
  {
   "cell_type": "markdown",
   "metadata": {},
   "source": [
    "we can see that this created array with dimensions equal to the second dimension (3) filled with sums of the first dimension (1+4+7=12, 2+5+8=15, 3+6+9=18). \n",
    "\n",
    "We can also sum along second dimension:"
   ]
  },
  {
   "cell_type": "code",
   "execution_count": 5,
   "metadata": {},
   "outputs": [
    {
     "name": "stdout",
     "output_type": "stream",
     "text": [
      "[ 6 15 24]\n"
     ]
    }
   ],
   "source": [
    "print(np.sum(arr, axis=1))"
   ]
  },
  {
   "cell_type": "markdown",
   "metadata": {},
   "source": [
    "We can also perform operations on the array before summing: "
   ]
  },
  {
   "cell_type": "code",
   "execution_count": 7,
   "metadata": {},
   "outputs": [
    {
     "name": "stdout",
     "output_type": "stream",
     "text": [
      "[ 14  77 194]\n"
     ]
    }
   ],
   "source": [
    "print(np.sum(arr**2, axis=1))"
   ]
  },
  {
   "cell_type": "markdown",
   "metadata": {},
   "source": [
    "This first squared all elements of arr and then the squares along 2nd dimension were summed. "
   ]
  },
  {
   "cell_type": "markdown",
   "metadata": {
    "id": "65jZjuNBAaEQ"
   },
   "source": [
    "###  <font color='darkblue'>Generate a sequence or grid of numbers"
   ]
  },
  {
   "cell_type": "code",
   "execution_count": null,
   "metadata": {
    "id": "TjqhD5VFAaEQ",
    "outputId": "663d695f-e63f-4519-f9cc-49ebc781da52"
   },
   "outputs": [
    {
     "name": "stdout",
     "output_type": "stream",
     "text": [
      "[0.  0.1 0.2 0.3 0.4 0.5 0.6 0.7 0.8 0.9]\n",
      "[1.00000000e+00 1.29154967e+01 1.66810054e+02 2.15443469e+03\n",
      " 2.78255940e+04 3.59381366e+05 4.64158883e+06 5.99484250e+07\n",
      " 7.74263683e+08 1.00000000e+10]\n",
      "[1.00000000e+00 1.29154967e+01 1.66810054e+02 2.15443469e+03\n",
      " 2.78255940e+04 3.59381366e+05 4.64158883e+06 5.99484250e+07\n",
      " 7.74263683e+08 1.00000000e+10]\n",
      "[10 11 12 13 14 15 16 17 18 19]\n",
      "[10 12 14 16 18 20 22 24 26 28]\n"
     ]
    }
   ],
   "source": [
    "# generate a sequence of N equally spaced numbers from xmin to xmax\n",
    "xmin, xmax = 0., 100.\n",
    "N = 1000\n",
    "xg = np.linspace(xmin, xmax, N+1)\n",
    "print(xg[:10])\n",
    "#generate numbers equally spaced on log scale\n",
    "expg = np.linspace(0.,10, 10)\n",
    "xg = 10.**expg\n",
    "print(xg)\n",
    "# this is equivalent to \n",
    "xg = np.logspace(0.,10,10)\n",
    "print(xg)\n",
    "\n",
    "# generate a sequence of integers from N1 to N2-1\n",
    "ig = np.arange(10,100)\n",
    "print(ig[:10])\n",
    "# the same but generating numbers with increment of 2\n",
    "ig = np.arange(10,100,2)\n",
    "print(ig[:10])"
   ]
  },
  {
   "cell_type": "code",
   "execution_count": null,
   "metadata": {
    "id": "WRDLePPzAaEQ",
    "outputId": "7a432f57-d56a-414d-e1de-686d83c1804a",
    "scrolled": true
   },
   "outputs": [
    {
     "name": "stdout",
     "output_type": "stream",
     "text": [
      "Help on built-in function arange in module numpy:\n",
      "\n",
      "arange(...)\n",
      "    arange([start,] stop[, step,], dtype=None)\n",
      "    \n",
      "    Return evenly spaced values within a given interval.\n",
      "    \n",
      "    Values are generated within the half-open interval ``[start, stop)``\n",
      "    (in other words, the interval including `start` but excluding `stop`).\n",
      "    For integer arguments the function is equivalent to the Python built-in\n",
      "    `range` function, but returns an ndarray rather than a list.\n",
      "    \n",
      "    When using a non-integer step, such as 0.1, the results will often not\n",
      "    be consistent.  It is better to use `numpy.linspace` for these cases.\n",
      "    \n",
      "    Parameters\n",
      "    ----------\n",
      "    start : number, optional\n",
      "        Start of interval.  The interval includes this value.  The default\n",
      "        start value is 0.\n",
      "    stop : number\n",
      "        End of interval.  The interval does not include this value, except\n",
      "        in some cases where `step` is not an integer and floating point\n",
      "        round-off affects the length of `out`.\n",
      "    step : number, optional\n",
      "        Spacing between values.  For any output `out`, this is the distance\n",
      "        between two adjacent values, ``out[i+1] - out[i]``.  The default\n",
      "        step size is 1.  If `step` is specified as a position argument,\n",
      "        `start` must also be given.\n",
      "    dtype : dtype\n",
      "        The type of the output array.  If `dtype` is not given, infer the data\n",
      "        type from the other input arguments.\n",
      "    \n",
      "    Returns\n",
      "    -------\n",
      "    arange : ndarray\n",
      "        Array of evenly spaced values.\n",
      "    \n",
      "        For floating point arguments, the length of the result is\n",
      "        ``ceil((stop - start)/step)``.  Because of floating point overflow,\n",
      "        this rule may result in the last element of `out` being greater\n",
      "        than `stop`.\n",
      "    \n",
      "    See Also\n",
      "    --------\n",
      "    numpy.linspace : Evenly spaced numbers with careful handling of endpoints.\n",
      "    numpy.ogrid: Arrays of evenly spaced numbers in N-dimensions.\n",
      "    numpy.mgrid: Grid-shaped arrays of evenly spaced numbers in N-dimensions.\n",
      "    \n",
      "    Examples\n",
      "    --------\n",
      "    >>> np.arange(3)\n",
      "    array([0, 1, 2])\n",
      "    >>> np.arange(3.0)\n",
      "    array([ 0.,  1.,  2.])\n",
      "    >>> np.arange(3,7)\n",
      "    array([3, 4, 5, 6])\n",
      "    >>> np.arange(3,7,2)\n",
      "    array([3, 5])\n",
      "\n",
      "None\n"
     ]
    }
   ],
   "source": [
    "# you can always check help info for a given function\n",
    "print(help(np.arange))"
   ]
  },
  {
   "cell_type": "markdown",
   "metadata": {},
   "source": [
    "### <font color='darkblue'>Array assignment and copying NumPy arrays\n",
    "\n",
    "You may recall that if one list is assigned to another list, both list names are now referencing the same location in memory, so if elements in one list are changed, they will change in the other. For example: "
   ]
  },
  {
   "cell_type": "code",
   "execution_count": 41,
   "metadata": {},
   "outputs": [
    {
     "name": "stdout",
     "output_type": "stream",
     "text": [
      "[0, 1, 2, 3, 4]\n",
      "[0, 1, 2, 3, 40]\n"
     ]
    }
   ],
   "source": [
    "x = list(range(5))\n",
    "print(x)\n",
    "y = x\n",
    "y[-1] = 40\n",
    "print(x) # here we will see that x changed even though we did not explicitly change it"
   ]
  },
  {
   "cell_type": "markdown",
   "metadata": {},
   "source": [
    "This is also true for NumPy arrays: "
   ]
  },
  {
   "cell_type": "code",
   "execution_count": 40,
   "metadata": {
    "scrolled": true
   },
   "outputs": [
    {
     "name": "stdout",
     "output_type": "stream",
     "text": [
      "[0 1 2 3 4]\n",
      "[ 0  1  2  3 40]\n"
     ]
    }
   ],
   "source": [
    "x = np.array(list(range(5)))\n",
    "print(x)\n",
    "y = x\n",
    "y[-1] = 40\n",
    "print(x) # here we will see that x changed even though we did not explicitly change it"
   ]
  },
  {
   "cell_type": "markdown",
   "metadata": {},
   "source": [
    "To avoid this we can do a \"deep\" copy, which for lists looks like"
   ]
  },
  {
   "cell_type": "code",
   "execution_count": null,
   "metadata": {},
   "outputs": [],
   "source": [
    "y = x[:]"
   ]
  },
  {
   "cell_type": "markdown",
   "metadata": {},
   "source": [
    "and for NumPy arrays is"
   ]
  },
  {
   "cell_type": "code",
   "execution_count": null,
   "metadata": {},
   "outputs": [],
   "source": [
    "y = np.copy(x)"
   ]
  },
  {
   "cell_type": "code",
   "execution_count": 42,
   "metadata": {},
   "outputs": [
    {
     "name": "stdout",
     "output_type": "stream",
     "text": [
      "[0 1 2 3 4]\n",
      "[0 1 2 3 4]\n"
     ]
    }
   ],
   "source": [
    "x = np.array(list(range(5)))\n",
    "print(x)\n",
    "y = np.copy(x)\n",
    "y[-1] = 40\n",
    "print(x) # here we will see that x changed even though we did not explicitly change it"
   ]
  },
  {
   "cell_type": "markdown",
   "metadata": {},
   "source": [
    "**Note** that using a slicing operation on a list always creates a copy of this list in memory. Likewise, we can use slicing to copy only a subset of list elements: "
   ]
  },
  {
   "cell_type": "code",
   "execution_count": 35,
   "metadata": {},
   "outputs": [
    {
     "name": "stdout",
     "output_type": "stream",
     "text": [
      "[1, 2]\n"
     ]
    }
   ],
   "source": [
    "z = x[1:3]\n",
    "print(z)"
   ]
  },
  {
   "cell_type": "markdown",
   "metadata": {
    "id": "7PQPD8BPAaER"
   },
   "source": [
    "When numpy array is copied in this way no copy is created, a pointer to memory location is passed on and b array simply points to the same memory location as a. As you can see modifying b above modified the same element in a. "
   ]
  },
  {
   "cell_type": "code",
   "execution_count": null,
   "metadata": {
    "id": "XWk_RHydAaER",
    "outputId": "fc4e2ace-c2df-4b26-bdeb-9227a29b5bf8"
   },
   "outputs": [
    {
     "name": "stdout",
     "output_type": "stream",
     "text": [
      "25.1 ns ± 2.54 ns per loop (mean ± std. dev. of 7 runs, 100000000 loops each)\n",
      "1.95 µs ± 54.8 ns per loop (mean ± std. dev. of 7 runs, 1000000 loops each)\n"
     ]
    }
   ],
   "source": [
    "%timeit b = a\n",
    "%timeit b = np.copy(a)"
   ]
  },
  {
   "cell_type": "markdown",
   "metadata": {
    "id": "Ef5L2g9oAaES"
   },
   "source": [
    "The second operation, which involves copying, is 1000 times more expensive! \n",
    "but now b and a are independent arrays. \n",
    "\n",
    "**Lesson:** pass pointer to array where appropriate for speed, but use explicit copy if you want a truly independent array."
   ]
  },
  {
   "cell_type": "code",
   "execution_count": null,
   "metadata": {
    "id": "g_DxrkniAaES",
    "outputId": "8ee29200-290e-49dc-dc5e-e851307e201e"
   },
   "outputs": [
    {
     "name": "stdout",
     "output_type": "stream",
     "text": [
      "1.0\n",
      "0.0\n"
     ]
    }
   ],
   "source": [
    "b = np.copy(a)\n",
    "b[1][0] = 1\n",
    "print(b[1][0])\n",
    "print(a[1][0])"
   ]
  },
  {
   "cell_type": "markdown",
   "metadata": {
    "id": "4ShI-KbHAaES"
   },
   "source": [
    "###  <font color='darkblue'>Deep copy\n",
    "\n",
    "<tt>np.copy</tt> works for regular arrays vectors, but note that it does a \"shallow\" copy and will not copy object elements within arrays. This is mainly important for arrays containing Python objects. For these you need to use <a href=\"https://docs.python.org/dev/library/copy.html#copy.deepcopy\"<tt>copy.deepcopy</tt></a>"
   ]
  },
  {
   "cell_type": "code",
   "execution_count": null,
   "metadata": {
    "id": "t2Q3PX-OAaES",
    "outputId": "a5e45dbb-29fa-49cd-c789-adc06b829147"
   },
   "outputs": [
    {
     "name": "stdout",
     "output_type": "stream",
     "text": [
      "[1 'm' list([10, 3, 4])]\n",
      "[1 'm' list([10, 3, 4])]\n",
      "[1 'm' list([10, 3, 4])]\n",
      "[1 'm' list([2, 3, 4])]\n"
     ]
    }
   ],
   "source": [
    "import copy\n",
    "a = np.array([1, 'm', [2, 3, 4]], dtype=object)\n",
    "c = np.copy(a)\n",
    "c[2][0] = 10\n",
    "print(c)\n",
    "print(a)\n",
    "# but \n",
    "a = np.array([1, 'm', [2, 3, 4]], dtype=object)\n",
    "c = copy.deepcopy(a)\n",
    "c[2][0] = 10\n",
    "print(c)\n",
    "print(a)\n"
   ]
  },
  {
   "cell_type": "markdown",
   "metadata": {
    "id": "LuwuPq2RAaET"
   },
   "source": [
    "###  <font color='darkblue'>Checking all elements of array"
   ]
  },
  {
   "cell_type": "code",
   "execution_count": null,
   "metadata": {
    "id": "3h18q2pLAaET",
    "outputId": "1b8fc545-9e95-4e9c-b751-76b9f08d98ec"
   },
   "outputs": [
    {
     "name": "stdout",
     "output_type": "stream",
     "text": [
      "False\n",
      "True\n",
      "True\n"
     ]
    }
   ],
   "source": [
    "# generate a vector of uniformly distributed pseudo-random numbers in the interval [0,1)\n",
    "r = np.random.uniform(0.,1.0,size=10000)\n",
    "# np.all checks whether *all* elements of an array conform to specified condition\n",
    "print(np.all(r>0.5))\n",
    "print(np.all(r<1.0))\n",
    "#np.any instead evaluates whether any of the elements satisfy the condition\n",
    "print(np.any(r>0.5))\n"
   ]
  },
  {
   "cell_type": "code",
   "execution_count": null,
   "metadata": {
    "id": "A5IJhAqjAaET",
    "outputId": "6ec7ae71-ff1a-4b29-f1ec-0fb32fa2c212"
   },
   "outputs": [
    {
     "name": "stdout",
     "output_type": "stream",
     "text": [
      "0.00014292316795483373 0.9998980986692391\n"
     ]
    }
   ],
   "source": [
    "# any array is an object (class) has many attributes, including functions such as min() and max()\n",
    "print(r.min(), r.max())"
   ]
  },
  {
   "cell_type": "code",
   "execution_count": null,
   "metadata": {
    "id": "AxzfZlINAaEU"
   },
   "outputs": [],
   "source": [
    "#if you want to see all attributes, run array name with a question mark as below\n",
    "r?"
   ]
  },
  {
   "cell_type": "markdown",
   "metadata": {},
   "source": [
    "### <font color='darkblue'>Filtering operations for a NumPy array</font>\n",
    "\n",
    "NumPy arrays allow a unique (this cannot be done for lists or strings) and extremely useful capability: filtering operations. Filtering operations allow us to select elements of a NumPy array that satisfy a condition we specify. \n",
    "\n",
    "For example, below <tt>nr</tt> uniformly distributed random numbers are generated and then only those with values >=0.5 are selected for computing the mean\n"
   ]
  },
  {
   "cell_type": "code",
   "execution_count": 82,
   "metadata": {},
   "outputs": [
    {
     "name": "stdout",
     "output_type": "stream",
     "text": [
      "0.4954843338776304\n",
      "[False  True False False False  True  True False  True False]\n",
      "0.750714192050289\n"
     ]
    }
   ],
   "source": [
    "nr = 1000\n",
    "xr = np.random.uniform(size=nr)\n",
    "print(np.mean(xr))\n",
    "\n",
    "# filter\n",
    "fx = xr > 0.5\n",
    "# fx is an array of the same shape as xr with boolean elements True, if condition is satisfied and False otherwise\n",
    "print(fx[:10]) \n",
    "\n",
    "# we can use this filter to say compute mean of numbers > 0.5 in the sequence\n",
    "print(np.mean(xr[fx]))"
   ]
  },
  {
   "cell_type": "code",
   "execution_count": 83,
   "metadata": {},
   "outputs": [
    {
     "name": "stdout",
     "output_type": "stream",
     "text": [
      "0.750714192050289\n"
     ]
    }
   ],
   "source": [
    "# we can also do this directly without assignment\n",
    "\n",
    "print(np.mean(xr[xr>0.5]))"
   ]
  },
  {
   "cell_type": "markdown",
   "metadata": {},
   "source": [
    "more examples... Note that we have to use bitwise logical operations (see [here](https://www.w3schools.com/python/python_operators.asp) if you need a refresher) instead of <tt>and</tt>, <tt>or</tt> etc\n",
    "\n",
    "It is also possible to do such conditions using [np.logical functions](https://www.pythonprogramming.in/5-examples-to-filter-a-numpy-array-based-on-two-conditions-in-python.html)"
   ]
  },
  {
   "cell_type": "code",
   "execution_count": 80,
   "metadata": {
    "scrolled": true
   },
   "outputs": [
    {
     "name": "stdout",
     "output_type": "stream",
     "text": [
      "0.2549273551023934\n"
     ]
    }
   ],
   "source": [
    "# mean of the elements in the range [0.1,0.4]\n",
    "print(np.mean(xr[(xr>=0.1) & (xr<=0.4)]))"
   ]
  },
  {
   "cell_type": "markdown",
   "metadata": {},
   "source": [
    "### <font color='darkblue'>Adding and inserting items to a NumPy array</font>\n",
    "\n",
    "Often we have the need to add items to an array, just like we need to append items to a list. \n",
    "\n",
    "In NumPy, we can append using method [<tt>np.append</tt>](https://numpy.org/doc/stable/reference/generated/numpy.append.html)."
   ]
  },
  {
   "cell_type": "code",
   "execution_count": 97,
   "metadata": {},
   "outputs": [
    {
     "name": "stdout",
     "output_type": "stream",
     "text": [
      "[0 1 2 3 4 5 6 7 8 9]\n",
      "[ 0  1  2  3  4  5  6  7  8  9 10 11 12 13 14]\n"
     ]
    }
   ],
   "source": [
    "arr = np.array(list(range(10)))\n",
    "print(arr)\n",
    "arr = np.append(arr, list(range(10,15)))\n",
    "print(arr)"
   ]
  },
  {
   "cell_type": "markdown",
   "metadata": {},
   "source": [
    "We can also insert items at a given location/axis of the NumPy array with method [<tt>np.insert</tt>](https://numpy.org/doc/stable/reference/generated/numpy.insert.html). "
   ]
  },
  {
   "cell_type": "code",
   "execution_count": 98,
   "metadata": {
    "scrolled": true
   },
   "outputs": [
    {
     "name": "stdout",
     "output_type": "stream",
     "text": [
      "[1 2 3 6 7 8 9]\n",
      "[1 2 3 4 5 6 7 8 9]\n"
     ]
    }
   ],
   "source": [
    "arr = np.array([1, 2, 3, 6, 7, 8, 9])\n",
    "print(arr)\n",
    "arr = np.insert(arr, 3, [4, 5])\n",
    "print(arr)"
   ]
  },
  {
   "cell_type": "markdown",
   "metadata": {},
   "source": [
    "For multi-dimensional array NumPy has methods [<tt>np.hstack</tt>](https://numpy.org/doc/stable/reference/generated/numpy.hstack.html) and [<tt>np.vstack</tt>](https://numpy.org/doc/stable/reference/generated/numpy.vstack.html) for joing arrays column- and row-wise, and other methods such as [<tt>np.stack</tt>](https://numpy.org/doc/stable/reference/generated/numpy.stack.html#numpy.stack), [<tt>np.concatenate</tt>](https://numpy.org/doc/stable/reference/generated/numpy.concatenate.html#numpy.concatenate)."
   ]
  },
  {
   "cell_type": "markdown",
   "metadata": {
    "id": "-WmH15XxAaEU"
   },
   "source": [
    "###  <font color='darkblue'>Optimization issues "
   ]
  },
  {
   "cell_type": "code",
   "execution_count": null,
   "metadata": {
    "id": "KXOr3itAAaEU",
    "outputId": "8e8e98d3-6d93-4ac5-b9d3-21047e644133"
   },
   "outputs": [
    {
     "name": "stdout",
     "output_type": "stream",
     "text": [
      "explicit loop takes 0.55 seconds\n",
      "numpy vector operation takes 0.03 seconds\n"
     ]
    }
   ],
   "source": [
    "import numpy as np\n",
    "\n",
    "Ng = 100\n",
    "a = np.random.rand(Ng, Ng, Ng); b = np.random.rand(Ng, Ng, Ng);\n",
    "\n",
    "from timeit import default_timer\n",
    "\n",
    "tstart = default_timer()\n",
    "for i in range(Ng):\n",
    "    for j in range(Ng):\n",
    "        for k in range(Ng):\n",
    "            a[i,j,k] = b[i,j,k]**(2./3)\n",
    "\n",
    "print(\"explicit loop takes %.2f seconds\"%(default_timer()-tstart))\n",
    "\n",
    "# vector operation on numpy arrays\n",
    "tstart = default_timer()\n",
    "\n",
    "a = b**(2./3)\n",
    "print(\"numpy vector operation takes %.2f seconds\"%(default_timer()-tstart))\n"
   ]
  },
  {
   "cell_type": "markdown",
   "metadata": {
    "id": "z1lhpIebAaEV"
   },
   "source": [
    "**Lesson:** use numpy instead of explicit loops whenever possible (unless loops have small iteration count and inexpensive), but be aware of some pitfalls. \n",
    "\n",
    "Here a few examples illustrating how seeminly similiar choices can affect the speed of your calculations. "
   ]
  },
  {
   "cell_type": "code",
   "execution_count": null,
   "metadata": {
    "id": "yNcOFMDpAaEV",
    "outputId": "5b67a8a4-e66e-49ff-f6f0-4632f17ed823"
   },
   "outputs": [
    {
     "name": "stdout",
     "output_type": "stream",
     "text": [
      "28.3 ms ± 321 µs per loop (mean ± std. dev. of 7 runs, 10 loops each)\n"
     ]
    }
   ],
   "source": [
    "N = 10000000\n",
    "%timeit a = np.ones(N); a *= 2"
   ]
  },
  {
   "cell_type": "code",
   "execution_count": null,
   "metadata": {
    "id": "o0vRHdr0AaEV",
    "outputId": "492637fb-a61e-49c6-ce46-4d2fec7b0310"
   },
   "outputs": [
    {
     "name": "stdout",
     "output_type": "stream",
     "text": [
      "46.6 ms ± 1.18 ms per loop (mean ± std. dev. of 7 runs, 10 loops each)\n"
     ]
    }
   ],
   "source": [
    "%timeit a = np.ones(N); b = a * 2"
   ]
  },
  {
   "cell_type": "markdown",
   "metadata": {
    "id": "iU4jsAUbAaEV"
   },
   "source": [
    "The first calculation (a *= 2) is fastest. \n",
    "\n",
    "**Lesson:** calculate \"in-place\" (like in the first example) whenever possible. "
   ]
  },
  {
   "cell_type": "code",
   "execution_count": null,
   "metadata": {
    "id": "lG7q9xNiAaEW",
    "outputId": "ef785e14-bb29-4b01-d667-0282acdf80b3"
   },
   "outputs": [
    {
     "name": "stdout",
     "output_type": "stream",
     "text": [
      "Are a1 and a2 the same?\n",
      "yes!\n",
      "timing direct index slicing\n",
      "The slowest run took 11.90 times longer than the fastest. This could mean that an intermediate result is being cached.\n",
      "1000000 loops, best of 3: 168 ns per loop\n",
      "timing indirect index slicing\n",
      "100 loops, best of 3: 4.09 ms per loop\n"
     ]
    }
   ],
   "source": [
    "n, d = 100000, 100\n",
    "# create a 2-dimension array of dimensions nxd and fill it with random numbers\n",
    "a = np.random.random_sample((n, d));\n",
    "\n",
    "# select every 10th array item\n",
    "# 1st using direct indexing (array view)\n",
    "# then using \"fancy indexing\" with a numpy function arange\n",
    "a1 = a[::10]; a2 = a[np.arange(0, n, 10)]\n",
    "print(\"Are a1 and a2 the same?\") \n",
    "if np.array_equal(a1, a2): \n",
    "    print(\"yes!\")\n",
    "else:\n",
    "    print(\"no!\")\n",
    "    \n",
    "print(\"timing direct index slicing\")\n",
    "%timeit a[::10]\n",
    "print(\"timing indirect index slicing\")\n",
    "%timeit a[np.arange(0, n, 10)]"
   ]
  },
  {
   "cell_type": "markdown",
   "metadata": {
    "id": "5m5HIFp1AaEW"
   },
   "source": [
    "Direct indexing performs selection operation in place without creating a copy of array. Hence, it is much faster than fancy indexing selection which does create a copy.\n",
    "\n",
    "**Lesson:** use direct slicing like <tt>a[::10]</tt> whenever possible. "
   ]
  },
  {
   "cell_type": "markdown",
   "metadata": {
    "id": "wHmuJEDdAaEW"
   },
   "source": [
    "The flatten and ravel methods of an array reshape it into a 1D vector (flattened array). The former method always returns a copy, whereas the latter returns a copy only if necessary. So ravel performs flattening \"in place\" in memory location of array without copying it elsewhere. "
   ]
  },
  {
   "cell_type": "code",
   "execution_count": null,
   "metadata": {
    "id": "J2DLuKuKAaEW",
    "outputId": "2f92edf4-65e2-47f8-abfd-ea32029e121c"
   },
   "outputs": [
    {
     "name": "stdout",
     "output_type": "stream",
     "text": [
      "10 loops, best of 3: 37.6 ms per loop\n"
     ]
    }
   ],
   "source": [
    "%timeit a.flatten()"
   ]
  },
  {
   "cell_type": "code",
   "execution_count": null,
   "metadata": {
    "id": "BUCeg9HCAaEW",
    "outputId": "245fcbff-045f-414b-cac5-f8f5e06d1f15"
   },
   "outputs": [
    {
     "name": "stdout",
     "output_type": "stream",
     "text": [
      "The slowest run took 29.80 times longer than the fastest. This could mean that an intermediate result is being cached.\n",
      "10000000 loops, best of 3: 164 ns per loop\n"
     ]
    }
   ],
   "source": [
    "%timeit a.ravel()"
   ]
  },
  {
   "cell_type": "markdown",
   "metadata": {
    "id": "gesgi385AaEX"
   },
   "source": [
    "**Lesson:** ravel is much faster than flatten. "
   ]
  },
  {
   "cell_type": "markdown",
   "metadata": {
    "id": "Y_9m7sDNAaEX"
   },
   "source": [
    "Just like with arrays in other languages scanning different indices of array incurs very different costs:"
   ]
  },
  {
   "cell_type": "code",
   "execution_count": null,
   "metadata": {
    "id": "ax2gAr0CAaEX",
    "outputId": "399b2025-bd68-4d4c-f2c4-612fbb321480"
   },
   "outputs": [
    {
     "name": "stdout",
     "output_type": "stream",
     "text": [
      "The slowest run took 2207.87 times longer than the fastest. This could mean that an intermediate result is being cached.\n",
      "100000 loops, best of 3: 4.12 µs per loop\n",
      "The slowest run took 5.53 times longer than the fastest. This could mean that an intermediate result is being cached.\n",
      "10000 loops, best of 3: 38.8 µs per loop\n"
     ]
    }
   ],
   "source": [
    "a = np.random.rand(5000, 5000)\n",
    "%timeit a[0,:].sum()\n",
    "%timeit a[:,0].sum()"
   ]
  },
  {
   "cell_type": "markdown",
   "metadata": {
    "id": "APrbP-bbAaEX"
   },
   "source": [
    "That's because scanning the first index is contiguous in memory and thus most data is brought into cache for fast access, while scanning the second is not. \n",
    "\n",
    "More details on numpy and numpy performance tricks can be found <a href=\"http://www.scipy-lectures.org/advanced/advanced_numpy/\">here</a>."
   ]
  },
  {
   "cell_type": "code",
   "execution_count": null,
   "metadata": {
    "collapsed": true,
    "id": "C30gAJGeAaEX"
   },
   "outputs": [],
   "source": [
    "from math import cos\n",
    "import numpy as np\n",
    "\n",
    "def func(t, y, **kwargs):\n",
    "    return y*cos(t)\n",
    "\n",
    "def func_exact(t, **kwargs):\n",
    "    return np.exp(np.sin(t) - np.sin(kwargs[\"t0\"]))\n",
    "\n"
   ]
  },
  {
   "cell_type": "markdown",
   "metadata": {
    "id": "O-ZBoIi0AaEY"
   },
   "source": [
    "Solver routines below are adapted to solve a single ODE or a system of ODEs.\n",
    "The input is can be a scalar or a vector\n",
    "if y is a vector, function f should be able to handle a vector input and output. Keyword arguments can also be passed to f via kwargs dictionary. See <a href=\"https://pythontips.com/2013/08/04/args-and-kwargs-in-python-explained/\"></a> if you are not familiar with this concept.  "
   ]
  },
  {
   "cell_type": "code",
   "execution_count": null,
   "metadata": {
    "collapsed": true,
    "id": "VId-7Uk3AaEY"
   },
   "outputs": [],
   "source": [
    "# 1st order Runge-Kutta method (forward Euler) with constant step\n",
    "# routine using list append function to accumulate solution and time vector\n",
    "def rk1(f, y_start, t_start, t_end, dt, **kwargs):\n",
    "    t = np.copy(t_start); y = np.copy(y_start); \n",
    "    tout = [t]; yout = [y]\n",
    "    while t < t_end:\n",
    "        y += dt * f(t, y, **kwargs)\n",
    "        t += dt\n",
    "        tout.append(t); yout.append(y)\n",
    "    return tout, yout\n",
    "\n",
    "# the same function but using vstack instead of append \n",
    "def rk1npstack(f, y_start, t_start, t_end, dt, **kwargs):\n",
    "    t = np.copy(t_start); y = np.copy(y_start); \n",
    "    tout = np.copy(t_start); yout = np.copy(y_start); \n",
    "    while t < t_end:\n",
    "        y += dt * f(t, y, **kwargs)\n",
    "        t += dt\n",
    "        np.vstack((tout,t)); np.vstack((yout,y))\n",
    "    return tout, yout\n"
   ]
  },
  {
   "cell_type": "code",
   "execution_count": null,
   "metadata": {
    "id": "W-98knKKAaEY",
    "outputId": "67c0eb93-13b7-460e-a682-6181761f59a3"
   },
   "outputs": [
    {
     "name": "stdout",
     "output_type": "stream",
     "text": [
      "RK1 with list appends solved in 5.3958 s\n",
      "RK1 with np stack functions solved in 14.2069 s\n"
     ]
    }
   ],
   "source": [
    "from time import time\n",
    "\n",
    "t0 = 0.; \n",
    "tf = 100.; dt = 0.0001\n",
    "\n",
    "kwargs = {\"t0\": 0.} # argument for func_stiff\n",
    "y0 = func_exact(t0, **kwargs); \n",
    "\n",
    "tpast = time()\n",
    "t1, y1 = rk1(func, y0, t0, tf, dt, **kwargs)\n",
    "texec_rk1 = time() - tpast\n",
    "print(\"RK1 with list appends solved in %.4f s\"%(texec_rk1))\n",
    "\n",
    "tpast = time()\n",
    "t1s, y1s = rk1npstack(func, y0, t0, tf, dt, **kwargs)\n",
    "texec_rk1s = time() - tpast\n",
    "print(\"RK1 with np stack functions solved in %.4f s\"%(texec_rk1s))"
   ]
  },
  {
   "cell_type": "markdown",
   "metadata": {
    "collapsed": true,
    "id": "OzOzNpXUAaEZ"
   },
   "source": [
    "Function using numpy arrays for everything is ~3 times slower. The culprit is np.vstack calls. vstack and hstack methods in numpy involve copying of arrays, while list method [].append just appends array to existing memory location without copying. \n",
    "\n",
    "**Lesson:** avoid using hstack and vstack operations in long sequences involving large arrays. Use lists and append instead. Convert list to numpy array in the end."
   ]
  }
 ],
 "metadata": {
  "colab": {
   "name": "numpy_and_optimization.ipynb",
   "provenance": []
  },
  "kernelspec": {
   "display_name": "Python 3 (ipykernel)",
   "language": "python",
   "name": "python3"
  },
  "language_info": {
   "codemirror_mode": {
    "name": "ipython",
    "version": 3
   },
   "file_extension": ".py",
   "mimetype": "text/x-python",
   "name": "python",
   "nbconvert_exporter": "python",
   "pygments_lexer": "ipython3",
   "version": "3.9.7"
  }
 },
 "nbformat": 4,
 "nbformat_minor": 1
}
