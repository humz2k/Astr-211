{
 "cells": [
  {
   "cell_type": "markdown",
   "metadata": {},
   "source": [
    "<center>\n",
    "\n",
    "\n",
    "## <font color='darkblue'> ASTR 21100/31200\n",
    "\n",
    "<center>\n",
    "\n",
    "    \n",
    "## <font color='darkblue'> Homework Assignment 2\n",
    "\n",
    "<center>\n",
    "\n",
    " \n",
    "## <font color='darkblue'> undergraduate students (30 points + 10 extra-credit)\n",
    "    \n",
    "<center>\n",
    "\n",
    "   \n",
    "### <font color='darkblue'> Distributed: Thursday, April 7\n",
    "    \n",
    "<center>\n",
    "\n",
    "\n",
    "### <font color='darkblue'> Due: Wednesday, Apr 13, 10pm\n",
    "    \n",
    "<center>\n",
    "\n",
    "#### <font color='black'> Humza Qureshi (hqureshi)"
   ]
  },
  {
   "cell_type": "code",
   "execution_count": 11,
   "metadata": {
    "jupyter": {
     "outputs_hidden": false,
     "source_hidden": false
    },
    "nteract": {
     "transient": {
      "deleting": false
     }
    }
   },
   "outputs": [],
   "source": [
    "import numpy as np\n",
    "from math import e\n",
    "import matplotlib.pyplot as plt\n",
    "from scipy.integrate import romberg\n",
    "from astropy.cosmology import LambdaCDM\n",
    "import astropy.units as u\n",
    "from scipy import constants\n",
    "\n",
    "%matplotlib inline\n",
    "\n",
    "plt.rcParams['figure.figsize'] = [8, 8]"
   ]
  },
  {
   "cell_type": "markdown",
   "metadata": {
    "nteract": {
     "transient": {
      "deleting": false
     }
    }
   },
   "source": [
    "## <font color='darkblue'>Exercise 1 (15 points): implementing numerical integration with error control\n",
    "#### (Exercise 4 is at the bottom of the page)\n",
    "\n",
    "Use examples provided in the <tt><a href=\"https://drive.google.com/file/d/1GYZ-plSXdInEGL4q_aNClTlH07A3GxtH/view?usp=sharing\">04_integration_class</a></tt> notebook to implement a function that can numerically estimate integral for an input function over an interval $[a,b]$. The estimate must employ one or a combination of the approaches to ensure that the estimate returned by the function has fractional error smaller than the specified ``threshold'' (aka tolerance). (10 points)\n",
    "    \n",
    "Test your function by computing $$\\int_0^1 e^x dx$$ and computing fractional error of the numerical relative to exact value ($=e-1$) and show that the fractional error of the estimate is smaller than the specified threshold, for several values of the threshold (e.g., 1e-6, 1e-8, 1e-10). Compare results to SciPy's function <a href=\"https://docs.scipy.org/doc/scipy/reference/generated/scipy.integrate.romberg.html\"><tt>scipy.integrate.romberg</tt></a> for the same values of the tolerance thresholds, as shown in the example below. \n",
    "\n",
    "Consider using functions <tt>trapzd</tt> and the <tt>r1</tt>, <tt>r2</tt>, <tt>r3</tt> that can be found  in the <tt><a href=\"https://drive.google.com/file/d/1GYZ-plSXdInEGL4q_aNClTlH07A3GxtH/view?usp=sharing\">04_integration_class</a></tt> notebook. The latter functions use <tt>trapzd</tt> as the base for the Richardson extrapolation to obtain the 4th, 6th, and 8th order integration schemes. "
   ]
  },
  {
   "cell_type": "code",
   "execution_count": 12,
   "metadata": {
    "jupyter": {
     "outputs_hidden": false,
     "source_hidden": false
    },
    "nteract": {
     "transient": {
      "deleting": false
     }
    }
   },
   "outputs": [],
   "source": [
    "def trapzd(func,a,b,nsteps,*args):\n",
    "    h = (b-a)/nsteps\n",
    "\n",
    "    if nsteps == 1:\n",
    "        return 0.5*(func(a, *args) + func(b, *args)) * h\n",
    "    else:\n",
    "        xd = a + np.arange(1,nsteps) * h\n",
    "        return (0.5*(func(a, *args) + func(b, *args)) + np.sum(func(xd, *args))) * h\n",
    "\n",
    "def integrate(func,a,b,*args,rtol=1e-6,mul=2):\n",
    "    steps = 1\n",
    "    err = np.inf\n",
    "    next_val = trapzd(func,a,b,steps*mul,*args)\n",
    "    last_err = np.inf\n",
    "    while err > rtol:\n",
    "        steps = steps*mul\n",
    "        val = next_val\n",
    "        next_val = trapzd(func,a,b,steps*mul,*args)\n",
    "        r1_val = (4*next_val - val) / 3\n",
    "        if r1_val == 0:\n",
    "            err = 0\n",
    "        else:\n",
    "            err = np.abs(1. - val/r1_val)\n",
    "        if err > last_err:\n",
    "            return r1_val,err\n",
    "        last_err = err\n",
    "    return r1_val,err\n",
    "\n",
    "int_vector = np.vectorize(integrate)"
   ]
  },
  {
   "cell_type": "code",
   "execution_count": 13,
   "metadata": {
    "jupyter": {
     "outputs_hidden": false,
     "source_hidden": false
    },
    "nteract": {
     "transient": {
      "deleting": false
     }
    }
   },
   "outputs": [
    {
     "name": "stdout",
     "output_type": "stream",
     "text": [
      "for rtol = 1e-02, my frac error = 1.35382e-06, scipy error = 5.00189e-07\n",
      "for rtol = 1e-04, my frac error = 3.31128e-10, scipy error = 1.95245e-10\n",
      "for rtol = 1e-06, my frac error = 5.10703e-15, scipy error = 1.95245e-10\n",
      "for rtol = 1e-08, my frac error = 2.22045e-16, scipy error = 1.93179e-14\n",
      "for rtol = 1e-10, my frac error = 2.22045e-16, scipy error = 1.93179e-14\n",
      "for rtol = 1e-12, my frac error = 2.22045e-16, scipy error = 1.93179e-14\n",
      "for rtol = 1e-14, my frac error = 1.66533e-15, scipy error = 1.93179e-14\n"
     ]
    }
   ],
   "source": [
    "a, b = 0, 1\n",
    "func = np.exp\n",
    "exact = func(b) - func(a)\n",
    "rtols = [1*10**-i for i in range(2,15,2)]\n",
    "for rtol in rtols:\n",
    "    my_val,est_err = integrate(func,a,b,rtol=rtol)\n",
    "    my_err = np.abs(my_val/exact -1.)\n",
    "    sci_val = romberg(func,a,b,tol=rtol)\n",
    "    sci_err = np.abs(sci_val/exact -1.)\n",
    "    print(f'for rtol = {rtol:.0e}, my frac error = {my_err:.5e}, scipy error = {sci_err:.5e}')"
   ]
  },
  {
   "cell_type": "markdown",
   "metadata": {
    "nteract": {
     "transient": {
      "deleting": false
     }
    }
   },
   "source": [
    "## <font color='darkblue'>Exercise 2 (10 points): implementing and testing a function to compute luminosity distance $d_L$"
   ]
  },
  {
   "cell_type": "markdown",
   "metadata": {},
   "source": [
    "**2a (7 points).** Use the function you implemented in exercise 1 to implement a function to compute cosmological distance $d_L$ for a range of redshift values $z$ (for example, $z\\in[0,3]$."
   ]
  },
  {
   "cell_type": "code",
   "execution_count": 4,
   "metadata": {
    "jupyter": {
     "outputs_hidden": false,
     "source_hidden": false
    },
    "nteract": {
     "transient": {
      "deleting": false
     }
    }
   },
   "outputs": [],
   "source": [
    "def d_l_astropy(z, H0=70.0, Om0=0.3, OmL=0.7):\n",
    "    cosmo = LambdaCDM(H0=H0, Om0=Om0, Ode0=OmL)\n",
    "    return cosmo.luminosity_distance(z=z)\n",
    "\n",
    "def d_l(z,int_function,rtol=1.e-6,H0=70.0,Om0=0.3,OmL=0.7,clight=None):\n",
    "    units = False\n",
    "    if clight == None:\n",
    "        try:\n",
    "            clight = (constants.speed_of_light * (u.meter/u.second)).to(u.km/u.second)\n",
    "            H0 = H0 * ((u.km/u.second)/u.Mpc)\n",
    "        except:\n",
    "            clight = 2.99792458e5\n",
    "\n",
    "\n",
    "    if OmL == 0:\n",
    "        assert(Om0 >= 0)\n",
    "        q0 = 0.5 * Om0\n",
    "        q0z = q0 * z\n",
    "        return clight * z/H0 * (1. + (z-q0z) / (1. + q0z + np.sqrt(1. + 2.*q0z)))\n",
    "    else:\n",
    "        OmK = 1 - Om0 - OmL\n",
    "        def f(x):\n",
    "            E = np.sqrt(Om0*((1+x)**3) + OmK*((1+x)**2) + OmL)\n",
    "            return 1/E\n",
    "        dc,err = int_function(f,0,z,rtol=rtol)\n",
    "\n",
    "        if OmK > 0:\n",
    "            dc = (1/np.sqrt(OmK)) * np.sinh(np.sqrt(OmK) * dc)\n",
    "        elif OmK < 0:\n",
    "            dc = (1/np.sqrt(np.abs(OmK))) * np.sin(np.abs(OmK) * dc)\n",
    "\n",
    "        return dc * (clight/H0) * (1+z)"
   ]
  },
  {
   "cell_type": "markdown",
   "metadata": {},
   "source": [
    "**2b (3 points).** Test your function by comparing it to the estimates using AstroPy function for several pairs of $\\Omega_{\\rm m0}$ and $\\Omega_\\Lambda$: $[0.3, 0.7]$, $[0.1,0.9]$, $[0.8,0.1]$."
   ]
  },
  {
   "cell_type": "code",
   "execution_count": 5,
   "metadata": {
    "jupyter": {
     "outputs_hidden": false,
     "source_hidden": false
    },
    "nteract": {
     "transient": {
      "deleting": false
     }
    }
   },
   "outputs": [
    {
     "name": "stdout",
     "output_type": "stream",
     "text": [
      "#############################\n",
      "Om0 = 0.3, OmL = 0.7, OmK = 0.0\n",
      "   z=0.000;  astropy value =     0.00000 Mpc;  my value =     0.00000 Mpc\n",
      "   z=0.158;  astropy value =   754.40272 Mpc;  my value =   754.40272 Mpc\n",
      "   z=0.316;  astropy value =  1647.56015 Mpc;  my value =  1647.56015 Mpc\n",
      "   z=0.474;  astropy value =  2655.32684 Mpc;  my value =  2655.32684 Mpc\n",
      "   z=0.632;  astropy value =  3757.26372 Mpc;  my value =  3757.26372 Mpc\n",
      "   z=0.789;  astropy value =  4936.75630 Mpc;  my value =  4936.75630 Mpc\n",
      "   z=0.947;  astropy value =  6180.60449 Mpc;  my value =  6180.60449 Mpc\n",
      "   z=1.105;  astropy value =  7478.42369 Mpc;  my value =  7478.42369 Mpc\n",
      "   z=1.263;  astropy value =  8822.05081 Mpc;  my value =  8822.05081 Mpc\n",
      "   z=1.421;  astropy value = 10205.03607 Mpc;  my value = 10205.03607 Mpc\n",
      "   z=1.579;  astropy value = 11622.23867 Mpc;  my value = 11622.23867 Mpc\n",
      "   z=1.737;  astropy value = 13069.51698 Mpc;  my value = 13069.51698 Mpc\n",
      "   z=1.895;  astropy value = 14543.49542 Mpc;  my value = 14543.49542 Mpc\n",
      "   z=2.053;  astropy value = 16041.39021 Mpc;  my value = 16041.39021 Mpc\n",
      "   z=2.211;  astropy value = 17560.87916 Mpc;  my value = 17560.87916 Mpc\n",
      "   z=2.368;  astropy value = 19100.00391 Mpc;  my value = 19100.00391 Mpc\n",
      "   z=2.526;  astropy value = 20657.09595 Mpc;  my value = 20657.09595 Mpc\n",
      "   z=2.684;  astropy value = 22230.72025 Mpc;  my value = 22230.72025 Mpc\n",
      "   z=2.842;  astropy value = 23819.63177 Mpc;  my value = 23819.63177 Mpc\n",
      "   z=3.000;  astropy value = 25422.74175 Mpc;  my value = 25422.74175 Mpc\n",
      "#############################\n",
      "Om0 = 0.1, OmL = 0.9, OmK = 0.0\n",
      "   z=0.000;  astropy value =     0.00000 Mpc;  my value =     0.00000 Mpc\n",
      "   z=0.158;  astropy value =   772.97715 Mpc;  my value =   772.97715 Mpc\n",
      "   z=0.316;  astropy value =  1730.75180 Mpc;  my value =  1730.75180 Mpc\n",
      "   z=0.474;  astropy value =  2859.06205 Mpc;  my value =  2859.06205 Mpc\n",
      "   z=0.632;  astropy value =  4142.64712 Mpc;  my value =  4142.64712 Mpc\n",
      "   z=0.789;  astropy value =  5566.00369 Mpc;  my value =  5566.00369 Mpc\n",
      "   z=0.947;  astropy value =  7114.05240 Mpc;  my value =  7114.05240 Mpc\n",
      "   z=1.105;  astropy value =  8772.64002 Mpc;  my value =  8772.64002 Mpc\n",
      "   z=1.263;  astropy value = 10528.85471 Mpc;  my value = 10528.85471 Mpc\n",
      "   z=1.421;  astropy value = 12371.17228 Mpc;  my value = 12371.17228 Mpc\n",
      "   z=1.579;  astropy value = 14289.47229 Mpc;  my value = 14289.47229 Mpc\n",
      "   z=1.737;  astropy value = 16274.96734 Mpc;  my value = 16274.96734 Mpc\n",
      "   z=1.895;  astropy value = 18320.08322 Mpc;  my value = 18320.08322 Mpc\n",
      "   z=2.053;  astropy value = 20418.31816 Mpc;  my value = 20418.31816 Mpc\n",
      "   z=2.211;  astropy value = 22564.09954 Mpc;  my value = 22564.09954 Mpc\n",
      "   z=2.368;  astropy value = 24752.64910 Mpc;  my value = 24752.64910 Mpc\n",
      "   z=2.526;  astropy value = 26979.86188 Mpc;  my value = 26979.86188 Mpc\n",
      "   z=2.684;  astropy value = 29242.20078 Mpc;  my value = 29242.20078 Mpc\n",
      "   z=2.842;  astropy value = 31536.60657 Mpc;  my value = 31536.60657 Mpc\n",
      "   z=3.000;  astropy value = 33860.42198 Mpc;  my value = 33860.42198 Mpc\n",
      "#############################\n",
      "Om0 = 0.8, OmL = 0.1, OmK = 0.1\n",
      "   z=0.000;  astropy value =     0.00000 Mpc;  my value =     0.00000 Mpc\n",
      "   z=0.158;  astropy value =   710.50929 Mpc;  my value =   710.50929 Mpc\n",
      "   z=0.316;  astropy value =  1479.60043 Mpc;  my value =  1479.60043 Mpc\n",
      "   z=0.474;  astropy value =  2296.07869 Mpc;  my value =  2296.07869 Mpc\n",
      "   z=0.632;  astropy value =  3152.08474 Mpc;  my value =  3152.08474 Mpc\n",
      "   z=0.789;  astropy value =  4041.81901 Mpc;  my value =  4041.81901 Mpc\n",
      "   z=0.947;  astropy value =  4960.83554 Mpc;  my value =  4960.83554 Mpc\n",
      "   z=1.105;  astropy value =  5905.62367 Mpc;  my value =  5905.62367 Mpc\n",
      "   z=1.263;  astropy value =  6873.34556 Mpc;  my value =  6873.34556 Mpc\n",
      "   z=1.421;  astropy value =  7861.66335 Mpc;  my value =  7861.66335 Mpc\n",
      "   z=1.579;  astropy value =  8868.62072 Mpc;  my value =  8868.62072 Mpc\n",
      "   z=1.737;  astropy value =  9892.55909 Mpc;  my value =  9892.55909 Mpc\n",
      "   z=1.895;  astropy value = 10932.05643 Mpc;  my value = 10932.05643 Mpc\n",
      "   z=2.053;  astropy value = 11985.88177 Mpc;  my value = 11985.88177 Mpc\n",
      "   z=2.211;  astropy value = 13052.96050 Mpc;  my value = 13052.96050 Mpc\n",
      "   z=2.368;  astropy value = 14132.34748 Mpc;  my value = 14132.34748 Mpc\n",
      "   z=2.526;  astropy value = 15223.20596 Mpc;  my value = 15223.20596 Mpc\n",
      "   z=2.684;  astropy value = 16324.79074 Mpc;  my value = 16324.79074 Mpc\n",
      "   z=2.842;  astropy value = 17436.43459 Mpc;  my value = 17436.43459 Mpc\n",
      "   z=3.000;  astropy value = 18557.53718 Mpc;  my value = 18557.53718 Mpc\n",
      "#############################\n"
     ]
    }
   ],
   "source": [
    "H0 = 70.\n",
    "m_s = u.meter/u.second\n",
    "km_s = u.km/u.second\n",
    "clight = constants.speed_of_light * (u.meter/u.second)\n",
    "clight = clight.to(km_s)\n",
    "zmin, zmax, nz = 0,3,20\n",
    "z = np.linspace(zmin,zmax,nz)\n",
    "\n",
    "vals = [(0.3,0.7),(0.1,0.9),(0.8,0.1)]\n",
    "\n",
    "for Om0,OmL in vals:\n",
    "    OmK = 1 - Om0 - OmL\n",
    "    print(\"#############################\")\n",
    "    print(f'Om0 = {Om0:.1f}, OmL = {OmL:.1f}, OmK = {OmK:.1f}')\n",
    "    astropy_vals = d_l_astropy(z,H0=H0,Om0=Om0,OmL=OmL)\n",
    "    my_vals = d_l(z,int_vector,H0=H0,Om0=Om0,OmL=OmL,rtol=1.00e-6)\n",
    "    for zd,my_val,astropy_val in zip(z,my_vals,astropy_vals):\n",
    "        print(f'   z={zd:.3f};  astropy value = {astropy_val:>11.5f};  my value = {my_val:>11.5f}')\n",
    "print(\"#############################\")"
   ]
  },
  {
   "cell_type": "markdown",
   "metadata": {},
   "source": [
    "## <font color='darkblue'>Exercise 3 (5 points): using $d_L$ calculation to compute distance modulus of supernovae Type Ia\n",
    "    \n",
    "The code snippet below reads data from the study of <a href=\"https://ui.adsabs.harvard.edu/abs/2014A%26A...568A..22B/abstract\">Betoule et al. (2014)</a>, which was downloaded <a href=\"http://supernovae.in2p3.fr/sdss_snls_jla/ReadMe.html\">here</a>. The function uses numpy loadtxt function, which allows to read well formatted columns of data in the ASCII format easily. \n",
    "    \n",
    "**Task**: plot supernovae data as a scatter of points in the $m-z$ plane and plot $m_{\\rm pred}(z)$ for a grid of $z$ values in the range $z\\in [0,2]$ as a line. Add a legend to your plot that describes points and the line. You should write your own Matplotlib code and *not* use function <tt>plot_line_points</tt> in <tt>codes.plotting</tt>, although you are welcome to consult it for example of how to make such plots. \n",
    "    \n",
    " Make sure your plot is sufficiently large, axes are labeled and font size in the axis labels and legend is sufficiently large to be legible. You can use <tt>codes.plotting.plot_prettier</tt> function to set up Matplotlib environment for good plotting, but adjust <tt>figsize</tt> of your plot, as needed. You can find examples of plots that have good size and font sizes in the distributed notebooks. \n",
    "    \n",
    "    \n",
    "Try different values of $M$ in the range from 0 to -25, and values of $\\Omega_{\\rm m0}$ and $\\Omega_\\Lambda$ in the range $[0,1]$, while keeping $H_0=70$ and try to find a combination of $M$, $\\Omega_{\\rm m0}$ and $\\Omega_\\Lambda$ for which the line matches the supernova data best. Plot a plot of $m-z$ described above for this parameter combination. \n",
    "    \n",
    "Summarize your conclusions and quote the best values of $M$, $\\Omega_{\\rm m0}$ and $\\Omega_\\Lambda$ that you found. "
   ]
  },
  {
   "cell_type": "code",
   "execution_count": 6,
   "metadata": {
    "jupyter": {
     "outputs_hidden": false,
     "source_hidden": false
    },
    "nteract": {
     "transient": {
      "deleting": false
     }
    }
   },
   "outputs": [
    {
     "name": "stdout",
     "output_type": "stream",
     "text": [
      "read sample of 740 supernovae...\n"
     ]
    }
   ],
   "source": [
    "def read_jla_data(sn_list_name = None):\n",
    "    \"\"\"\n",
    "    read in table with the JLA supernova type Ia sample\n",
    "\n",
    "    Parameters\n",
    "    ----------\n",
    "    sn_list_name: str\n",
    "        path/file name containing the JLA data table in ASCII format\n",
    "\n",
    "    Returns\n",
    "    -------\n",
    "    zsn, msn, emsn - numpy float vectors containing\n",
    "                       zsn: SNIa redshifts in the CMB frame\n",
    "                       msn, emsn: apparent B-magnitude and its errors\n",
    "    \"\"\"\n",
    "    zsn, msn, emsn = np.loadtxt(sn_list_name, usecols=(1, 4, 5),  unpack=True)\n",
    "\n",
    "    return zsn, msn, emsn\n",
    "\n",
    "zsn, msn, emsn = read_jla_data(sn_list_name = 'https://astro.uchicago.edu/~andrey/classes/a211/data/jla_lcparams.txt')\n",
    "nsn = np.size(zsn)\n",
    "print(\"read sample of %d supernovae...\"%(nsn))\n"
   ]
  },
  {
   "cell_type": "code",
   "execution_count": 14,
   "metadata": {
    "jupyter": {
     "outputs_hidden": false,
     "source_hidden": false
    },
    "nteract": {
     "transient": {
      "deleting": false
     }
    }
   },
   "outputs": [
    {
     "data": {
      "image/png": "[encoded data removed]",
      "text/plain": [
       "<Figure size 576x576 with 1 Axes>"
      ]
     },
     "metadata": {
      "needs_background": "light"
     },
     "output_type": "display_data"
    }
   ],
   "source": [
    "def calculate_pred(z,M,int_func,H0=70.0,Om0=0.3,OmL=0.7,rtol=1.e-8):\n",
    "    dl = d_l(z,int_func,H0=H0,Om0=Om0,OmL=OmL,rtol=rtol)\n",
    "    try:\n",
    "        dl = dl/u.Mpc\n",
    "    except:\n",
    "        pass\n",
    "    return M + 5*np.log10(dl) + 25\n",
    "\n",
    "def get_mean_bins(zsn,msn,nbins=20):\n",
    "    zmin,zmax = np.min(zsn),np.max(zsn)\n",
    "\n",
    "    bin_size = (zmax-zmin)/nbins\n",
    "\n",
    "    bins = np.arange(bin_size,zmax,bin_size)\n",
    "\n",
    "    means = []\n",
    "    to_check = []\n",
    "    for i in bins:\n",
    "        smaller = zsn < i+bin_size/2\n",
    "        bigger = zsn[smaller] >= i-bin_size/2\n",
    "        if len(msn[smaller][bigger]) != 0:\n",
    "            to_check.append(i)\n",
    "            means.append(np.mean(msn[smaller][bigger]))\n",
    "\n",
    "    return np.array(to_check),np.array(means)\n",
    "\n",
    "def find_best_values(zsn,msn,pred_func,int_func,\n",
    "                    start_m=0,end_m=-25,step_m=-1,\n",
    "                    start_Om0=0,end_Om0=1,nsteps_Om0=10,\n",
    "                    start_OmL=0,end_OmL=1,nsteps_OmL=10,\n",
    "                    nsteps=None):\n",
    "    if nsteps != None:\n",
    "        nsteps_Om0 = nsteps\n",
    "        nsteps_OmL = nsteps\n",
    "    zs,means = get_mean_bins(zsn,msn)\n",
    "    best_diff = np.inf\n",
    "    best_M = 0\n",
    "    best_Om0 = 0\n",
    "    best_OmL = 0\n",
    "    for OmL in np.linspace(start_OmL,end_OmL,nsteps_OmL):\n",
    "        for Om0 in np.linspace(start_Om0,1-OmL,nsteps_Om0):\n",
    "            found_better = False\n",
    "            for M in np.arange(best_M,end_m+step_m,step_m):\n",
    "                pred = pred_func(zs,M,int_func,Om0=Om0,OmL=OmL)\n",
    "                diff = np.sum((means-pred)**2)\n",
    "                if diff < best_diff:\n",
    "                    found_better = True\n",
    "                    best_M = M\n",
    "                    best_diff = diff\n",
    "                    best_Om0 = Om0\n",
    "                    best_OmL = OmL\n",
    "                else:\n",
    "                    break\n",
    "            if not found_better:\n",
    "                break\n",
    "\n",
    "    return best_M, best_Om0, best_OmL\n",
    "\n",
    "M, Om0, OmL = find_best_values(zsn,msn,calculate_pred,int_vector,nsteps=30)\n",
    "\n",
    "zs_plot = np.linspace(np.min(zsn),np.max(zsn),100)\n",
    "\n",
    "fig, (plot) = plt.subplots(1,1)\n",
    "plot.scatter(zsn,msn,s=0.2,label=\"JLA Data\",color=\"green\",alpha=0.8)\n",
    "plot.plot(zs_plot,calculate_pred(zs_plot,M,int_vector,Om0=Om0,OmL=OmL),label=\"Model\",color=\"red\",alpha=0.8)\n",
    "plot.legend()\n",
    "plot.set_xlabel(\"Z\")\n",
    "plot.set_ylabel(\"Magnitude\")\n",
    "plot.set_title(f'Model: M={M:.0f},Om0={Om0:.2f},OmL={OmL:.2f}')\n",
    "fig.suptitle(\"Magnitude vs Redshift for Supernovas from Betoule et al.\",fontsize=20)\n",
    "fig.tight_layout()\n",
    "plt.show()"
   ]
  },
  {
   "cell_type": "markdown",
   "metadata": {},
   "source": [
    "The function `find_best_values` does what I would do visually. It separates the scatter points into sections, and computes the mean square of the difference between the model value and the scatter values. It then iterates through Om0, OmL and M values, until it reaches values where the mean square stops improving. Definitely not a smart way to do this, but it produces a line that visually looks good enough for this specific case.\n",
    "\n",
    "The best model according to the function is:\n",
    "```\n",
    "M=-19, Om0=0.14, OmL=0\n",
    "```"
   ]
  },
  {
   "cell_type": "markdown",
   "metadata": {},
   "source": [
    "## <font color='darkblue'> Exercise 4 (extra-credit): implementing Romberg integration scheme (25 points)\n"
   ]
  },
  {
   "cell_type": "markdown",
   "metadata": {},
   "source": [
    "**Task 4a. (20 points)** Implement a function that estimates integral $\\int_a^b f(x)dx$ using Romberg integration method with error better than specified tolerance level, as in the exercise above, but using full Romberg scheme to estimate $R_m$ rather than explicit <tt>r1</tt>, <tt>r2</tt>, <tt>r3</tt> functions and that uses  $R_{m+1}$ and $R_{m}$ estimates to control the current estimate of error."
   ]
  },
  {
   "cell_type": "code",
   "execution_count": 8,
   "metadata": {
    "jupyter": {
     "outputs_hidden": false,
     "source_hidden": false
    },
    "nteract": {
     "transient": {
      "deleting": false
     }
    }
   },
   "outputs": [],
   "source": [
    "def rom_recursive(func,a,b,m,nsteps,*args):\n",
    "    if m == 0:\n",
    "        return trapzd(func,a,b,nsteps,*args)\n",
    "    return (1/((4**m) - 1)) * ((4**m)*rom_recursive(func,a,b,m-1,nsteps*2) - rom_recursive(func,a,b,m-1,nsteps))\n",
    "\n",
    "def int_rom(func,a,b,max_m=50,rtol=1.e-6):\n",
    "    last = rom_recursive(func,a,b,0,1)\n",
    "    err = 0\n",
    "    for m in range(1,max_m+1):\n",
    "        current = rom_recursive(func,a,b,m,1)\n",
    "        if current == 0:\n",
    "            return current,err\n",
    "        else:\n",
    "            err = np.abs(1. - last/current)\n",
    "            if err < rtol:\n",
    "                return current,err\n",
    "        last = current\n",
    "    return current,err"
   ]
  },
  {
   "cell_type": "markdown",
   "metadata": {},
   "source": [
    "**Task 4b. (5 points)** Test your function by computing $$\\int_0^1 e^x dx$$ and computing fractional error of the numerical relative to exact value ($=e-1$) similarly to how this was done in <tt>04_integration</tt> notebook for trapezoidal integration function. (1 point)"
   ]
  },
  {
   "cell_type": "code",
   "execution_count": 9,
   "metadata": {
    "jupyter": {
     "outputs_hidden": false,
     "source_hidden": false
    },
    "nteract": {
     "transient": {
      "deleting": false
     }
    }
   },
   "outputs": [
    {
     "name": "stdout",
     "output_type": "stream",
     "text": [
      "for rtol = 1e-02, my frac error = 5.00189e-07, scipy error = 5.00189e-07\n",
      "for rtol = 1e-04, my frac error = 1.95244e-10, scipy error = 1.95245e-10\n",
      "for rtol = 1e-06, my frac error = 1.95244e-10, scipy error = 1.95245e-10\n",
      "for rtol = 1e-08, my frac error = 1.90958e-14, scipy error = 1.93179e-14\n",
      "for rtol = 1e-10, my frac error = 3.33067e-16, scipy error = 1.93179e-14\n",
      "for rtol = 1e-12, my frac error = 3.33067e-16, scipy error = 1.93179e-14\n",
      "for rtol = 1e-14, my frac error = 4.44089e-16, scipy error = 1.93179e-14\n"
     ]
    }
   ],
   "source": [
    "a, b = 0, 1\n",
    "func = np.exp\n",
    "exact = func(b) - func(a)\n",
    "rtols = [1*10**-i for i in range(2,15,2)]\n",
    "errs = []\n",
    "for rtol in rtols:\n",
    "    my_val,est_err = int_rom(func,a,b,rtol=rtol)\n",
    "    my_err = np.abs(my_val/exact -1.)\n",
    "    errs.append(my_err)\n",
    "    sci_val = romberg(func,a,b,tol=rtol)\n",
    "    sci_err = np.abs(sci_val/exact -1.)\n",
    "    print(f'for rtol = {rtol:.0e}, my frac error = {my_err:.5e}, scipy error = {sci_err:.5e}')"
   ]
  },
  {
   "cell_type": "markdown",
   "metadata": {},
   "source": [
    "Plot the fractional error you get for your integral, as a function of input rtol value to demonstrate that your result is as accurate or better than specified (4 points).     "
   ]
  },
  {
   "cell_type": "code",
   "execution_count": 10,
   "metadata": {},
   "outputs": [
    {
     "data": {
      "image/png": "[encoded data removed]",
      "text/plain": [
       "<Figure size 576x576 with 1 Axes>"
      ]
     },
     "metadata": {
      "needs_background": "light"
     },
     "output_type": "display_data"
    }
   ],
   "source": [
    "plt.plot(rtols,errs)\n",
    "plt.xlabel(\"rtol\")\n",
    "plt.ylabel(\"frac error\")\n",
    "plt.title(\"RTOL VS FRAC ERROR\",fontsize=20)\n",
    "plt.tight_layout()\n",
    "plt.show()"
   ]
  }
 ],
 "metadata": {
  "kernelspec": {
   "display_name": "Python 3",
   "language": "python",
   "name": "python3"
  },
  "language_info": {
   "codemirror_mode": {
    "name": "ipython",
    "version": 3
   },
   "file_extension": ".py",
   "mimetype": "text/x-python",
   "name": "python",
   "nbconvert_exporter": "python",
   "pygments_lexer": "ipython3",
   "version": "3.6.4"
  }
 },
 "nbformat": 4,
 "nbformat_minor": 1
}
