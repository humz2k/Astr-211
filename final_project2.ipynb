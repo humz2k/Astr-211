{
 "cells": [
  {
   "cell_type": "code",
   "execution_count": 1,
   "metadata": {},
   "outputs": [],
   "source": [
    "#Path to Images\n",
    "impath = \"data/images_training_rev1\"\n",
    "#Path to Labels CSV\n",
    "lapath = \"training_solutions_rev1.csv\"\n",
    "#N test images\n",
    "ntest = 10000\n",
    "#Resolution\n",
    "pixres = 420"
   ]
  },
  {
   "cell_type": "code",
   "execution_count": 2,
   "metadata": {},
   "outputs": [],
   "source": [
    "import pandas as pd\n",
    "import numpy as np\n",
    "from PIL import Image\n",
    "import matplotlib.pyplot as plt\n",
    "import skimage.io as io\n",
    "import tensorflow as tf\n",
    "import pathlib\n",
    "import os\n",
    "import sys\n",
    "%matplotlib inline"
   ]
  },
  {
   "cell_type": "code",
   "execution_count": 3,
   "metadata": {},
   "outputs": [
    {
     "name": "stdout",
     "output_type": "stream",
     "text": [
      "Found 46421 validated image filenames.\n",
      "Found 5157 validated image filenames.\n",
      "Found 10000 validated image filenames.\n"
     ]
    }
   ],
   "source": [
    "label_df = pd.read_csv(lapath)\n",
    "label_df[\"GalaxyID\"] = label_df[\"GalaxyID\"].apply((lambda x: str(x) + \".jpg\"))\n",
    "tests = np.random.choice(range(len(label_df)), ntest, replace=False)\n",
    "testdf = label_df.iloc[tests]\n",
    "traindf = label_df.drop(index=tests)\n",
    "\n",
    "datagen=tf.keras.preprocessing.image.ImageDataGenerator(rescale=1./255, validation_split=0.1)\n",
    "testgen=tf.keras.preprocessing.image.ImageDataGenerator(rescale=1./255)\n",
    "\n",
    "train_generator=datagen.flow_from_dataframe(\n",
    "dataframe=traindf,\n",
    "directory=impath,\n",
    "x_col=\"GalaxyID\",\n",
    "y_col=['Class1.1','Class1.2','Class1.3'],\n",
    "class_mode = \"raw\",\n",
    "subset=\"training\",\n",
    "batch_size=32,\n",
    "color_mode=\"grayscale\",\n",
    "interpolation='bilinear',\n",
    "target_size=(pixres,pixres))\n",
    "\n",
    "validation_generator=datagen.flow_from_dataframe(\n",
    "dataframe=traindf,\n",
    "directory=impath,\n",
    "x_col=\"GalaxyID\",\n",
    "y_col=['Class1.1','Class1.2','Class1.3'],\n",
    "class_mode = \"raw\",\n",
    "subset=\"validation\",\n",
    "batch_size=32,\n",
    "color_mode=\"grayscale\",\n",
    "interpolation='bilinear',\n",
    "target_size=(pixres,pixres))\n",
    "\n",
    "test_generator=testgen.flow_from_dataframe(\n",
    "dataframe=testdf,\n",
    "directory=impath, \n",
    "x_col='GalaxyID',\n",
    "y_col=['Class1.1','Class1.2','Class1.3'],\n",
    "target_size=(pixres,pixres),\n",
    "color_mode=\"grayscale\",\n",
    "class_mode='raw',\n",
    "interpolation='bilinear',\n",
    "batch_size=1)"
   ]
  },
  {
   "cell_type": "code",
   "execution_count": 4,
   "metadata": {},
   "outputs": [
    {
     "name": "stdout",
     "output_type": "stream",
     "text": [
      "Metal device set to: Apple M1 Pro\n",
      "\n",
      "systemMemory: 16.00 GB\n",
      "maxCacheSize: 5.33 GB\n",
      "\n"
     ]
    },
    {
     "name": "stderr",
     "output_type": "stream",
     "text": [
      "2022-05-27 17:29:45.967040: I tensorflow/core/common_runtime/pluggable_device/pluggable_device_factory.cc:305] Could not identify NUMA node of platform GPU ID 0, defaulting to 0. Your kernel may not have been built with NUMA support.\n",
      "2022-05-27 17:29:45.967186: I tensorflow/core/common_runtime/pluggable_device/pluggable_device_factory.cc:271] Created TensorFlow device (/job:localhost/replica:0/task:0/device:GPU:0 with 0 MB memory) -> physical PluggableDevice (device: 0, name: METAL, pci bus id: <undefined>)\n"
     ]
    }
   ],
   "source": [
    "basic_rms_model = tf.keras.models.Sequential()\n",
    "basic_rms_model.add(tf.keras.Input(shape=(pixres,pixres,1)))\n",
    "basic_rms_model.add(tf.keras.layers.Flatten())\n",
    "basic_rms_model.add(tf.keras.layers.Dense(32))\n",
    "basic_rms_model.add(tf.keras.layers.Dense(32))\n",
    "basic_rms_model.add(tf.keras.layers.Dense(3,activation='sigmoid'))\n",
    "basic_rms_model.compile(\n",
    "    loss='mean_squared_error',\n",
    "    metrics=['acc']\n",
    ")\n",
    "#basic_rms_model.summary()"
   ]
  },
  {
   "cell_type": "code",
   "execution_count": 5,
   "metadata": {},
   "outputs": [],
   "source": [
    "basic_conv2d_model = tf.keras.models.Sequential()\n",
    "basic_conv2d_model.add(tf.keras.Input(shape=(pixres,pixres,1)))\n",
    "basic_conv2d_model.add(tf.keras.layers.Conv2D(32,(3,3),activation=\"relu\"))\n",
    "basic_conv2d_model.add(tf.keras.layers.Conv2D(64,(3,3),activation=\"relu\"))\n",
    "basic_conv2d_model.add(tf.keras.layers.Flatten())\n",
    "basic_conv2d_model.add(tf.keras.layers.Dense(32))\n",
    "basic_conv2d_model.add(tf.keras.layers.Dense(3,activation='sigmoid'))\n",
    "basic_conv2d_model.compile(\n",
    "    loss='mean_squared_error',\n",
    "    metrics=['acc']\n",
    ")\n",
    "#basic_conv2d_model.summary()"
   ]
  },
  {
   "cell_type": "code",
   "execution_count": 6,
   "metadata": {},
   "outputs": [
    {
     "name": "stdout",
     "output_type": "stream",
     "text": [
      "Model: \"sequential_2\"\n",
      "_________________________________________________________________\n",
      " Layer (type)                Output Shape              Param #   \n",
      "=================================================================\n",
      " center_crop (CenterCrop)    (None, 207, 207, 1)       0         \n",
      "                                                                 \n",
      " max_pooling2d (MaxPooling2D  (None, 69, 69, 1)        0         \n",
      " )                                                               \n",
      "                                                                 \n",
      " conv2d_2 (Conv2D)           (None, 67, 67, 32)        320       \n",
      "                                                                 \n",
      " max_pooling2d_1 (MaxPooling  (None, 33, 33, 32)       0         \n",
      " 2D)                                                             \n",
      "                                                                 \n",
      " conv2d_3 (Conv2D)           (None, 31, 31, 64)        18496     \n",
      "                                                                 \n",
      " max_pooling2d_2 (MaxPooling  (None, 15, 15, 64)       0         \n",
      " 2D)                                                             \n",
      "                                                                 \n",
      " flatten_2 (Flatten)         (None, 14400)             0         \n",
      "                                                                 \n",
      " dense_5 (Dense)             (None, 32)                460832    \n",
      "                                                                 \n",
      " dense_6 (Dense)             (None, 3)                 99        \n",
      "                                                                 \n",
      "=================================================================\n",
      "Total params: 479,747\n",
      "Trainable params: 479,747\n",
      "Non-trainable params: 0\n",
      "_________________________________________________________________\n"
     ]
    }
   ],
   "source": [
    "conv_pool_model = tf.keras.models.Sequential()\n",
    "conv_pool_model.add(tf.keras.Input(shape=(pixres,pixres,1)))\n",
    "conv_pool_model.add(tf.keras.layers.CenterCrop(207, 207))\n",
    "conv_pool_model.add(tf.keras.layers.MaxPool2D(pool_size=3))\n",
    "conv_pool_model.add(tf.keras.layers.Conv2D(32,(3,3),activation=\"relu\"))\n",
    "conv_pool_model.add(tf.keras.layers.MaxPool2D(pool_size=(2,2)))\n",
    "conv_pool_model.add(tf.keras.layers.Conv2D(64,(3,3),activation=\"relu\"))\n",
    "conv_pool_model.add(tf.keras.layers.MaxPool2D(pool_size=(2,2)))\n",
    "conv_pool_model.add(tf.keras.layers.Flatten())\n",
    "conv_pool_model.add(tf.keras.layers.Dense(32))\n",
    "conv_pool_model.add(tf.keras.layers.Dense(3,activation='sigmoid'))\n",
    "conv_pool_model.compile(\n",
    "    loss='mean_squared_error',\n",
    "    optimizer='SGD',\n",
    "    metrics=['acc']\n",
    ")\n",
    "conv_pool_model.summary()"
   ]
  },
  {
   "cell_type": "code",
   "execution_count": 7,
   "metadata": {},
   "outputs": [
    {
     "name": "stdout",
     "output_type": "stream",
     "text": [
      "Epoch 1/15\n"
     ]
    },
    {
     "name": "stderr",
     "output_type": "stream",
     "text": [
      "2022-05-27 17:29:46.502544: W tensorflow/core/platform/profile_utils/cpu_utils.cc:128] Failed to get CPU frequency: 0 Hz\n",
      "2022-05-27 17:29:46.826826: I tensorflow/core/grappler/optimizers/custom_graph_optimizer_registry.cc:113] Plugin optimizer for device_type GPU is enabled.\n"
     ]
    },
    {
     "name": "stdout",
     "output_type": "stream",
     "text": [
      "1451/1451 [==============================] - ETA: 0s - loss: 0.0368 - acc: 0.7535"
     ]
    },
    {
     "name": "stderr",
     "output_type": "stream",
     "text": [
      "2022-05-27 17:31:38.463171: I tensorflow/core/grappler/optimizers/custom_graph_optimizer_registry.cc:113] Plugin optimizer for device_type GPU is enabled.\n"
     ]
    },
    {
     "name": "stdout",
     "output_type": "stream",
     "text": [
      "1451/1451 [==============================] - 124s 85ms/step - loss: 0.0368 - acc: 0.7535 - val_loss: 0.0387 - val_acc: 0.6814\n",
      "Epoch 2/15\n",
      "1451/1451 [==============================] - 124s 86ms/step - loss: 0.0263 - acc: 0.8091 - val_loss: 0.0221 - val_acc: 0.8249\n",
      "Epoch 3/15\n",
      "1451/1451 [==============================] - 125s 86ms/step - loss: 0.0233 - acc: 0.8201 - val_loss: 0.0234 - val_acc: 0.8131\n",
      "Epoch 4/15\n",
      "1451/1451 [==============================] - 125s 86ms/step - loss: 0.0217 - acc: 0.8280 - val_loss: 0.0221 - val_acc: 0.8214\n",
      "Epoch 5/15\n",
      "1008/1451 [===================>..........] - ETA: 33s - loss: 0.0207 - acc: 0.8306"
     ]
    },
    {
     "ename": "KeyboardInterrupt",
     "evalue": "",
     "output_type": "error",
     "traceback": [
      "\u001b[0;31m---------------------------------------------------------------------------\u001b[0m",
      "\u001b[0;31mKeyboardInterrupt\u001b[0m                         Traceback (most recent call last)",
      "\u001b[1;32m/Users/humzaqureshi/Documents/GitHub/Astr-211/final_project2.ipynb Cell 7'\u001b[0m in \u001b[0;36m<cell line: 1>\u001b[0;34m()\u001b[0m\n\u001b[0;32m----> <a href='vscode-notebook-cell:/Users/humzaqureshi/Documents/GitHub/Astr-211/final_project2.ipynb#ch0000023?line=0'>1</a>\u001b[0m conv_pool_model\u001b[39m.\u001b[39;49mfit(x\u001b[39m=\u001b[39;49mtrain_generator,epochs\u001b[39m=\u001b[39;49m\u001b[39m15\u001b[39;49m,validation_data\u001b[39m=\u001b[39;49mvalidation_generator,validation_freq\u001b[39m=\u001b[39;49m\u001b[39m1\u001b[39;49m,verbose\u001b[39m=\u001b[39;49m\u001b[39m1\u001b[39;49m)\n\u001b[1;32m      <a href='vscode-notebook-cell:/Users/humzaqureshi/Documents/GitHub/Astr-211/final_project2.ipynb#ch0000023?line=1'>2</a>\u001b[0m conv_pool_score \u001b[39m=\u001b[39m conv_pool_model\u001b[39m.\u001b[39mevaluate(test_generator, return_dict\u001b[39m=\u001b[39m\u001b[39mTrue\u001b[39;00m)\n\u001b[1;32m      <a href='vscode-notebook-cell:/Users/humzaqureshi/Documents/GitHub/Astr-211/final_project2.ipynb#ch0000023?line=2'>3</a>\u001b[0m \u001b[39mprint\u001b[39m(conv_pool_score)\n",
      "File \u001b[0;32m~/miniforge3/lib/python3.9/site-packages/keras/utils/traceback_utils.py:64\u001b[0m, in \u001b[0;36mfilter_traceback.<locals>.error_handler\u001b[0;34m(*args, **kwargs)\u001b[0m\n\u001b[1;32m     <a href='file:///Users/humzaqureshi/miniforge3/lib/python3.9/site-packages/keras/utils/traceback_utils.py?line=61'>62</a>\u001b[0m filtered_tb \u001b[39m=\u001b[39m \u001b[39mNone\u001b[39;00m\n\u001b[1;32m     <a href='file:///Users/humzaqureshi/miniforge3/lib/python3.9/site-packages/keras/utils/traceback_utils.py?line=62'>63</a>\u001b[0m \u001b[39mtry\u001b[39;00m:\n\u001b[0;32m---> <a href='file:///Users/humzaqureshi/miniforge3/lib/python3.9/site-packages/keras/utils/traceback_utils.py?line=63'>64</a>\u001b[0m   \u001b[39mreturn\u001b[39;00m fn(\u001b[39m*\u001b[39;49margs, \u001b[39m*\u001b[39;49m\u001b[39m*\u001b[39;49mkwargs)\n\u001b[1;32m     <a href='file:///Users/humzaqureshi/miniforge3/lib/python3.9/site-packages/keras/utils/traceback_utils.py?line=64'>65</a>\u001b[0m \u001b[39mexcept\u001b[39;00m \u001b[39mException\u001b[39;00m \u001b[39mas\u001b[39;00m e:  \u001b[39m# pylint: disable=broad-except\u001b[39;00m\n\u001b[1;32m     <a href='file:///Users/humzaqureshi/miniforge3/lib/python3.9/site-packages/keras/utils/traceback_utils.py?line=65'>66</a>\u001b[0m   filtered_tb \u001b[39m=\u001b[39m _process_traceback_frames(e\u001b[39m.\u001b[39m__traceback__)\n",
      "File \u001b[0;32m~/miniforge3/lib/python3.9/site-packages/keras/engine/training.py:1413\u001b[0m, in \u001b[0;36mModel.fit\u001b[0;34m(self, x, y, batch_size, epochs, verbose, callbacks, validation_split, validation_data, shuffle, class_weight, sample_weight, initial_epoch, steps_per_epoch, validation_steps, validation_batch_size, validation_freq, max_queue_size, workers, use_multiprocessing)\u001b[0m\n\u001b[1;32m   <a href='file:///Users/humzaqureshi/miniforge3/lib/python3.9/site-packages/keras/engine/training.py?line=1410'>1411</a>\u001b[0m   context\u001b[39m.\u001b[39masync_wait()\n\u001b[1;32m   <a href='file:///Users/humzaqureshi/miniforge3/lib/python3.9/site-packages/keras/engine/training.py?line=1411'>1412</a>\u001b[0m logs \u001b[39m=\u001b[39m tmp_logs  \u001b[39m# No error, now safe to assign to logs.\u001b[39;00m\n\u001b[0;32m-> <a href='file:///Users/humzaqureshi/miniforge3/lib/python3.9/site-packages/keras/engine/training.py?line=1412'>1413</a>\u001b[0m end_step \u001b[39m=\u001b[39m step \u001b[39m+\u001b[39m data_handler\u001b[39m.\u001b[39;49mstep_increment\n\u001b[1;32m   <a href='file:///Users/humzaqureshi/miniforge3/lib/python3.9/site-packages/keras/engine/training.py?line=1413'>1414</a>\u001b[0m callbacks\u001b[39m.\u001b[39mon_train_batch_end(end_step, logs)\n\u001b[1;32m   <a href='file:///Users/humzaqureshi/miniforge3/lib/python3.9/site-packages/keras/engine/training.py?line=1414'>1415</a>\u001b[0m \u001b[39mif\u001b[39;00m \u001b[39mself\u001b[39m\u001b[39m.\u001b[39mstop_training:\n",
      "File \u001b[0;32m~/miniforge3/lib/python3.9/site-packages/keras/engine/data_adapter.py:1268\u001b[0m, in \u001b[0;36mDataHandler.step_increment\u001b[0;34m(self)\u001b[0m\n\u001b[1;32m   <a href='file:///Users/humzaqureshi/miniforge3/lib/python3.9/site-packages/keras/engine/data_adapter.py?line=1264'>1265</a>\u001b[0m       \u001b[39mself\u001b[39m\u001b[39m.\u001b[39m_current_step \u001b[39m+\u001b[39m\u001b[39m=\u001b[39m steps_remaining\n\u001b[1;32m   <a href='file:///Users/humzaqureshi/miniforge3/lib/python3.9/site-packages/keras/engine/data_adapter.py?line=1265'>1266</a>\u001b[0m       \u001b[39mself\u001b[39m\u001b[39m.\u001b[39m_steps_per_execution\u001b[39m.\u001b[39massign(original_spe)\n\u001b[0;32m-> <a href='file:///Users/humzaqureshi/miniforge3/lib/python3.9/site-packages/keras/engine/data_adapter.py?line=1267'>1268</a>\u001b[0m \u001b[39m@property\u001b[39m\n\u001b[1;32m   <a href='file:///Users/humzaqureshi/miniforge3/lib/python3.9/site-packages/keras/engine/data_adapter.py?line=1268'>1269</a>\u001b[0m \u001b[39mdef\u001b[39;00m \u001b[39mstep_increment\u001b[39m(\u001b[39mself\u001b[39m):\n\u001b[1;32m   <a href='file:///Users/humzaqureshi/miniforge3/lib/python3.9/site-packages/keras/engine/data_adapter.py?line=1269'>1270</a>\u001b[0m   \u001b[39m\"\"\"The number to increment the step for `on_batch_end` methods.\"\"\"\u001b[39;00m\n\u001b[1;32m   <a href='file:///Users/humzaqureshi/miniforge3/lib/python3.9/site-packages/keras/engine/data_adapter.py?line=1270'>1271</a>\u001b[0m   \u001b[39mreturn\u001b[39;00m \u001b[39mself\u001b[39m\u001b[39m.\u001b[39m_step_increment\n",
      "\u001b[0;31mKeyboardInterrupt\u001b[0m: "
     ]
    }
   ],
   "source": [
    "conv_pool_model.fit(x=train_generator,epochs=15,validation_data=validation_generator,validation_freq=1,verbose=1)\n",
    "conv_pool_score = conv_pool_model.evaluate(test_generator, return_dict=True)\n",
    "print(conv_pool_score)"
   ]
  },
  {
   "cell_type": "code",
   "execution_count": null,
   "metadata": {},
   "outputs": [],
   "source": [
    "conv_pool_model.save('conv_pool.h5')"
   ]
  }
 ],
 "metadata": {
  "kernelspec": {
   "display_name": "Conda (base)",
   "language": "python",
   "name": "base"
  },
  "language_info": {
   "codemirror_mode": {
    "name": "ipython",
    "version": 3
   },
   "file_extension": ".py",
   "mimetype": "text/x-python",
   "name": "python",
   "nbconvert_exporter": "python",
   "pygments_lexer": "ipython3",
   "version": "3.9.10"
  },
  "orig_nbformat": 4
 },
 "nbformat": 4,
 "nbformat_minor": 2
}
