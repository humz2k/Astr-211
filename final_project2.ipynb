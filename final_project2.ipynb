{
 "cells": [
  {
   "cell_type": "code",
   "execution_count": 1,
   "metadata": {},
   "outputs": [],
   "source": [
    "#Path to Images\n",
    "impath = \"data/images_training_rev1\"\n",
    "#Path to Labels CSV\n",
    "lapath = \"training_solutions_rev1.csv\"\n",
    "#N test images\n",
    "ntest = 10000\n",
    "#Resolution\n",
    "res = 1\n",
    "#Base size\n",
    "base_size = 424"
   ]
  },
  {
   "cell_type": "code",
   "execution_count": 2,
   "metadata": {},
   "outputs": [],
   "source": [
    "import pandas as pd\n",
    "import numpy as np\n",
    "from PIL import Image\n",
    "import matplotlib.pyplot as plt\n",
    "import skimage.io as io\n",
    "import tensorflow as tf\n",
    "import pathlib\n",
    "import os\n",
    "import sys\n",
    "%matplotlib inline"
   ]
  },
  {
   "cell_type": "code",
   "execution_count": 3,
   "metadata": {},
   "outputs": [
    {
     "name": "stdout",
     "output_type": "stream",
     "text": [
      "Found 46421 validated image filenames.\n",
      "Found 5157 validated image filenames.\n",
      "Found 10000 validated image filenames.\n"
     ]
    }
   ],
   "source": [
    "pixres = int(np.sqrt((base_size*base_size)*res))\n",
    "\n",
    "label_df = pd.read_csv(lapath)\n",
    "label_df[\"GalaxyID\"] = label_df[\"GalaxyID\"].apply((lambda x: str(x) + \".jpg\"))\n",
    "tests = np.random.choice(range(len(label_df)), ntest, replace=False)\n",
    "testdf = label_df.iloc[tests]\n",
    "traindf = label_df.drop(index=tests)\n",
    "\n",
    "datagen=tf.keras.preprocessing.image.ImageDataGenerator(rescale=1./255, validation_split=0.1)\n",
    "testgen=tf.keras.preprocessing.image.ImageDataGenerator(rescale=1./255)\n",
    "\n",
    "train_generator=datagen.flow_from_dataframe(\n",
    "dataframe=traindf,\n",
    "directory=impath,\n",
    "x_col=\"GalaxyID\",\n",
    "y_col=['Class1.1','Class1.2','Class1.3'],\n",
    "class_mode = \"raw\",\n",
    "subset=\"training\",\n",
    "batch_size=32,\n",
    "color_mode=\"grayscale\",\n",
    "interpolation='bilinear',\n",
    "target_size=(pixres,pixres))\n",
    "\n",
    "validation_generator=datagen.flow_from_dataframe(\n",
    "dataframe=traindf,\n",
    "directory=impath,\n",
    "x_col=\"GalaxyID\",\n",
    "y_col=['Class1.1','Class1.2','Class1.3'],\n",
    "class_mode = \"raw\",\n",
    "subset=\"validation\",\n",
    "batch_size=32,\n",
    "color_mode=\"grayscale\",\n",
    "interpolation='bilinear',\n",
    "target_size=(pixres,pixres))\n",
    "\n",
    "test_generator=testgen.flow_from_dataframe(\n",
    "dataframe=testdf,\n",
    "directory=impath, \n",
    "x_col='GalaxyID',\n",
    "y_col=['Class1.1','Class1.2','Class1.3'],\n",
    "target_size=(pixres,pixres),\n",
    "color_mode=\"grayscale\",\n",
    "class_mode='raw',\n",
    "interpolation='bilinear',\n",
    "batch_size=1)"
   ]
  },
  {
   "cell_type": "code",
   "execution_count": 4,
   "metadata": {},
   "outputs": [
    {
     "name": "stdout",
     "output_type": "stream",
     "text": [
      "Metal device set to: Apple M1 Pro\n",
      "\n",
      "systemMemory: 16.00 GB\n",
      "maxCacheSize: 5.33 GB\n",
      "\n"
     ]
    },
    {
     "name": "stderr",
     "output_type": "stream",
     "text": [
      "2022-05-27 18:13:12.936967: I tensorflow/core/common_runtime/pluggable_device/pluggable_device_factory.cc:305] Could not identify NUMA node of platform GPU ID 0, defaulting to 0. Your kernel may not have been built with NUMA support.\n",
      "2022-05-27 18:13:12.937091: I tensorflow/core/common_runtime/pluggable_device/pluggable_device_factory.cc:271] Created TensorFlow device (/job:localhost/replica:0/task:0/device:GPU:0 with 0 MB memory) -> physical PluggableDevice (device: 0, name: METAL, pci bus id: <undefined>)\n"
     ]
    }
   ],
   "source": [
    "basic_rms_model = tf.keras.models.Sequential()\n",
    "basic_rms_model.add(tf.keras.Input(shape=(pixres,pixres,1)))\n",
    "basic_rms_model.add(tf.keras.layers.Flatten())\n",
    "basic_rms_model.add(tf.keras.layers.Dense(32))\n",
    "basic_rms_model.add(tf.keras.layers.Dense(32))\n",
    "basic_rms_model.add(tf.keras.layers.Dense(3,activation='sigmoid'))\n",
    "basic_rms_model.compile(\n",
    "    loss='mean_squared_error',\n",
    "    metrics=['acc']\n",
    ")\n",
    "#basic_rms_model.summary()"
   ]
  },
  {
   "cell_type": "code",
   "execution_count": 5,
   "metadata": {},
   "outputs": [],
   "source": [
    "basic_conv2d_model = tf.keras.models.Sequential()\n",
    "basic_conv2d_model.add(tf.keras.Input(shape=(pixres,pixres,1)))\n",
    "basic_conv2d_model.add(tf.keras.layers.Conv2D(32,(3,3),activation=\"relu\"))\n",
    "basic_conv2d_model.add(tf.keras.layers.Conv2D(64,(3,3),activation=\"relu\"))\n",
    "basic_conv2d_model.add(tf.keras.layers.Flatten())\n",
    "basic_conv2d_model.add(tf.keras.layers.Dense(32))\n",
    "basic_conv2d_model.add(tf.keras.layers.Dense(3,activation='sigmoid'))\n",
    "basic_conv2d_model.compile(\n",
    "    loss='mean_squared_error',\n",
    "    metrics=['acc']\n",
    ")\n",
    "#basic_conv2d_model.summary()"
   ]
  },
  {
   "cell_type": "code",
   "execution_count": 6,
   "metadata": {},
   "outputs": [
    {
     "name": "stdout",
     "output_type": "stream",
     "text": [
      "Model: \"sequential_2\"\n",
      "_________________________________________________________________\n",
      " Layer (type)                Output Shape              Param #   \n",
      "=================================================================\n",
      " center_crop (CenterCrop)    (None, 207, 207, 1)       0         \n",
      "                                                                 \n",
      " max_pooling2d (MaxPooling2D  (None, 69, 69, 1)        0         \n",
      " )                                                               \n",
      "                                                                 \n",
      " conv2d_2 (Conv2D)           (None, 67, 67, 64)        640       \n",
      "                                                                 \n",
      " max_pooling2d_1 (MaxPooling  (None, 33, 33, 64)       0         \n",
      " 2D)                                                             \n",
      "                                                                 \n",
      " conv2d_3 (Conv2D)           (None, 31, 31, 32)        18464     \n",
      "                                                                 \n",
      " max_pooling2d_2 (MaxPooling  (None, 15, 15, 32)       0         \n",
      " 2D)                                                             \n",
      "                                                                 \n",
      " flatten_2 (Flatten)         (None, 7200)              0         \n",
      "                                                                 \n",
      " dense_5 (Dense)             (None, 64)                460864    \n",
      "                                                                 \n",
      " dense_6 (Dense)             (None, 3)                 195       \n",
      "                                                                 \n",
      "=================================================================\n",
      "Total params: 480,163\n",
      "Trainable params: 480,163\n",
      "Non-trainable params: 0\n",
      "_________________________________________________________________\n"
     ]
    }
   ],
   "source": [
    "conv_pool_model = tf.keras.models.Sequential()\n",
    "conv_pool_model.add(tf.keras.Input(shape=(pixres,pixres,1)))\n",
    "conv_pool_model.add(tf.keras.layers.CenterCrop(207, 207))\n",
    "conv_pool_model.add(tf.keras.layers.MaxPool2D(pool_size=3))\n",
    "conv_pool_model.add(tf.keras.layers.Conv2D(64,(3,3),activation=\"relu\"))\n",
    "conv_pool_model.add(tf.keras.layers.MaxPool2D(pool_size=(2,2)))\n",
    "conv_pool_model.add(tf.keras.layers.Conv2D(32,(3,3),activation=\"relu\"))\n",
    "conv_pool_model.add(tf.keras.layers.MaxPool2D(pool_size=(2,2)))\n",
    "conv_pool_model.add(tf.keras.layers.Flatten())\n",
    "conv_pool_model.add(tf.keras.layers.Dense(64,activation=\"relu\"))\n",
    "conv_pool_model.add(tf.keras.layers.Dense(3,activation='sigmoid'))\n",
    "conv_pool_model.compile(\n",
    "    loss='mean_squared_error',\n",
    "    optimizer='SGD',\n",
    "    metrics=['acc']\n",
    ")\n",
    "conv_pool_model.summary()"
   ]
  },
  {
   "cell_type": "code",
   "execution_count": 7,
   "metadata": {},
   "outputs": [
    {
     "name": "stdout",
     "output_type": "stream",
     "text": [
      "Epoch 1/15\n"
     ]
    },
    {
     "name": "stderr",
     "output_type": "stream",
     "text": [
      "2022-05-27 18:13:13.420717: W tensorflow/core/platform/profile_utils/cpu_utils.cc:128] Failed to get CPU frequency: 0 Hz\n",
      "2022-05-27 18:13:13.661829: I tensorflow/core/grappler/optimizers/custom_graph_optimizer_registry.cc:113] Plugin optimizer for device_type GPU is enabled.\n"
     ]
    },
    {
     "name": "stdout",
     "output_type": "stream",
     "text": [
      "1451/1451 [==============================] - ETA: 0s - loss: 0.0659 - acc: 0.5596"
     ]
    },
    {
     "name": "stderr",
     "output_type": "stream",
     "text": [
      "2022-05-27 18:14:33.167399: I tensorflow/core/grappler/optimizers/custom_graph_optimizer_registry.cc:113] Plugin optimizer for device_type GPU is enabled.\n"
     ]
    },
    {
     "name": "stdout",
     "output_type": "stream",
     "text": [
      "1451/1451 [==============================] - 89s 61ms/step - loss: 0.0659 - acc: 0.5596 - val_loss: 0.0556 - val_acc: 0.5604\n",
      "Epoch 2/15\n",
      "1451/1451 [==============================] - 89s 61ms/step - loss: 0.0549 - acc: 0.5772 - val_loss: 0.0536 - val_acc: 0.5813\n",
      "Epoch 3/15\n",
      "1451/1451 [==============================] - 92s 63ms/step - loss: 0.0523 - acc: 0.6289 - val_loss: 0.0516 - val_acc: 0.6261\n",
      "Epoch 4/15\n",
      "1451/1451 [==============================] - 92s 63ms/step - loss: 0.0500 - acc: 0.6542 - val_loss: 0.0493 - val_acc: 0.6513\n",
      "Epoch 5/15\n",
      "1451/1451 [==============================] - 93s 64ms/step - loss: 0.0478 - acc: 0.6714 - val_loss: 0.0473 - val_acc: 0.6643\n",
      "Epoch 6/15\n",
      " 644/1451 [============>.................] - ETA: 46s - loss: 0.0461 - acc: 0.6847"
     ]
    }
   ],
   "source": [
    "conv_pool_model.fit(x=train_generator,epochs=15,validation_data=validation_generator,validation_freq=1,verbose=1)\n",
    "conv_pool_score = conv_pool_model.evaluate(test_generator, return_dict=True)\n",
    "print(conv_pool_score)"
   ]
  },
  {
   "cell_type": "code",
   "execution_count": null,
   "metadata": {},
   "outputs": [],
   "source": [
    "conv_pool_model.save('conv_pool.h5')"
   ]
  }
 ],
 "metadata": {
  "kernelspec": {
   "display_name": "Conda (base)",
   "language": "python",
   "name": "base"
  },
  "language_info": {
   "codemirror_mode": {
    "name": "ipython",
    "version": 3
   },
   "file_extension": ".py",
   "mimetype": "text/x-python",
   "name": "python",
   "nbconvert_exporter": "python",
   "pygments_lexer": "ipython3",
   "version": "3.9.10"
  },
  "orig_nbformat": 4
 },
 "nbformat": 4,
 "nbformat_minor": 2
}
