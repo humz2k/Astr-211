{
 "cells": [
  {
   "cell_type": "code",
   "execution_count": 1,
   "metadata": {},
   "outputs": [],
   "source": [
    "#Path to Images\n",
    "impath = \"images_training_rev1/\"\n",
    "#Path to Labels CSV\n",
    "lapath = \"training_solutions_rev1.csv\""
   ]
  },
  {
   "cell_type": "code",
   "execution_count": 2,
   "metadata": {},
   "outputs": [],
   "source": [
    "import pandas as pd\n",
    "import numpy as np\n",
    "from PIL import Image\n",
    "import matplotlib.pyplot as plt\n",
    "import skimage.io as io\n",
    "import tensorflow as tf\n",
    "%matplotlib inline"
   ]
  },
  {
   "cell_type": "code",
   "execution_count": 3,
   "metadata": {},
   "outputs": [
    {
     "name": "stderr",
     "output_type": "stream",
     "text": [
      "/Users/humzaqureshi/miniforge3/lib/python3.9/site-packages/keras/utils/image_dataset.py:156: FutureWarning: elementwise comparison failed; returning scalar instead, but in the future will perform elementwise comparison\n",
      "  if labels not in ('inferred', None):\n"
     ]
    },
    {
     "ename": "ValueError",
     "evalue": "The truth value of an array with more than one element is ambiguous. Use a.any() or a.all()",
     "output_type": "error",
     "traceback": [
      "\u001b[0;31m---------------------------------------------------------------------------\u001b[0m",
      "\u001b[0;31mValueError\u001b[0m                                Traceback (most recent call last)",
      "\u001b[1;32m/Users/humzaqureshi/Documents/GitHub/Astr-211/final_project2.ipynb Cell 3'\u001b[0m in \u001b[0;36m<cell line: 4>\u001b[0;34m()\u001b[0m\n\u001b[1;32m      <a href='vscode-notebook-cell:/Users/humzaqureshi/Documents/GitHub/Astr-211/final_project2.ipynb#ch0000002?line=1'>2</a>\u001b[0m labels \u001b[39m=\u001b[39m label_df\u001b[39m.\u001b[39mto_numpy()\n\u001b[1;32m      <a href='vscode-notebook-cell:/Users/humzaqureshi/Documents/GitHub/Astr-211/final_project2.ipynb#ch0000002?line=2'>3</a>\u001b[0m ids \u001b[39m=\u001b[39m label_df\u001b[39m.\u001b[39mindex\u001b[39m.\u001b[39mto_numpy()\n\u001b[0;32m----> <a href='vscode-notebook-cell:/Users/humzaqureshi/Documents/GitHub/Astr-211/final_project2.ipynb#ch0000002?line=3'>4</a>\u001b[0m image_set \u001b[39m=\u001b[39m tf\u001b[39m.\u001b[39;49mkeras\u001b[39m.\u001b[39;49mpreprocessing\u001b[39m.\u001b[39;49mimage_dataset_from_directory(impath,labels\u001b[39m=\u001b[39;49mlabels,label_mode\u001b[39m=\u001b[39;49m\u001b[39m'\u001b[39;49m\u001b[39mcategorical\u001b[39;49m\u001b[39m'\u001b[39;49m)\n",
      "File \u001b[0;32m~/miniforge3/lib/python3.9/site-packages/keras/utils/image_dataset.py:156\u001b[0m, in \u001b[0;36mimage_dataset_from_directory\u001b[0;34m(directory, labels, label_mode, class_names, color_mode, batch_size, image_size, shuffle, seed, validation_split, subset, interpolation, follow_links, crop_to_aspect_ratio, **kwargs)\u001b[0m\n\u001b[1;32m    <a href='file:///Users/humzaqureshi/miniforge3/lib/python3.9/site-packages/keras/utils/image_dataset.py?line=153'>154</a>\u001b[0m \u001b[39mif\u001b[39;00m kwargs:\n\u001b[1;32m    <a href='file:///Users/humzaqureshi/miniforge3/lib/python3.9/site-packages/keras/utils/image_dataset.py?line=154'>155</a>\u001b[0m   \u001b[39mraise\u001b[39;00m \u001b[39mTypeError\u001b[39;00m(\u001b[39mf\u001b[39m\u001b[39m'\u001b[39m\u001b[39mUnknown keywords argument(s): \u001b[39m\u001b[39m{\u001b[39;00m\u001b[39mtuple\u001b[39m(kwargs\u001b[39m.\u001b[39mkeys())\u001b[39m}\u001b[39;00m\u001b[39m'\u001b[39m)\n\u001b[0;32m--> <a href='file:///Users/humzaqureshi/miniforge3/lib/python3.9/site-packages/keras/utils/image_dataset.py?line=155'>156</a>\u001b[0m \u001b[39mif\u001b[39;00m labels \u001b[39mnot\u001b[39;49;00m \u001b[39min\u001b[39;49;00m (\u001b[39m'\u001b[39;49m\u001b[39minferred\u001b[39;49m\u001b[39m'\u001b[39;49m, \u001b[39mNone\u001b[39;49;00m):\n\u001b[1;32m    <a href='file:///Users/humzaqureshi/miniforge3/lib/python3.9/site-packages/keras/utils/image_dataset.py?line=156'>157</a>\u001b[0m   \u001b[39mif\u001b[39;00m \u001b[39mnot\u001b[39;00m \u001b[39misinstance\u001b[39m(labels, (\u001b[39mlist\u001b[39m, \u001b[39mtuple\u001b[39m)):\n\u001b[1;32m    <a href='file:///Users/humzaqureshi/miniforge3/lib/python3.9/site-packages/keras/utils/image_dataset.py?line=157'>158</a>\u001b[0m     \u001b[39mraise\u001b[39;00m \u001b[39mValueError\u001b[39;00m(\n\u001b[1;32m    <a href='file:///Users/humzaqureshi/miniforge3/lib/python3.9/site-packages/keras/utils/image_dataset.py?line=158'>159</a>\u001b[0m         \u001b[39m'\u001b[39m\u001b[39m`labels` argument should be a list/tuple of integer labels, of \u001b[39m\u001b[39m'\u001b[39m\n\u001b[1;32m    <a href='file:///Users/humzaqureshi/miniforge3/lib/python3.9/site-packages/keras/utils/image_dataset.py?line=159'>160</a>\u001b[0m         \u001b[39m'\u001b[39m\u001b[39mthe same size as the number of image files in the target \u001b[39m\u001b[39m'\u001b[39m\n\u001b[0;32m   (...)\u001b[0m\n\u001b[1;32m    <a href='file:///Users/humzaqureshi/miniforge3/lib/python3.9/site-packages/keras/utils/image_dataset.py?line=162'>163</a>\u001b[0m         \u001b[39m'\u001b[39m\u001b[39mIf you wish to get a dataset that only contains images \u001b[39m\u001b[39m'\u001b[39m\n\u001b[1;32m    <a href='file:///Users/humzaqureshi/miniforge3/lib/python3.9/site-packages/keras/utils/image_dataset.py?line=163'>164</a>\u001b[0m         \u001b[39mf\u001b[39m\u001b[39m'\u001b[39m\u001b[39m(no labels), pass `labels=None`. Received: labels=\u001b[39m\u001b[39m{\u001b[39;00mlabels\u001b[39m}\u001b[39;00m\u001b[39m'\u001b[39m)\n",
      "\u001b[0;31mValueError\u001b[0m: The truth value of an array with more than one element is ambiguous. Use a.any() or a.all()"
     ]
    }
   ],
   "source": [
    "label_df = pd.read_csv(lapath,index_col=0)\n",
    "labels = label_df.to_numpy()\n",
    "ids = label_df.index.to_numpy()\n",
    "image_set = tf.keras.preprocessing.image_dataset_from_directory(impath,labels=labels,label_mode='categorical')"
   ]
  },
  {
   "cell_type": "code",
   "execution_count": null,
   "metadata": {},
   "outputs": [],
   "source": []
  }
 ],
 "metadata": {
  "kernelspec": {
   "display_name": "Conda (base)",
   "language": "python",
   "name": "base"
  },
  "language_info": {
   "codemirror_mode": {
    "name": "ipython",
    "version": 3
   },
   "file_extension": ".py",
   "mimetype": "text/x-python",
   "name": "python",
   "nbconvert_exporter": "python",
   "pygments_lexer": "ipython3",
   "version": "3.9.10"
  },
  "orig_nbformat": 4
 },
 "nbformat": 4,
 "nbformat_minor": 2
}
