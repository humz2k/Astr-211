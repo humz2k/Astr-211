{
 "cells": [
  {
   "cell_type": "code",
   "execution_count": 1,
   "metadata": {},
   "outputs": [],
   "source": [
    "#Path to Images\n",
    "impath = \"data/images_training_rev1\"\n",
    "#Path to Labels CSV\n",
    "lapath = \"training_solutions_rev1.csv\""
   ]
  },
  {
   "cell_type": "code",
   "execution_count": 2,
   "metadata": {},
   "outputs": [],
   "source": [
    "import pandas as pd\n",
    "import numpy as np\n",
    "from PIL import Image\n",
    "import matplotlib.pyplot as plt\n",
    "import skimage.io as io\n",
    "import tensorflow as tf\n",
    "import pathlib\n",
    "import os\n",
    "import sys\n",
    "%matplotlib inline"
   ]
  },
  {
   "cell_type": "code",
   "execution_count": 3,
   "metadata": {},
   "outputs": [],
   "source": [
    "label_df = pd.read_csv(lapath)\n",
    "label_df[\"GalaxyID\"] = label_df[\"GalaxyID\"].apply((lambda x: str(x) + \".jpg\"))\n",
    "datagen = tf.keras.preprocessing.image.ImageDataGenerator(validation_split=0.1)"
   ]
  },
  {
   "cell_type": "code",
   "execution_count": 21,
   "metadata": {},
   "outputs": [
    {
     "name": "stdout",
     "output_type": "stream",
     "text": [
      "Found 55421 validated image filenames.\n",
      "Found 6157 validated image filenames.\n"
     ]
    }
   ],
   "source": [
    "train_generator=datagen.flow_from_dataframe(\n",
    "dataframe=label_df,\n",
    "directory=impath,\n",
    "x_col=\"GalaxyID\",\n",
    "y_col=list(label_df.keys())[1:],\n",
    "class_mode = \"raw\",\n",
    "subset=\"training\",\n",
    "batch_size=32,\n",
    "color_mode=\"grayscale\",\n",
    "target_size=(424,424))\n",
    "\n",
    "validation_generator=datagen.flow_from_dataframe(\n",
    "dataframe=label_df,\n",
    "directory=impath,\n",
    "x_col=\"GalaxyID\",\n",
    "y_col=list(label_df.keys())[1:],\n",
    "class_mode = \"raw\",\n",
    "subset=\"validation\",\n",
    "batch_size=32,\n",
    "color_mode=\"grayscale\",\n",
    "target_size=(424,424))"
   ]
  },
  {
   "cell_type": "code",
   "execution_count": 22,
   "metadata": {},
   "outputs": [
    {
     "name": "stdout",
     "output_type": "stream",
     "text": [
      "(32, 424, 424, 1)\n"
     ]
    }
   ],
   "source": [
    "thing = train_generator[0]\n",
    "\n",
    "print(thing[0].shape)"
   ]
  },
  {
   "cell_type": "code",
   "execution_count": 23,
   "metadata": {},
   "outputs": [
    {
     "name": "stdout",
     "output_type": "stream",
     "text": [
      "Model: \"sequential_3\"\n",
      "_________________________________________________________________\n",
      " Layer (type)                Output Shape              Param #   \n",
      "=================================================================\n",
      " reshape_3 (Reshape)         (None, 179776)            0         \n",
      "                                                                 \n",
      " rescaling_3 (Rescaling)     (None, 179776)            0         \n",
      "                                                                 \n",
      " dense_9 (Dense)             (None, 32)                5752864   \n",
      "                                                                 \n",
      " dense_10 (Dense)            (None, 32)                1056      \n",
      "                                                                 \n",
      " dense_11 (Dense)            (None, 37)                1221      \n",
      "                                                                 \n",
      "=================================================================\n",
      "Total params: 5,755,141\n",
      "Trainable params: 5,755,141\n",
      "Non-trainable params: 0\n",
      "_________________________________________________________________\n"
     ]
    }
   ],
   "source": [
    "model = tf.keras.models.Sequential()\n",
    "model.add(tf.keras.Input(shape=(424,424,1)))\n",
    "model.add(tf.keras.layers.Reshape((424*424,)))\n",
    "model.add(tf.keras.layers.Rescaling(1./255, offset=0.0))\n",
    "model.add(tf.keras.layers.Dense(32))\n",
    "model.add(tf.keras.layers.Dense(32))\n",
    "model.add(tf.keras.layers.Dense((37)))\n",
    "model.compile(\n",
    "    loss = 'mean_squared_error'\n",
    ")\n",
    "model.summary()"
   ]
  },
  {
   "cell_type": "code",
   "execution_count": 24,
   "metadata": {},
   "outputs": [
    {
     "name": "stderr",
     "output_type": "stream",
     "text": [
      "2022-05-20 21:12:13.524485: I tensorflow/core/grappler/optimizers/custom_graph_optimizer_registry.cc:113] Plugin optimizer for device_type GPU is enabled.\n"
     ]
    },
    {
     "name": "stdout",
     "output_type": "stream",
     "text": [
      "1732/1732 [==============================] - 124s 71ms/step - loss: 3.3571\n"
     ]
    },
    {
     "data": {
      "text/plain": [
       "<keras.callbacks.History at 0x177d4ad60>"
      ]
     },
     "execution_count": 24,
     "metadata": {},
     "output_type": "execute_result"
    }
   ],
   "source": [
    "model.fit(x=train_generator)"
   ]
  },
  {
   "cell_type": "code",
   "execution_count": 25,
   "metadata": {},
   "outputs": [],
   "source": [
    "inp = np.reshape(train_generator[0][0][0],(1,424,424,1))"
   ]
  },
  {
   "cell_type": "code",
   "execution_count": 26,
   "metadata": {},
   "outputs": [
    {
     "data": {
      "text/plain": [
       "<tf.Tensor: shape=(1, 37), dtype=float32, numpy=\n",
       "array([[ 0.5023605 ,  0.43266264,  0.0225061 ,  0.1966215 ,  0.2338585 ,\n",
       "         0.07673927,  0.17633027,  0.10144052,  0.16279   ,  0.01561499,\n",
       "         0.10443321,  0.15198109,  0.05398866,  0.16013697,  0.7653103 ,\n",
       "         0.25911143,  0.22837207,  0.09839367,  0.02298955,  0.04075496,\n",
       "         0.0266229 , -0.00189123,  0.06156732, -0.02775297, -0.01161042,\n",
       "         0.16036029,  0.02513487,  0.0603941 ,  0.02512203,  0.03291135,\n",
       "        -0.01773255,  0.02408445,  0.0200637 ,  0.06950925, -0.01144877,\n",
       "        -0.03734456,  0.06011204]], dtype=float32)>"
      ]
     },
     "execution_count": 26,
     "metadata": {},
     "output_type": "execute_result"
    }
   ],
   "source": [
    "model(inp)"
   ]
  },
  {
   "cell_type": "code",
   "execution_count": 31,
   "metadata": {},
   "outputs": [
    {
     "data": {
      "text/plain": [
       "array([[0.265664  , 0.727164  , 0.007172  , 0.        , 0.727164  ,\n",
       "        0.        , 0.727164  , 0.        , 0.727164  , 0.        ,\n",
       "        0.        , 0.60496845, 0.12219555, 0.031901  , 0.968099  ,\n",
       "        0.069914  , 0.17969513, 0.01605487, 0.        , 0.        ,\n",
       "        0.        , 0.031901  , 0.        , 0.        , 0.        ,\n",
       "        0.        , 0.        , 0.        , 0.        , 0.        ,\n",
       "        0.        , 0.        , 0.        , 0.        , 0.        ,\n",
       "        0.        , 0.        ]])"
      ]
     },
     "execution_count": 31,
     "metadata": {},
     "output_type": "execute_result"
    }
   ],
   "source": [
    "np.reshape(train_generator[0][1][0],(1,37))"
   ]
  },
  {
   "cell_type": "code",
   "execution_count": null,
   "metadata": {},
   "outputs": [],
   "source": []
  }
 ],
 "metadata": {
  "kernelspec": {
   "display_name": "Conda (base)",
   "language": "python",
   "name": "base"
  },
  "language_info": {
   "codemirror_mode": {
    "name": "ipython",
    "version": 3
   },
   "file_extension": ".py",
   "mimetype": "text/x-python",
   "name": "python",
   "nbconvert_exporter": "python",
   "pygments_lexer": "ipython3",
   "version": "3.9.10"
  },
  "orig_nbformat": 4
 },
 "nbformat": 4,
 "nbformat_minor": 2
}
