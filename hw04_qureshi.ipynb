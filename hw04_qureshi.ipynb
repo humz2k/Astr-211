{
 "cells": [
  {
   "cell_type": "markdown",
   "metadata": {},
   "source": [
    "<center>\n",
    "    \n",
    "## <font color='blue'> ASTR 21100/31200\n",
    "    \n",
    "<center>\n",
    "    \n",
    "## <font color='blue'> Homework Assignment 4\n",
    "    \n",
    "<center>    \n",
    "    \n",
    "## <font color='blue'> Approximating 2D function using interpolation and regression\n",
    "    \n",
    "<center>\n",
    "    \n",
    "## <font color='blue'> Implementing Differential Evolution algorithm\n",
    "    \n",
    "<center>\n",
    "    \n",
    "## <font color='blue'> undergraduate students (35 points + 15 extra-credit)\n",
    "    \n",
    "<center>   \n",
    "    \n",
    "### <font color='blue'> Distributed: Friday, April 22\n",
    "    \n",
    "<center>\n",
    "    \n",
    "### <font color='blue'> Due: Friday, Apr 29, 9pm\n",
    "    \n",
    "<center>\n",
    "    \n",
    "#### <font color='black'> Humza Qureshi (hqureshi)"
   ]
  },
  {
   "cell_type": "code",
   "execution_count": 1,
   "metadata": {
    "jupyter": {
     "outputs_hidden": false,
     "source_hidden": false
    },
    "nteract": {
     "transient": {
      "deleting": false
     }
    }
   },
   "outputs": [],
   "source": [
    "import numpy as np\n",
    "import matplotlib.pyplot as plt\n",
    "from astropy.cosmology import LambdaCDM\n",
    "import astropy.units as u\n",
    "import scipy.interpolate\n",
    "import scipy.optimize\n",
    "from scipy import stats\n",
    "\n",
    "def plot_pretty(dpi=200,fontsize=10):\n",
    "    plt.rcParams['figure.dpi']= dpi\n",
    "    plt.rc(\"savefig\", dpi=dpi)\n",
    "    plt.rc('font', size=fontsize)\n",
    "    plt.rc('xtick', direction='in')\n",
    "    plt.rc('ytick', direction='in')\n",
    "    plt.rc('xtick.major', pad=5)\n",
    "    plt.rc('xtick.minor', pad=5)\n",
    "    plt.rc('ytick.major', pad=5)\n",
    "    plt.rc('ytick.minor', pad=5)\n",
    "    plt.rc('lines', dotted_pattern = [2., 2.])\n",
    "    plt.rc('legend',fontsize=5)\n",
    "    plt.rcParams['figure.figsize'] = [5, 3]\n",
    "\n",
    "plot_pretty()"
   ]
  },
  {
   "cell_type": "markdown",
   "metadata": {},
   "source": [
    "## <font color='blue'>Exercise 1 (10 points): constructing optimal approximation for $d_L(\\Omega_{\\rm m0},\\Omega_\\Lambda)$</font>\n",
    "**Background.** In the past two weeks you learned how to compute of the luminosity distance $d_L(z,H_0,\\Omega_{\\rm m0},\\Omega_\\Lambda)$. You also learned that this computation is sufficiently computationally expensive that would make it prohibitively expensive if we needed to evaluate it million or so times. The need to do so arises in statistical analyses when we try to find the best combination of $M$, $\\Omega_{\\rm m0}$, $\\Omega_\\Lambda$ that describe supernovae measurements or when we need to sample the range of these parameters  MCMC sampling that we will discuss next. \n",
    "\n",
    "This motivates constructing accurate approximations for $d_L(z,H_0,\\Omega_{\\rm m0},\\Omega_\\Lambda)$ using methods that we've been discussing in the last couple of classes (interpolation or regression). $d_L$ is a function of 4 parameters, but we do not need to construct approximation as a function of the Hubble constant $H_0$. This is because $d_L$ is proportional to $c/H_0$ and this is the only place where $H_0$ appears in its expression. Thus, if we tabulate $\\tilde{d}_L(z,\\Omega_{\\rm m0},\\Omega_\\Lambda)=d_L/(c/H_0)$, we can always then compute the actual value of the luminosity distance $d_L=c/H_0\\,\\tilde{d}_L(z,\\Omega_{\\rm m0}, \\Omega_\\Lambda)$. \n",
    "\n",
    "\n",
    "**Goal of the exercise.** The goal of this exercise is for you to find an optimal approximation of $\\tilde{d}_L$ (i.e. $d_L$ without $c/H_0$ factor) as a function of $\\Omega_{\\rm m0}$ and $\\Omega_\\Lambda$ (that is approximation should be two-dimensional, not two separate 1d approximations as a function of $\\Omega_{\\rm m0}$ and $\\Omega_\\Lambda$) for a given single value of $z$. \n",
    "\n",
    "\"Optimal\" here means that provides target accuracy of the approximation with the smallest training set of tabulated function values. Suppose our target fractional accuracy for $\\tilde{d}_L$ is $<10^{-4}$. Experiment with 2D polynomial and 2D piecewise spline interpolation for $\\tilde{d}_L$ with different number of training points using codes provided below and examples from the notebook [08_multid_optimization_class](https://drive.google.com/file/d/1-ptIvIvbRqtObk8x09ausJanXcqL8pJ0/view?usp=sharing). "
   ]
  },
  {
   "cell_type": "code",
   "execution_count": 2,
   "metadata": {
    "jupyter": {
     "outputs_hidden": false,
     "source_hidden": false
    },
    "nteract": {
     "transient": {
      "deleting": false
     }
    }
   },
   "outputs": [],
   "source": [
    "def d_l_tilde_astropy(z, H0, Om0, OmL, clight=2.99792e5):\n",
    "    '''\n",
    "    compute d_l_tilde using AstroPy d_L function\n",
    "\n",
    "    Parameters:\n",
    "\n",
    "    z - float, or numpy array, redshift\n",
    "    H0 - float, Hubble constant in km/s/Mpc\n",
    "    Om0, OmL - floats, dimensionless matter and dark energy densities\n",
    "\n",
    "    Returns:\n",
    "\n",
    "        d_L - float, or numpy array, rescaled by c/H0 in Mpc\n",
    "    '''\n",
    "    cosmo = LambdaCDM(H0=H0, Om0=Om0, Ode0=OmL)\n",
    "\n",
    "    return cosmo.luminosity_distance(z=z) / u.Mpc / (clight/H0)\n",
    "\n",
    "def get_dl_train_test(ntrain=15, ntest=100, z=1.0, H0=70.,\n",
    "                      om0min=0., om0max = 1., omlmin=0., omlmax=1., spacing=np.linspace):\n",
    "\n",
    "    om0tr = spacing(om0min, om0max, ntrain)\n",
    "    omltr = spacing(omlmin, omlmax, ntrain)\n",
    "\n",
    "    dl_train = np.zeros((ntrain, ntrain)) # initialize 2D numpy array for 2D grid of d_L values\n",
    "    # Now cycle through Om0 and OmL values, compute d_L and fill the dlgrid array with values\n",
    "    for i, omd in enumerate(om0tr):\n",
    "        for j, omld in enumerate(omltr):\n",
    "                dl_train[i,j] = d_l_tilde_astropy(z, H0, omd, omld)\n",
    "\n",
    "    # test points\n",
    "    om0t = np.linspace(om0min, om0max, ntest)\n",
    "    omlt = np.linspace(omlmin, omlmax, ntest)\n",
    "\n",
    "    dl_test = np.zeros((ntest, ntest)) # initialize 2D numpy array for 2D grid of d_L values\n",
    "    # Now cycle through Om0 and OmL values, compute d_L and fill the dlgrid array with values\n",
    "    for i, omd in enumerate(om0t):\n",
    "        for j, omld in enumerate(omlt):\n",
    "                dl_test[i,j] = d_l_tilde_astropy(z, H0, omd, omld)\n",
    "\n",
    "    return om0tr, omltr, om0t, omlt, dl_train, dl_test"
   ]
  },
  {
   "cell_type": "code",
   "execution_count": 3,
   "metadata": {
    "jupyter": {
     "outputs_hidden": false,
     "source_hidden": false
    },
    "nteract": {
     "transient": {
      "deleting": false
     }
    }
   },
   "outputs": [
    {
     "name": "stdout",
     "output_type": "stream",
     "text": [
      "0.0% done...\n",
      "5.0% done...\n",
      "10.0% done...\n",
      "15.0% done...\n",
      "20.0% done...\n",
      "25.0% done...\n",
      "30.0% done...\n",
      "35.0% done...\n",
      "40.0% done...\n",
      "45.0% done...\n",
      "50.0% done...\n",
      "55.0% done...\n",
      "60.0% done...\n",
      "65.0% done...\n",
      "70.0% done...\n",
      "75.0% done...\n",
      "80.0% done...\n",
      "85.0% done...\n",
      "90.0% done...\n",
      "95.0% done...\n"
     ]
    }
   ],
   "source": [
    "def chebyshev_nodes1(a, b, N):\n",
    "    return (a + 0.5*(b-a)*(1. + np.cos((2.*np.arange(N)+1)*np.pi/(2.*(N+1)))))[::-1]\n",
    "\n",
    "def chebyshev_nodes2(a, b, N):\n",
    "    return (a + 0.5*(b-a)*(1. + np.cos(np.arange(N)*np.pi/N)))[::-1]\n",
    "\n",
    "def polyfit2d(xtr, ytr, ftr, order=None):\n",
    "    '''\n",
    "    Parameters:\n",
    "        xtr, ytr - 1d numpy vectors with training points of x and y\n",
    "        ftr - function values at xtr, ytr values\n",
    "        order - int, order of the polynomial\n",
    "\n",
    "    Returns:\n",
    "        coefficients of the 2D polynomial\n",
    "    '''\n",
    "    # generate 2d coordinates on a rectangular grid\n",
    "    x, y = np.meshgrid(xtr, ytr)\n",
    "    # coefficient array, up to x^kx, y^ky\n",
    "    coeffs = np.ones((order+1, order+1))\n",
    "    # array that will contain polynomial term values\n",
    "    s = np.zeros((coeffs.size, x.size))\n",
    "\n",
    "    # construct the 2D matrix of values for each polynomial term i, j\n",
    "    for index, (j, i) in enumerate(np.ndindex(coeffs.shape)):\n",
    "        # do not include powers greater than order\n",
    "        if order is not None and i + j > order:\n",
    "            arr = np.zeros_like(x)\n",
    "        else:\n",
    "            arr = x**i * y**j # coeffs[i, j] *\n",
    "        s[index] = arr.flatten()\n",
    "\n",
    "    # solve for the polynomial coefficients using least squares approximation of ftr values\n",
    "    return np.linalg.lstsq(s.T, np.ravel(ftr), rcond=None)[0]\n",
    "\n",
    "def poly2d(xtest, ytest, a):\n",
    "    order1 = np.rint(a.size**0.5).astype(int)\n",
    "    return np.polynomial.polynomial.polyval2d(xtest, ytest, a.reshape((order1,order1)))\n",
    "\n",
    "class poly2dfunc:\n",
    "    def __init__(self,a):\n",
    "        self.a = a\n",
    "        self.order1 = np.rint(a.size**0.5).astype(int)\n",
    "\n",
    "    def __call__(self,xtest,ytest):\n",
    "        return np.polynomial.polynomial.polyval2d(xtest, ytest, self.a.reshape((self.order1,self.order1)))\n",
    "\n",
    "def train_model(ntrain=15, ntest=100, z=1.0, H0=70.,om0min=0., om0max = 1., omlmin=0., omlmax=1.,s=0,kx=3,ky=3,spacing=np.linspace,fit_type=\"spline\",order=5):\n",
    "    om0tr, omltr, om0t, omlt, dl_train, dl_test = get_dl_train_test(ntrain=ntrain, ntest=ntest, z=z, H0=H0, om0min=om0min, om0max=om0max, omlmin=omlmin, omlmax=omlmax, spacing=spacing)\n",
    "    testing = {\"om0t\":om0t,\"omlt\":omlt,\"dl_test\":dl_test}\n",
    "    if fit_type == \"spline\":\n",
    "        return scipy.interpolate.RectBivariateSpline(om0tr, omltr, dl_train, s=s, kx=kx, ky=ky),testing\n",
    "    elif fit_type == \"poly\":\n",
    "        return poly2dfunc(polyfit2d(om0tr,omltr,dl_train,order=order)), testing\n",
    "\n",
    "def get_frac_err(**kwargs):\n",
    "    f,test_data = train_model(**kwargs)\n",
    "    return f(test_data[\"om0t\"],test_data[\"omlt\"])/test_data[\"dl_test\"] -1.\n",
    "\n",
    "spacing = np.linspace\n",
    "min_z = 0\n",
    "max_z = 2\n",
    "nzs = 10\n",
    "ntrain_a = 37\n",
    "ntrain_b = 100\n",
    "\n",
    "frac_err_b = []\n",
    "frac_err_a = []\n",
    "zs = np.linspace(min_z,max_z,nzs+1)[1:]\n",
    "\n",
    "print(\"Getting Data...\")\n",
    "\n",
    "for idx,z in enumerate(zs):\n",
    "    print(str((round(((idx)/(len(zs)*2))*100,2)))+\"% done...\")\n",
    "    frac_err_a.append(np.nanmax(get_frac_err(ntrain=ntrain_a,z=z,spacing=spacing,kx=5,ky=5,fit_type=\"spline\")))\n",
    "\n",
    "for idx,z in enumerate(zs):\n",
    "    print(str((round(((idx+len(zs))/(len(zs)*2))*100,2)))+\"% done...\")\n",
    "    frac_err_b.append(np.nanmax(get_frac_err(ntrain=ntrain_b,z=z,spacing=spacing,fit_type=\"poly\",order=5)))\n",
    "\n",
    "print(\"100.0% done...\")"
   ]
  },
  {
   "cell_type": "markdown",
   "metadata": {},
   "source": [
    "**Task 1a. (4 points)**  Use functions above that generate 2D grids of d_L_tilde values. Try different numbers of training points along 1 dimension for the 2d spline approximation for $\\tilde{d}_L$ for the ranges $\\Omega_{\\rm m0}=[0,1]$ and $\\Omega_{\\Lambda}=[0,1]$ and  find the minimal number of training points for which we can ensure the fractional error of $\\tilde{d}_L$ $<10^{-4}$  for the entire range of $z\\in [0,2]$. \n",
    "\n",
    "You should \n",
    "\n",
    "* Report the minimal number of training points that you find. \n",
    "\n",
    "* Present a calculation or a plot that demonstrates that fractional error is smaller than $10^{-4}$ for the entire range of  $z\\in [0,2]$.\n",
    "\n",
    "**Note:** There are several different SciPy routines that can be used for this.  I recommend using function <tt>scipy.interpolate.RectBivariateSpline(x, y, z, s=0, kx=3, ky=3)</tt>, where $z$ is the array of function values tabulated at training points in vectors $x$ and $y$, $s=0$ indicates interpolation (no smoothing), parameters <tt>kx=3, ky=3</tt> specify that cubic splines should be used in $x$ and $y$ variables. Example of using this function is shown below (you can read about other available options and see examples of how they are used <a href=\"https://mmas.github.io/interpolation-scipy\">here</a>). Examples of how this function is used to construct 2D spline approximation is available in [08_multid_optimization_class](https://drive.google.com/file/d/1-ptIvIvbRqtObk8x09ausJanXcqL8pJ0/view?usp=sharing) notebook. "
   ]
  },
  {
   "cell_type": "code",
   "execution_count": 4,
   "metadata": {
    "jupyter": {
     "outputs_hidden": false,
     "source_hidden": false
    },
    "nteract": {
     "transient": {
      "deleting": false
     }
    }
   },
   "outputs": [
    {
     "data": {
      "image/png": "[encoded data removed]",
      "text/plain": [
       "<Figure size 1000x600 with 1 Axes>"
      ]
     },
     "metadata": {
      "needs_background": "light"
     },
     "output_type": "display_data"
    }
   ],
   "source": [
    "plt.plot(zs,[1e-4]*len(zs),label=\"Acceptable Error: $1e-4$\",color=\"green\",linewidth=1)\n",
    "plt.scatter(zs,frac_err_a,s=4,label=\"Cal Frac Error\")\n",
    "plt.xlabel(\"z\")\n",
    "plt.ylabel(\"Frac Error\")\n",
    "plt.legend(loc = \"upper left\",framealpha=1)\n",
    "plt.show()"
   ]
  },
  {
   "cell_type": "markdown",
   "metadata": {
    "nteract": {
     "transient": {
      "deleting": false
     }
    }
   },
   "source": [
    "**Task 1b (6 points).** Using functions <tt>polyfit2d</tt> and <tt>poly2d</tt> below construct 2D polynomial approximations of $\\tilde{d}_L(z,\\Omega_{\\rm m0}, \\Omega_\\Lambda)$ for a given input single value of redshift $z$ and for ranges of the $\\Omega_{\\rm m0}$ and $\\Omega_\\Lambda)$ parameters of $\\Omega_{\\rm m0}\\in [0,1]$ and $\\Omega_\\Lambda\\in[0,1]$. \n",
    "\n",
    "Try different number of training points and polynomial order and try to find the minimal number and order that ensures the target fractional accuracy of $<10^{-4}$ for any $z$ in the interval $z\\in [0,2]$. \n",
    "\n",
    "You should:\n",
    "\n",
    "* Report the minimal number of training points that you find. \n",
    "\n",
    "* Present a calculation or a plot that demonstrates that fractional error is smaller than $10^{-4}$ for the entire range of  $z\\in [0,2]$.\n",
    "\n",
    "\n",
    "Based on the results of 1a and 1b, state your conclusions about the optimal method for approximating $\\tilde{d}_L(z,\\Omega_{\\rm m0}, \\Omega_\\Lambda)$ with this target accuracy. "
   ]
  },
  {
   "cell_type": "code",
   "execution_count": 5,
   "metadata": {
    "jupyter": {
     "outputs_hidden": false,
     "source_hidden": false
    },
    "nteract": {
     "transient": {
      "deleting": false
     }
    }
   },
   "outputs": [
    {
     "data": {
      "image/png": "[encoded data removed]",
      "text/plain": [
       "<Figure size 1000x600 with 1 Axes>"
      ]
     },
     "metadata": {
      "needs_background": "light"
     },
     "output_type": "display_data"
    }
   ],
   "source": [
    "plt.plot(zs,[1e-4]*len(zs),label=\"Acceptable Error: $1e-4$\",color=\"green\",linewidth=1)\n",
    "plt.scatter(zs,frac_err_b,s=4,label=\"Cal Frac Error\")\n",
    "plt.xlabel(\"z\")\n",
    "plt.ylabel(\"Frac Error\")\n",
    "plt.legend(loc = \"upper left\",framealpha=1)\n",
    "plt.show()"
   ]
  },
  {
   "cell_type": "markdown",
   "metadata": {},
   "source": [
    "It seems that better approximations for $\\tilde{d}_L$ can be achieved using spline approximation with fewer training points than polynomial approximation with more training points."
   ]
  },
  {
   "cell_type": "markdown",
   "metadata": {},
   "source": [
    "## <font color='blue'>Exercise 2: implementing and testing  Differential Evolution algorithm for minimization (25 points + 5 extra-credit points)</font>\n",
    "\n",
    "**Background.** Minimization in many dimensions is generally a complicated task. However, a class of <a href=\"https://en.wikipedia.org/wiki/Differential_evolution\">Differential Evolution</a> (DE) algorithms developed from the initial ideas of R. Storn and K. Price in 1997 (<a href=\"https://link.springer.com/article/10.1023%2FA%3A1008202821328\">Storn & Price 1997</a>), are relatively simple to implement, work in arbitrary number of dimensions, do not require function derivatives, allow imposing bounds on the domain, and are quite efficient in minimizing multi-dimensional functions.\n",
    "\n",
    "### <font color='blue'>What you are learning in this exercise:</font>\n",
    "\n",
    "* how to implement a general multi-dimensional minimization DE algorithm\n",
    "* how to find minimum of a function in practice. "
   ]
  },
  {
   "cell_type": "markdown",
   "metadata": {},
   "source": [
    "**Task 2a. (20 points)** Use pseudo-code of the DE algorithm above to implement DE minimization function with the following interface (15 points):\n",
    "\n",
    "    def minimize_de(func, x0, atol=1.e-6, s=0.1, bounds=None):\n",
    "        \"\"\"\n",
    "        Parameters:\n",
    "        ------------\n",
    "        func - Python function object\n",
    "               function to minimize, should expect x0 as a parameter vector\n",
    "        x0   - vector of real numbers of shape (npop, nd), \n",
    "                where npop is population size and nd is the number of func parameters\n",
    "        atol - float\n",
    "                absolute tolerance threshold for change of population member positions\n",
    "        s    - float \n",
    "               s parameter for scaling steps, the step size will be dwarf from uniform distribution between s and 1\n",
    "        bounds - array of tuples \n",
    "                bounds for the minimization exploration; define the region in which to search for the minimum\n",
    "        \"\"\"\n",
    "                \n",
    "\n",
    "***Note:*** guard against for the cases when the small number of population members is used when population does not move at a given mutation stage, so that this does not result in premature stopping of the algorithm. \n",
    "\n",
    "***Note:*** Try to \"vectorize\" as much of the algorithm as possible. This code can be fully vectorized with only one loop for the mutations of the population. \n"
   ]
  },
  {
   "cell_type": "code",
   "execution_count": 6,
   "metadata": {
    "jupyter": {
     "outputs_hidden": false,
     "source_hidden": false
    },
    "nteract": {
     "transient": {
      "deleting": false
     }
    }
   },
   "outputs": [],
   "source": [
    "def rosenbrock(x):\n",
    "    \"\"\"The Rosenbrock \"banana\" function\n",
    "    x is a vector of points in 2 or more dimensional space\n",
    "    \"\"\"\n",
    "    return sum(100.0*(x[1:]-x[:-1]**2.0)**2.0 + (1-x[:-1])**2.0)\n",
    "\n",
    "def minimize_de(func=rosenbrock, x0=None, atol=1.e-6, popsize=None, s=None, smin=0, bounds=None, init=None):\n",
    "    assert type(x0) is not type(None) or popsize != None\n",
    "    \n",
    "    nd = len(bounds)\n",
    "    low,high = bounds.T\n",
    "    \n",
    "    if popsize == None:\n",
    "        npop = x0.shape[0]\n",
    "    else:\n",
    "        npop = popsize\n",
    "        x0 = np.reshape(np.random.uniform(high=np.repeat(high,npop),low=np.repeat(low,npop)),(npop,nd))\n",
    "    \n",
    "    xnow = np.copy(x0)\n",
    "    fnow = np.empty(npop)\n",
    "    for i in range(npop):\n",
    "        fnow[i] = func(xnow[i])\n",
    "    xnext = np.zeros_like(xnow)\n",
    "    has_bounds = True\n",
    "    if isinstance(bounds, type(None)):\n",
    "        has_bounds = False\n",
    "    else:\n",
    "        bounds = bounds.T\n",
    "        bounds[0] -= 1\n",
    "\n",
    "    while True:\n",
    "        inds = np.ma.arange(npop)\n",
    "        delta = 0\n",
    "        for i in range(npop):\n",
    "            inds[i] = np.ma.masked\n",
    "            while True:\n",
    "                ir1,ir2,ir3 = np.random.choice(inds.compressed(),3,replace=False)\n",
    "                inds.mask = np.ma.nomask\n",
    "                if smin != None:\n",
    "                    s = np.random.uniform(smin,1)\n",
    "                xtry = xnow[ir3] + s * (xnow[ir1] - xnow[ir2])\n",
    "                if has_bounds:\n",
    "                    if np.all(np.logical_xor(*((xtry-bounds) > 0))):\n",
    "                        break\n",
    "                else:\n",
    "                    break\n",
    "            f_xtry = func(xtry)\n",
    "            if f_xtry <= fnow[i]:\n",
    "                delta += np.mean(np.abs(xnow[i] - xtry))\n",
    "                xnext[i] = xtry\n",
    "                fnow[i] = f_xtry\n",
    "            else:\n",
    "                xnext[i] = xnow[i]\n",
    "        xnow = np.copy(xnext)\n",
    "        if delta < atol:\n",
    "            break\n",
    "    out = []\n",
    "    for i in range(xnow.shape[1]):\n",
    "        out.append(stats.mode(xnow[:,i])[0])\n",
    "    return np.array(out).T[0]"
   ]
  },
  {
   "cell_type": "markdown",
   "metadata": {},
   "source": [
    "***Таск 2b (5 points).*** Test your implementation using Rosenbrock function implemented below in 2- and 5-dimensions. Try different number of population members and $s$ values and choices for how $s$ is chosen and examine how results change and for what number of population members the algorithm returns correct minimum value reliably ($[1,1]$ in 2D and $[1, 1, 1, 1, 1]$ in 5D). \n",
    "\n",
    "* Present a brief discussion of how large population should be in 2D and 5D to get correct minimum reliably. \n",
    "\n",
    "* Present a brief discussion of how choices of $s$ affect results \n",
    "\n",
    "* Demonstrate that your function returns values within the specified atol value reliably in 5D. \n",
    "\n",
    "* Compare results of your function to results of the <tt>scipy.optimize.differential_evolution</tt>"
   ]
  },
  {
   "cell_type": "code",
   "execution_count": null,
   "metadata": {},
   "outputs": [],
   "source": [
    "def get_data(test=None,func=None,bounds=None,popsize=None,atol=None,init='random',repeats=10,nd=2):\n",
    "    diffs = []\n",
    "    for i in range(repeats):\n",
    "        x = test(func=func,bounds=bounds,popsize=popsize,atol=atol)\n",
    "        if not isinstance(x,np.ndarray):\n",
    "            x = x.x\n",
    "        diff = np.mean(np.abs(x-np.array([1.]*nd)))\n",
    "        diffs.append(diff)\n",
    "    return diffs"
   ]
  },
  {
   "cell_type": "markdown",
   "metadata": {},
   "source": [
    "### TESTING 2D/$\\mathbb{R}^2$"
   ]
  },
  {
   "cell_type": "code",
   "execution_count": 8,
   "metadata": {},
   "outputs": [
    {
     "name": "stdout",
     "output_type": "stream",
     "text": [
      "0.0% done\n",
      "14.29% done\n",
      "28.57% done\n",
      "42.86% done\n",
      "57.14% done\n",
      "71.43% done\n",
      "85.71% done\n",
      "100.0% done\n"
     ]
    }
   ],
   "source": [
    "npops = range(10,80,10)\n",
    "nd = 2\n",
    "bounds = np.array([(-20,20)]*nd)\n",
    "\n",
    "atol = 1.e-6\n",
    "\n",
    "repeats = 15\n",
    "\n",
    "scipy_data = []\n",
    "my_data = []\n",
    "scipy_means = []\n",
    "my_means = []\n",
    "\n",
    "print(\"Getting Data...\")\n",
    "\n",
    "for idx,npop in enumerate(npops):\n",
    "    print(str(round((idx/len(npops))*100,2)) + \"% done\")\n",
    "    scipy_diffs = get_data(test=scipy.optimize.differential_evolution,func=rosenbrock,popsize=npop,bounds=bounds,atol=atol,repeats=repeats,nd=nd)\n",
    "    my_diffs = get_data(test=minimize_de,func=rosenbrock,popsize=npop,bounds=bounds,atol=atol,repeats=repeats,nd=nd)\n",
    "    scipy_data += scipy_diffs\n",
    "    scipy_means.append(np.mean(np.array(scipy_diffs)))\n",
    "    my_data += my_diffs\n",
    "    my_means.append(np.mean(np.array(my_diffs)))\n",
    "print(\"100.0% done\")\n",
    "        \n",
    "xs = np.repeat(np.array(npops),repeats)\n",
    "scipy_data = np.array(scipy_data)\n",
    "my_data = np.array(my_data)\n",
    "my_means = np.array(my_means)\n",
    "scipy_means = np.array(scipy_means)"
   ]
  },
  {
   "cell_type": "code",
   "execution_count": 10,
   "metadata": {},
   "outputs": [
    {
     "data": {
      "image/png": "[encoded data removed]",
      "text/plain": [
       "<Figure size 1000x600 with 1 Axes>"
      ]
     },
     "metadata": {
      "needs_background": "light"
     },
     "output_type": "display_data"
    }
   ],
   "source": [
    "plt.scatter(xs,scipy_data,label=\"scipy.optimize.differential_evolution\",s=2)\n",
    "#plt.plot(npops,scipy_means,alpha=0.5)\n",
    "plt.scatter(xs,my_data,label=\"minimize_de\",s=2)\n",
    "#plt.plot(npops,my_means,alpha=0.5)\n",
    "\n",
    "plt.plot(npops,[atol]*len(npops),label=\"atol\")\n",
    "plt.xlabel(\"Population Size\")\n",
    "plt.ylabel(\"Error\")\n",
    "\n",
    "plt.yscale('log')\n",
    "plt.legend(loc=\"upper right\")\n",
    "plt.show()"
   ]
  },
  {
   "cell_type": "markdown",
   "metadata": {},
   "source": [
    "For $\\mathbb{R}^2$, `minimize_de` seems to get stuck at around $[0,0]$ for population sizes < 30 (and hence has an error of around $1$ from $[1,1]$, but seems to more consistently find $[1,1]$ for population sizes >= 30."
   ]
  },
  {
   "cell_type": "markdown",
   "metadata": {},
   "source": [
    "### TESTING 5D/$\\mathbb{R}^5$"
   ]
  },
  {
   "cell_type": "code",
   "execution_count": 11,
   "metadata": {},
   "outputs": [
    {
     "name": "stdout",
     "output_type": "stream",
     "text": [
      "0.0% done\n",
      "11.11% done\n",
      "22.22% done\n",
      "33.33% done\n",
      "44.44% done\n",
      "55.56% done\n",
      "66.67% done\n",
      "77.78% done\n",
      "88.89% done\n",
      "100.0% done\n"
     ]
    }
   ],
   "source": [
    "npops = range(10,225,25)\n",
    "nd = 5\n",
    "bounds = np.array([(-20,20)]*nd)\n",
    "\n",
    "atol = 1.e-6\n",
    "\n",
    "repeats = 5\n",
    "\n",
    "scipy_data = []\n",
    "my_data = []\n",
    "scipy_means = []\n",
    "my_means = []\n",
    "\n",
    "print(\"Getting Data...\")\n",
    "\n",
    "for idx,npop in enumerate(npops):\n",
    "    print(str(round((idx/len(npops))*100,2)) + \"% done\")\n",
    "    scipy_diffs = get_data(test=scipy.optimize.differential_evolution,func=rosenbrock,popsize=npop,bounds=bounds,atol=atol,repeats=repeats,nd=nd)\n",
    "    my_diffs = get_data(test=minimize_de,func=rosenbrock,popsize=npop,bounds=bounds,atol=atol,repeats=repeats,nd=nd)\n",
    "    scipy_data += scipy_diffs\n",
    "    scipy_means.append(np.mean(np.array(scipy_diffs)))\n",
    "    my_data += my_diffs\n",
    "    my_means.append(np.mean(np.array(my_diffs)))\n",
    "print(\"100.0% done\")\n",
    "        \n",
    "xs = np.repeat(np.array(npops),repeats)\n",
    "scipy_data = np.array(scipy_data)\n",
    "my_data = np.array(my_data)\n",
    "my_means = np.array(my_means)\n",
    "scipy_means = np.array(scipy_means)"
   ]
  },
  {
   "cell_type": "code",
   "execution_count": 13,
   "metadata": {},
   "outputs": [
    {
     "data": {
      "image/png": "[encoded data removed]",
      "text/plain": [
       "<Figure size 1000x600 with 1 Axes>"
      ]
     },
     "metadata": {
      "needs_background": "light"
     },
     "output_type": "display_data"
    }
   ],
   "source": [
    "plt.scatter(xs,scipy_data,label=\"scipy.optimize.differential_evolution\",s=2)\n",
    "#plt.plot(npops,scipy_means)\n",
    "plt.scatter(xs,my_data,label=\"minimize_de\",s=2)\n",
    "#plt.plot(npops,my_means)\n",
    "\n",
    "plt.plot(npops,[atol]*len(npops),label=\"atol\")\n",
    "plt.xlabel(\"Population Size\")\n",
    "plt.ylabel(\"Error\")\n",
    "\n",
    "plt.yscale('log')\n",
    "plt.legend(loc=\"upper right\")\n",
    "plt.show()"
   ]
  },
  {
   "cell_type": "markdown",
   "metadata": {},
   "source": [
    "Similarly, for population sizes less than around $60$, `minimize_de` gets stuck more often at $[0,0,0,0,0]$. Above, that it seems to find $[1,1,1,1,1]$ more consistently. We can also see from this plot that `minimize_de` returns values with errors below `atol` consistently in 5D."
   ]
  },
  {
   "cell_type": "markdown",
   "metadata": {},
   "source": [
    "It seems that `scipy.optimize.differential_evolution` doesn't return values with errors below `atol` for the population sizes I tried. Further, there doesn't seem to be a downward trend for the error as population size increases."
   ]
  },
  {
   "cell_type": "markdown",
   "metadata": {},
   "source": [
    "### Plotting for different values of s"
   ]
  },
  {
   "cell_type": "code",
   "execution_count": 16,
   "metadata": {},
   "outputs": [
    {
     "name": "stdout",
     "output_type": "stream",
     "text": [
      "[[ -1.54428796 -10.94096454]\n",
      " [ -0.53134717  -0.34198036]\n",
      " [ -4.49188415   3.28305065]\n",
      " [ -5.32982448  16.46733389]\n",
      " [  3.2714696    0.31439346]\n",
      " [  1.28591004   6.13692547]\n",
      " [  2.96204099   4.01476521]\n",
      " [  1.10839128  -8.22848165]\n",
      " [  2.73602841 -11.47045028]\n",
      " [ -3.90224018  12.98213368]\n",
      " [  0.7382172   -4.1994374 ]\n",
      " [  0.2342938   18.22051919]\n",
      " [  3.49458823 -25.87075316]\n",
      " [ -0.4411796    3.96187943]\n",
      " [  3.68373233 -29.08394056]]\n",
      "[[ -2.18273968   2.19703434]\n",
      " [ -1.73130195  -0.4610275 ]\n",
      " [  0.91076487  -6.42323511]\n",
      " [ -3.38435397  -0.92281739]\n",
      " [ -2.79344368   0.58132988]\n",
      " [ -4.8276821    2.01728854]\n",
      " [  3.85995908  15.77280752]\n",
      " [ -4.35214265  11.85351278]\n",
      " [ -2.31165053   6.6988995 ]\n",
      " [ -1.82648171   1.47422136]\n",
      " [  1.14330214   3.57606354]\n",
      " [  0.76130498   7.27940422]\n",
      " [  2.08919411   7.64245167]\n",
      " [  3.29891847  11.37793388]\n",
      " [ -2.78755416 -15.97832895]]\n",
      "[[ -0.3066985    0.80042125]\n",
      " [ -4.92130398  11.03441564]\n",
      " [ -0.09597833  -6.37333483]\n",
      " [ -4.53156233  -4.91775974]\n",
      " [  0.40619957  -9.11808467]\n",
      " [  1.79882512 -14.30676627]\n",
      " [  1.28359513  -4.86278687]\n",
      " [  3.14968179  -5.31652341]\n",
      " [ -4.78407339   4.27327468]\n",
      " [ -1.4428761   -0.62917776]\n",
      " [  3.80071209  -1.17402642]\n",
      " [ -4.51688157   0.49445349]\n",
      " [ -2.12154649   9.69699905]\n",
      " [  4.977817    -4.58551691]\n",
      " [ -2.56707322  16.2382466 ]]\n",
      "[[ -3.511316    -8.8133153 ]\n",
      " [  0.12392548  12.78868278]\n",
      " [ -0.76782437   8.86904616]\n",
      " [ -4.0301631   10.84414003]\n",
      " [ -3.81426293   3.84891071]\n",
      " [ -4.73052588  13.678268  ]\n",
      " [  4.08252015  14.72000326]\n",
      " [ -0.84016866 -24.72827744]\n",
      " [ -2.59504709  -9.02345054]\n",
      " [  0.09875467   5.09907822]\n",
      " [ -2.87211991 -31.49711167]\n",
      " [  2.2818015   10.41599014]\n",
      " [ -6.1232305   15.75692959]\n",
      " [ -0.82232344  -7.96555804]\n",
      " [  5.0756281    0.67877039]]\n",
      "[[ -0.96125189 -11.10147371]\n",
      " [  0.44504499  12.1246929 ]\n",
      " [  0.1190567  -12.13785306]\n",
      " [ -1.51611486  17.92924148]\n",
      " [ -5.16350046  18.88633542]\n",
      " [ -1.99081177 -25.94109075]\n",
      " [ -3.32431938 -11.03852865]\n",
      " [  0.46311309   9.85328134]\n",
      " [  2.0737548  -11.56838334]\n",
      " [ -1.6205056   11.89367881]\n",
      " [ -5.56537537   2.79433261]\n",
      " [  1.66289118  -4.03163015]\n",
      " [ -4.19764768   9.84404359]\n",
      " [  1.80390498   7.97088786]\n",
      " [  0.05243907 -46.72527593]]\n",
      "[[ -1.52189015   6.56580021]\n",
      " [ -1.27319425 -22.39678763]\n",
      " [ -0.58631853   3.97873171]\n",
      " [ -1.17610952 -37.0800239 ]\n",
      " [ -0.38139791   8.50786201]\n",
      " [  1.4370525   13.23927995]\n",
      " [ -1.1412146   -4.11320294]\n",
      " [  4.43287275 -10.0305732 ]\n",
      " [ -3.36896689  -8.72079792]\n",
      " [ -4.70044074  17.29052789]\n",
      " [ -1.65231193  -2.38505512]\n",
      " [ -0.49945526  13.11364587]\n",
      " [ -0.73806809  -8.47086438]\n",
      " [  3.72096563  -1.42380365]\n",
      " [ -5.69848309  -7.56887851]]\n",
      "[[-1.34239632e+00 -7.88768118e+00]\n",
      " [-6.54066319e+00 -1.56953285e+00]\n",
      " [ 1.35371934e+00  2.21521279e+00]\n",
      " [-5.03310560e+00 -2.38959184e+01]\n",
      " [-6.86242450e-03  1.85733385e+00]\n",
      " [-3.60682914e+00  5.97885319e+00]\n",
      " [ 2.56618018e+00 -2.30068388e+00]\n",
      " [ 4.86159315e-01  7.10376405e+00]\n",
      " [-3.58257060e+00  1.53648675e+01]\n",
      " [ 2.89124791e+00  6.72277423e+00]\n",
      " [-1.82224484e+00 -3.51778518e+01]\n",
      " [ 2.97020986e+00 -2.68503781e+01]\n",
      " [-4.16003289e+00 -1.65461998e+01]\n",
      " [-4.91277703e+00  5.76484053e+00]\n",
      " [ 1.57668157e-01 -3.87747583e+00]]\n"
     ]
    }
   ],
   "source": [
    "def get_s_data(func=None,bounds=None,popsize=None,atol=None,repeats=10,nd=2,s=0):\n",
    "    xs = []\n",
    "    for i in range(repeats):\n",
    "        x = minimize_de(func=func,bounds=bounds,popsize=popsize,atol=atol,s=s,smin=None)\n",
    "        xs.append(x)\n",
    "    return xs\n",
    "\n",
    "npops = range(10,80,10)\n",
    "nd = 2\n",
    "bounds = np.array([(-20,20)]*nd)\n",
    "\n",
    "atol = 1.e-6\n",
    "\n",
    "repeats = 15\n",
    "for npop in npops:\n",
    "    print(get_s_data(func=rosenbrock,bounds=bounds,popsize=npop,atol=atol,repeats=repeats,nd=nd,s=0) - np.array([1.,1.]))"
   ]
  },
  {
   "cell_type": "code",
   "execution_count": null,
   "metadata": {},
   "outputs": [],
   "source": []
  }
 ],
 "metadata": {
  "kernelspec": {
   "display_name": "Python 3",
   "language": "python",
   "name": "python3"
  },
  "language_info": {
   "codemirror_mode": {
    "name": "ipython",
    "version": 3
   },
   "file_extension": ".py",
   "mimetype": "text/x-python",
   "name": "python",
   "nbconvert_exporter": "python",
   "pygments_lexer": "ipython3",
   "version": "3.6.4"
  }
 },
 "nbformat": 4,
 "nbformat_minor": 1
}
