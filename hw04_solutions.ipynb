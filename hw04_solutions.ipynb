{
 "cells": [
  {
   "cell_type": "markdown",
   "id": "5c784ad9",
   "metadata": {
    "id": "lgTo8qRPumw6"
   },
   "source": [
    "## <font color='blue'> ASTR 21100/31200</font>\n",
    "\n",
    "## <font color='blue'> Homework Assignment 4</font>\n",
    "    \n",
    "## <font color='blue'> Approximating 2D function using interpolation and regression</font>\n",
    "\n",
    "## <font color='blue'> Implementing Differential Evolution algorithm</font>\n",
    "\n",
    "## <font color='blue'> undergraduate students (30 points + 7 extra-credit)</font>\n",
    "    \n",
    "### <font color='blue'> Distributed: Friday, April 22</font>\n",
    "\n",
    "### <font color='blue'> Due: Friday, Apr 29, 9pm</font>"
   ]
  },
  {
   "cell_type": "markdown",
   "id": "36bb6536",
   "metadata": {},
   "source": [
    "***Note that you can do exercise 4 instead of 3 or do both 3 and 4 for extra-credit.***\n",
    "\n",
    "\n",
    "import packages needed by the codes below. Run this cell first before using these codes. "
   ]
  },
  {
   "cell_type": "code",
   "execution_count": 78,
   "id": "30db0b9a",
   "metadata": {},
   "outputs": [],
   "source": [
    "import numpy as np\n",
    "\n",
    "# use jupyter \"magic\" command to tell it to embed plot into the notebook \n",
    "import matplotlib.pyplot as plt\n",
    "%matplotlib inline\n",
    "\n",
    "from codes.plotting import plot_prettier, plot_line_points\n",
    "\n",
    "plot_prettier()"
   ]
  },
  {
   "cell_type": "markdown",
   "id": "f4f3d6e3",
   "metadata": {},
   "source": [
    "## <font color='blue'>Exercise 1 (10 points): constructing optimal approximation for $d_L(\\Omega_{\\rm m0},\\Omega_\\Lambda)$</font>\n",
    "\n",
    "**Background.** In the past two weeks you learned how to compute of the luminosity distance $d_L(z,H_0,\\Omega_{\\rm m0},\\Omega_\\Lambda)$. You also learned that this computation is sufficiently computationally expensive that would make it prohibitively expensive if we needed to evaluate it million or so times. The need to do so arises in statistical analyses when we try to find the best combination of $M$, $\\Omega_{\\rm m0}$, $\\Omega_\\Lambda$ that describe supernovae measurements or when we need to sample the range of these parameters  MCMC sampling that we will discuss next. \n",
    "\n",
    "This motivates constructing accurate approximations for $d_L(z,H_0,\\Omega_{\\rm m0},\\Omega_\\Lambda)$ using methods that we've been discussing in the last couple of classes (interpolation or regression). $d_L$ is a function of 4 parameters, but we do not need to construct approximation as a function of the Hubble constant $H_0$. This is because $d_L$ is proportional to $c/H_0$ and this is the only place where $H_0$ appears in its expression. Thus, if we tabulate $\\tilde{d}_L(z,\\Omega_{\\rm m0},\\Omega_\\Lambda)=d_L/(c/H_0)$, we can always then compute the actual value of the luminosity distance $d_L=c/H_0\\,\\tilde{d}_L(z,\\Omega_{\\rm m0}, \\Omega_\\Lambda)$. \n",
    "\n",
    "\n",
    "**Goal of the exercise.** The goal of this exercise is for you to find an optimal approximation of $\\tilde{d}_L$ (i.e. $d_L$ without $c/H_0$ factor) as a function of $\\Omega_{\\rm m0}$ and $\\Omega_\\Lambda$ (that is approximation should be two-dimensional, not two separate 1d approximations as a function of $\\Omega_{\\rm m0}$ and $\\Omega_\\Lambda$) for a given single value of $z$. \n",
    "\n",
    "\"Optimal\" here means that provides target accuracy of the approximation with the smallest training set of tabulated function values. Suppose our target fractional accuracy for $\\tilde{d}_L$ is $<10^{-4}$. Experiment with 2D polynomial and 2D piecewise spline interpolation for $\\tilde{d}_L$ with different number of training points using codes provided below and examples from the notebook [08_multid_optimization_class](https://drive.google.com/file/d/1-ptIvIvbRqtObk8x09ausJanXcqL8pJ0/view?usp=sharing). "
   ]
  },
  {
   "cell_type": "code",
   "execution_count": 79,
   "id": "dec1edf2",
   "metadata": {
    "slideshow": {
     "slide_type": "slide"
    }
   },
   "outputs": [],
   "source": [
    "def polyfit2d(xtr, ytr, ftr, order=None):\n",
    "    '''\n",
    "    Parameters:\n",
    "        xtr, ytr - 1d numpy vectors with training points of x and y\n",
    "        ftr - function values at xtr, ytr values\n",
    "        order - int, order of the polynomial\n",
    "        \n",
    "    Returns:\n",
    "        coefficients of the 2D polynomial\n",
    "    '''\n",
    "    # generate 2d coordinates on a rectangular grid\n",
    "    x, y = np.meshgrid(xtr, ytr)\n",
    "    # coefficient array, up to x^kx, y^ky\n",
    "    coeffs = np.ones((order+1, order+1))\n",
    "    # array that will contain polynomial term values \n",
    "    s = np.zeros((coeffs.size, x.size))\n",
    "\n",
    "    # construct the 2D matrix of values for each polynomial term i, j\n",
    "    for index, (j, i) in enumerate(np.ndindex(coeffs.shape)):\n",
    "        # do not include powers greater than order\n",
    "        if order is not None and i + j > order:\n",
    "            arr = np.zeros_like(x)\n",
    "        else:\n",
    "            arr = x**i * y**j # coeffs[i, j] * \n",
    "        s[index] = arr.flatten() \n",
    "        \n",
    "    # solve for the polynomial coefficients using least squares approximation of ftr values \n",
    "    return np.linalg.lstsq(s.T, np.ravel(ftr), rcond=None)[0]\n",
    "\n",
    "def poly2d(xtest, ytest, a):\n",
    "    '''\n",
    "    Compute values of the 2D polynomial given the coefficients in 1d array a \n",
    "    at points given by 2d arrays xtest and ytest (generated using meshgrid)\n",
    "    '''\n",
    "    order1 = np.rint(a.size**0.5).astype(int)\n",
    "    return np.polynomial.polynomial.polyval2d(xtest, ytest, a.reshape((order1,order1)))\n",
    "    "
   ]
  },
  {
   "cell_type": "markdown",
   "id": "89b9f633",
   "metadata": {},
   "source": [
    "Below are functions to compute $\\tilde{d}_L$ using AstroPy function and custom function presented in <tt>hw02_solutions</tt> botebook. "
   ]
  },
  {
   "cell_type": "code",
   "execution_count": 80,
   "id": "fd85e3b7",
   "metadata": {
    "slideshow": {
     "slide_type": "skip"
    }
   },
   "outputs": [],
   "source": [
    "from astropy.cosmology import LambdaCDM\n",
    "import astropy.units as u\n",
    "\n",
    "def d_l_tilde_astropy(z, H0, Om0, OmL, clight=2.99792e5):\n",
    "    '''\n",
    "    compute d_l_tilde using AstroPy d_L function\n",
    "    \n",
    "    Parameters:\n",
    "    \n",
    "    z - float, or numpy array, redshift\n",
    "    H0 - float, Hubble constant in km/s/Mpc\n",
    "    Om0, OmL - floats, dimensionless matter and dark energy densities\n",
    "    \n",
    "    Returns:\n",
    "    \n",
    "        d_L - float, or numpy array, rescaled by c/H0 in Mpc \n",
    "    '''\n",
    "    cosmo = LambdaCDM(H0=H0, Om0=Om0, Ode0=OmL)\n",
    "    \n",
    "    return cosmo.luminosity_distance(z=z) / u.Mpc / (clight/H0)"
   ]
  },
  {
   "cell_type": "code",
   "execution_count": 81,
   "id": "04d318da",
   "metadata": {
    "id": "b1j4jYi3cSt2"
   },
   "outputs": [],
   "source": [
    "def Rmm(a, b, func, m, *args):\n",
    "    \"\"\"\n",
    "    Auxiliary function computing tableau entries for Romberg integration\n",
    "    using recursive relation, but implemented non-recursively\n",
    "    \n",
    "    Parameters:\n",
    "    -----------------\n",
    "    func - python function object\n",
    "            function to integrate\n",
    "    a, b - floats\n",
    "            integration interval            \n",
    "    m    - integer\n",
    "            iteration level; accuracy order will be equal to 2(m+1)\n",
    "            in this implementation there is no need for k on input\n",
    "            \n",
    "    args - pointer to a list of arguments to be passed to the integrated function\n",
    "            \n",
    "    Returns:\n",
    "    ---------\n",
    "    \n",
    "    I(m)   - float\n",
    "              estimate of the integral using scheme of order 2*m+2\n",
    "    I(m-1) - float\n",
    "              estimate of the integral using scheme of order 2*m\n",
    "    \"\"\"\n",
    "    assert(m >= 0)\n",
    "    \n",
    "    ba = b - a;\n",
    "    hk = ba / 2**(np.arange(m+1)) # vector of step sizes\n",
    "\n",
    "    Rkm = np.zeros((m+1,m+1)) \n",
    "\n",
    "    Rkm[0,0] = 0.5 * ba * (func(a, *args) + func(b, *args))\n",
    "        \n",
    "    for k in range(1,m+1):\n",
    "        # first compute R[k,0]\n",
    "        trapzd_sum = np.sum(func(a + (2.*np.arange(1, 2**(k-1)+1)-1)*hk[k], *args))\n",
    "            \n",
    "        # we can reuse Rkm[k-1,0] but we need to divide it by 2 to account for step decrease \n",
    "        Rkm[k,0] = Rkm[k-1,0] * 0.5 + hk[k] * trapzd_sum\n",
    "        \n",
    "        # then fill the tableau up to R[k,k]\n",
    "        for md in range(1,k+1):\n",
    "            fact = 4.**md\n",
    "            Rkm[k,md] = (fact * Rkm[k,md-1] - Rkm[k-1,md-1])/(fact - 1)\n",
    "\n",
    "          \n",
    "    return Rkm[m,m], Rkm[m,m-1] # return the desired approximation and best one of previous order \n",
    "\n",
    "def romberg(func, a, b, rtol = 1.e-4, mmax = 20, verbose = False, args=[]):\n",
    "    \"\"\"\n",
    "    Romberg integration scheme to evaluate\n",
    "            int_a^b func(x)dx \n",
    "    using recursive relation to produce higher and higher order approximations\n",
    "    \n",
    "    Code iterates from m=0, increasing m by 1 on each iteration.\n",
    "    Each iteration computes the integral using scheme of 2(m+2) order of accuracy \n",
    "    Routine checks the difference between approximations of successive orders\n",
    "    to estimate error and stops when a desired relative accuracy \n",
    "    tolerance is reached.\n",
    "\n",
    "    Parameters:\n",
    "    --------------------------------\n",
    "    \n",
    "    func - python function object\n",
    "            function to integrate\n",
    "    a, b - floats\n",
    "            integration interval\n",
    "    rtol - float \n",
    "            fractional tolerance of the integral estimate\n",
    "    mmax - integer\n",
    "            maximum number of iterations to do \n",
    "    verbose - logical\n",
    "            if True print intermediate info for each iteration\n",
    "    kwargs - python dictionary\n",
    "             a list of parameters with their keywords to pass to func\n",
    "               \n",
    "    Returns:\n",
    "    ---------------------------------\n",
    "    I    - float\n",
    "           estimate of the integral for input f, [a,b] and rtol\n",
    "    err  - float \n",
    "           estimated fractional error of the estimated integral\n",
    "\n",
    "    \"\"\"\n",
    "    assert(a < b)\n",
    "    \n",
    "    for m in range(1, mmax):\n",
    "        Rmk_m, Rmk_m1 = Rmm(a, b, func, m, *args)\n",
    "            \n",
    "        if Rmk_m == 0:\n",
    "            Rmk_m = 1.e-300 # guard against division by 0 \n",
    "            \n",
    "        etol = 1.2e-16 + rtol*np.abs(Rmk_m)\n",
    "        err = np.abs(Rmk_m-Rmk_m1)\n",
    "\n",
    "        if verbose: \n",
    "            print(\"m = %d, integral = %.6e, prev. order = %.6e, frac. error estimate = %.3e\"%(m, Rmk_m, Rmk_m1, err/Rmk_m))\n",
    "\n",
    "        if (m>0) and (np.abs(err) <= etol):\n",
    "            return Rmk_m, err/Rmk_m\n",
    "        \n",
    "    print(\"!!! Romberg warning: !!!\")\n",
    "    print(\"!!! maximum of mmax=%d iterations reached, abs(err)=%.3e, > required error rtol = %.3e\"%(mmax, np.abs(err/Rmk_m), rtol))\n",
    "    return Rmk_m, err/Rmk_m"
   ]
  },
  {
   "cell_type": "code",
   "execution_count": 82,
   "id": "4454e724",
   "metadata": {
    "id": "7mZCoupWcStz"
   },
   "outputs": [],
   "source": [
    "def d_L_no_de(z, H0, Om0, clight = 2.99792458e5):\n",
    "    '''\n",
    "    function estimating d_L in Mpc, works only for models with OmL = 0\n",
    "    \n",
    "    Parameters:\n",
    "    -----------\n",
    "        z - float(s), a float or a numpy vector of floats containing redshift(s) for which to compute d_L\n",
    "        H0 - Hubble constant in km/s/Mpc\n",
    "        Om0 - dimensionless mean matter density in units of the critical density\n",
    "        \n",
    "    Returns:\n",
    "    --------\n",
    "        d_L - float(s), float or numpy vector of floats containing d_L in Mpc for inpute value(s) of z\n",
    "                normalized to c/H0\n",
    "    '''\n",
    "    assert(Om0 >=0)\n",
    "    q0 = 0.5 * Om0\n",
    "    q0z = q0 * z\n",
    "    return z * (1. + (z-q0z) / (1. + q0z + np.sqrt(1. + 2.*q0z)))  "
   ]
  },
  {
   "cell_type": "code",
   "execution_count": 83,
   "id": "0166ecb9",
   "metadata": {
    "id": "I2453FUbcStz"
   },
   "outputs": [],
   "source": [
    "def dl_func(z, Om0, OmL, Omk):\n",
    "    z1 = 1.0 + z; z12 = z1 * z1\n",
    "    return 1.0 / np.sqrt(z12*(Om0*z1 + Omk) + OmL)"
   ]
  },
  {
   "cell_type": "code",
   "execution_count": 84,
   "id": "066d5fe4",
   "metadata": {
    "id": "ZqGGYTP4cStz"
   },
   "outputs": [],
   "source": [
    "def d_l_tilde(z, H0, Om0, OmL, rtol=1.e-8, mmax=20, clight=2.99792458e5):\n",
    "    \"\"\"\n",
    "    routine computing luminosity distance from z=0 to z \n",
    "    using helper routine for comoving distance _dc\n",
    "    \n",
    "    Parameters:\n",
    "    -----------\n",
    "    z: float - redshift to which to compute d_L\n",
    "    H0: float - Hubble constant in units of km/s/Mpc\n",
    "    Om0: float - dimensionless mean matter density in the universe, >= 0\n",
    "    OmL: float - dimensionless mean vacuum energy density in the universe\n",
    "    hstep: float - step size to use\n",
    "     \n",
    "    Returns:\n",
    "    --------\n",
    "    float - value of d_L(z, H0, Om0, OmL) \n",
    "            estimated using trapezoidal integration with step size hstep \n",
    "    \"\"\"\n",
    "    if 1.0+OmL == 1.0: # note that I exploit the roundoff error in testing whether OmL is consistent with zero\n",
    "        return d_L_no_de(z, H0, Om0) # if OmL=0, use simple formula without integration\n",
    "    else: # otherwise use numerical integration to compute distance \n",
    "        #dH = clight / H0 \n",
    "        dH = 1.\n",
    "        Omk = 1.0 - Om0 - OmL\n",
    "        args = [Om0, OmL, Omk]\n",
    "        dc = romberg(dl_func, 0, z, args=args, rtol=rtol)[0]\n",
    "        if 1.0 + Omk == 1.0:\n",
    "            return dH * dc * (1.0 + z)\n",
    "        else:\n",
    "            sqrOmk = np.sqrt(np.abs(Omk))\n",
    "            if Omk > 0.:\n",
    "                return dH * np.sinh(dc*sqrOmk) * (1.0 + z) / sqrOmk \n",
    "            else:\n",
    "                return dH * np.sin(dc*sqrOmk) * (1.0 + z) / sqrOmk\n",
    "            \n"
   ]
  },
  {
   "cell_type": "code",
   "execution_count": 85,
   "id": "e65f8c07",
   "metadata": {},
   "outputs": [
    {
     "name": "stdout",
     "output_type": "stream",
     "text": [
      "5.52787249006144 5.527864045000422\n"
     ]
    }
   ],
   "source": [
    "# check custom function for tilde_d_l above against astropy\n",
    "print(d_l_tilde_astropy(2, 70, 0., .9), d_l_tilde(2., 70., 0., .9, rtol=1.e-16, mmax=20))"
   ]
  },
  {
   "cell_type": "code",
   "execution_count": 86,
   "id": "93bb68c7",
   "metadata": {
    "slideshow": {
     "slide_type": "skip"
    }
   },
   "outputs": [],
   "source": [
    "# We use Chebyshev type 2 nodes because they include interval edges\n",
    "def chebyshev_nodes2(a, b, N):\n",
    "    return a + 0.5*(b-a)*(1. + np.cos(np.arange(N+1)*np.pi/N))"
   ]
  },
  {
   "cell_type": "code",
   "execution_count": 87,
   "id": "e5b45926",
   "metadata": {
    "slideshow": {
     "slide_type": "-"
    }
   },
   "outputs": [],
   "source": [
    "def get_dl_grid(nt=15, z=2.0, H0=70., spacing='even', method='polynomial', \n",
    "                      om0min=0., om0max = 1., omlmin=0., omlmax=1.):\n",
    "    '''\n",
    "    Generate a grid of training values of d_L for a given redshift z, H0, and range\n",
    "    of Om0 and OmL for specified number of training points and their spacing\n",
    "    \n",
    "    Parameters:\n",
    "        nt - int, number of points in 1D in each parameter \n",
    "        z - float, redshift for which to compute d_L_tilde values\n",
    "        H0 - float, Hubble constant in km/s/Mpc\n",
    "        om0min, om0max - floats, range of Omega_m0 values for which to generate training and test values\n",
    "        omlmin, omlmax - floats, range of Omega_Lambda values \n",
    "                \n",
    "    Returns:\n",
    "        om0tr, omltr - 1d numpy arrays of floats, training points\n",
    "        om0t, omlt   - 1d numpy arrays of floats, test points \n",
    "        dl_train, dl_test - 2d arrays of training and test values of d_L_tilde\n",
    "    '''\n",
    "    if spacing == 'even':\n",
    "        om0tr = np.linspace(om0min, om0max, nt)\n",
    "        omltr = np.linspace(omlmin, omlmax, nt)\n",
    "    elif spacing == 'chebyshev':\n",
    "        om0tr = chebyshev_nodes2(om0min, om0max, nt-1)\n",
    "        omltr = chebyshev_nodes2(om0min, om0max, nt-1)\n",
    "        if method == 'spline':\n",
    "            om0tr = om0tr[::-1]\n",
    "            omltr = omltr[::-1]\n",
    "    else: \n",
    "        raise ValueError('invalid spacing specified')\n",
    "        \n",
    "    dl_t = np.zeros((nt, nt)) # initialize 2D numpy array for 2D grid of d_L values     \n",
    "    # Now cycle through Om0 and OmL values, compute d_L and fill the dlgrid array with values\n",
    "    for i, omd in enumerate(om0tr):\n",
    "        for j, omld in enumerate(omltr):\n",
    "                dl_t[i,j] = d_l_tilde(z, H0, omd, omld) #d_l_tilde(z, H0, omd, omld)\n",
    "\n",
    "    return om0tr, omltr, dl_t\n",
    "\n"
   ]
  },
  {
   "cell_type": "markdown",
   "id": "2d94aecd",
   "metadata": {},
   "source": [
    "**Task 1b (6 points).** Using functions <tt>polyfit2d</tt> and <tt>poly2d</tt> below construct 2D polynomial approximations of $\\tilde{d}_L(z,\\Omega_{\\rm m0}, \\Omega_\\Lambda)$ for a given input single value of redshift $z$ and for ranges of the $\\Omega_{\\rm m0}$ and $\\Omega_\\Lambda)$ parameters of $\\Omega_{\\rm m0}\\in [0,2]$ and $\\Omega_\\Lambda\\in[0,2]$. \n",
    "\n",
    "Try different number of training points and polynomial order and try to find the minimal number and order that ensures the target fractional accuracy of $<10^{-4}$ for any $z$ in the interval $z\\in [0,2]$. \n",
    "\n",
    "You should:\n",
    "\n",
    "* Report the minimal number of training points that you find. \n",
    "\n",
    "* Present a calculation or a plot that demonstrates that fractional error is smaller than $10^{-4}$ for the entire range of  $z\\in [0,2]$.\n",
    "\n",
    "\n",
    "Based on the results of 1a and 2b, state your conclusions about the optimal method for approximating $\\tilde{d}_L(z,\\Omega_{\\rm m0}, \\Omega_\\Lambda)$ with this target accuracy. "
   ]
  },
  {
   "cell_type": "markdown",
   "id": "b35f7822",
   "metadata": {},
   "source": [
    "#### Solution: \n",
    "\n",
    "Given that supernovae in the sample all have redshifts $z<2$. It is sufficient to ensure that distances up to $z=2$ are accurate to this redshift. Furthermore, as discussed in class, the $d_L$ function becomes more curved and more difficult to approximate with increasing $z$. Thus, for the range $z\\in [0,2]$ it is sufficient to ensure that we get approximation to the required accuracy at $z=2$ and it will be definitely better at all smaller $z$. \n",
    "\n",
    "Thus, the tests below use $z=2$. "
   ]
  },
  {
   "cell_type": "code",
   "execution_count": 88,
   "id": "6ca1c1d6",
   "metadata": {},
   "outputs": [],
   "source": [
    "from scipy.interpolate import RectBivariateSpline\n",
    "\n",
    "def get_approximation(ntrain=15, z=2, om0t=None, omlt=None, spacing='even', log=False, \n",
    "                       om0min=0., om0max=1., omlmin=0., omlmax=1., \n",
    "                       method='polynomial', order=3):\n",
    "    '''\n",
    "    helper function to do testing\n",
    "    '''\n",
    "    \n",
    "    if om0t is None or omlt is None:\n",
    "        raise ValueError('must specify om0t and omlt grids')\n",
    "    \n",
    "    om0tr, omltr, dl_tr = get_dl_grid(nt=ntrain, z=z, spacing=spacing, method=method,\n",
    "                                      om0min=om0min, om0max=om0max, \n",
    "                                      omlmin=omlmin, omlmax=omlmax)\n",
    "    \n",
    "    \n",
    "    \n",
    "    if method == 'polynomial':\n",
    "        omgt, omlgt = np.meshgrid(om0t, omlt)\n",
    "        if log: \n",
    "            a = polyfit2d(om0tr, omltr, np.log10(dl_tr), order=order)\n",
    "            fpoly = 10.**poly2d(omgt, omlgt, a)\n",
    "        else:\n",
    "            a = polyfit2d(om0tr, omltr, dl_tr, order=order)\n",
    "            fpoly = poly2d(omgt, omlgt, a)\n",
    "        return omgt, omlgt, fpoly \n",
    "    \n",
    "    elif method == 'spline':\n",
    "        assert(order<=5)\n",
    "        # [::-1] below reverses order to make values increase monotonically\n",
    "        omgt, omlgt = np.meshgrid(om0t, omlt)\n",
    "\n",
    "        if log: \n",
    "            fspl = RectBivariateSpline(om0tr, omltr, np.log10(dl_tr), s=0, kx=order, ky=order)\n",
    "            return  omgt, omlgt, 10**fspl(om0t, omlt).T\n",
    "        else:\n",
    "            fspl = RectBivariateSpline(om0tr, omltr, dl_tr, s=0, kx=order, ky=order)\n",
    "            return  omgt, omlgt, fspl(om0t, omlt).T\n",
    "    \n",
    "    else:\n",
    "        print('method is not valid')"
   ]
  },
  {
   "cell_type": "markdown",
   "id": "d2cc54e5",
   "metadata": {},
   "source": [
    "**1a. Spline approximation.** Experimentation shows that one can approximate $\\tilde{d}_L$ with the smallest number of training points when approximating $\\log_{10} \\tilde{d}_L$ and using Chebyshev node spacing"
   ]
  },
  {
   "cell_type": "code",
   "execution_count": 89,
   "id": "a5a49110",
   "metadata": {},
   "outputs": [
    {
     "name": "stdout",
     "output_type": "stream",
     "text": [
      "order = 3, ntrain = 10, ferr_max = 9.4743e-03\n",
      "order = 3, ntrain = 11, ferr_max = 7.7755e-03\n",
      "order = 3, ntrain = 12, ferr_max = 6.4267e-03\n",
      "order = 3, ntrain = 13, ferr_max = 5.3247e-03\n",
      "order = 3, ntrain = 14, ferr_max = 4.4192e-03\n",
      "order = 3, ntrain = 15, ferr_max = 3.7893e-03\n",
      "order = 3, ntrain = 16, ferr_max = 3.2769e-03\n",
      "order = 3, ntrain = 17, ferr_max = 2.8403e-03\n",
      "order = 3, ntrain = 18, ferr_max = 2.4667e-03\n",
      "order = 3, ntrain = 19, ferr_max = 2.1458e-03\n",
      "order = 3, ntrain = 20, ferr_max = 1.8693e-03\n",
      "order = 3, ntrain = 21, ferr_max = 1.6302e-03\n",
      "order = 3, ntrain = 22, ferr_max = 1.4230e-03\n",
      "order = 3, ntrain = 23, ferr_max = 1.2429e-03\n",
      "order = 3, ntrain = 24, ferr_max = 1.0861e-03\n",
      "order = 3, ntrain = 25, ferr_max = 9.8516e-04\n",
      "order = 3, ntrain = 26, ferr_max = 8.9699e-04\n",
      "order = 3, ntrain = 27, ferr_max = 8.1790e-04\n",
      "order = 3, ntrain = 28, ferr_max = 7.4681e-04\n",
      "order = 3, ntrain = 29, ferr_max = 6.8277e-04\n",
      "order = 3, ntrain = 30, ferr_max = 6.2497e-04\n",
      "order = 3, ntrain = 31, ferr_max = 5.7270e-04\n",
      "order = 3, ntrain = 32, ferr_max = 5.2536e-04\n",
      "order = 3, ntrain = 33, ferr_max = 4.8240e-04\n",
      "order = 3, ntrain = 34, ferr_max = 4.4336e-04\n",
      "order = 3, ntrain = 35, ferr_max = 4.0784e-04\n",
      "order = 3, ntrain = 36, ferr_max = 3.7546e-04\n",
      "order = 3, ntrain = 37, ferr_max = 3.4592e-04\n",
      "order = 3, ntrain = 38, ferr_max = 3.1892e-04\n",
      "order = 3, ntrain = 39, ferr_max = 2.9422e-04\n",
      "order = 3, ntrain = 40, ferr_max = 2.7160e-04\n",
      "order = 3, ntrain = 41, ferr_max = 2.5086e-04\n",
      "order = 3, ntrain = 42, ferr_max = 2.3178e-04\n",
      "order = 3, ntrain = 43, ferr_max = 2.1433e-04\n",
      "order = 3, ntrain = 44, ferr_max = 1.9824e-04\n",
      "order = 3, ntrain = 45, ferr_max = 1.8344e-04\n",
      "order = 3, ntrain = 46, ferr_max = 1.6980e-04\n",
      "order = 3, ntrain = 47, ferr_max = 1.5722e-04\n",
      "order = 3, ntrain = 48, ferr_max = 1.4562e-04\n",
      "order = 3, ntrain = 49, ferr_max = 1.3490e-04\n",
      "order = 3, ntrain = 50, ferr_max = 1.2500e-04\n",
      "order = 3, ntrain = 51, ferr_max = 1.1585e-04\n",
      "order = 3, ntrain = 52, ferr_max = 1.0738e-04\n",
      "order = 3, ntrain = 53, ferr_max = 9.9537e-05\n"
     ]
    }
   ],
   "source": [
    "ferr_old = 1.\n",
    "\n",
    "omt, omlt, dl_test = get_dl_grid(nt=100, z=2.0)\n",
    "order = 3\n",
    "for ntrain in range(10,60):\n",
    "    omgt, omlgt, dlpoly = get_approximation(ntrain=ntrain, om0t=omt, omlt=omlt, \n",
    "                                            spacing='even', log=False,  \n",
    "                                            method='spline', order=order)        \n",
    "    ferr = np.abs(dlpoly/dl_test.T - 1.0)\n",
    "    if ferr.max() < ferr_old: \n",
    "        print(f'order = {order:d}, ntrain = {ntrain:d}, ferr_max = {ferr.max():.4e}')\n",
    "        ferr_old = ferr.max()\n",
    "    # break out of the inner loop if ferr is smaller than 1e-4\n",
    "    if ferr.max() < 1.e-4: break"
   ]
  },
  {
   "cell_type": "code",
   "execution_count": null,
   "id": "d21abfb7",
   "metadata": {},
   "outputs": [],
   "source": []
  },
  {
   "cell_type": "code",
   "execution_count": 90,
   "id": "995031dd",
   "metadata": {},
   "outputs": [
    {
     "name": "stdout",
     "output_type": "stream",
     "text": [
      "order = 3, ntrain = 10, ferr_max = 1.5559e-03\n",
      "order = 4, ntrain = 10, ferr_max = 1.3533e-03\n",
      "order = 3, ntrain = 11, ferr_max = 9.4422e-04\n",
      "order = 4, ntrain = 11, ferr_max = 8.8040e-04\n",
      "order = 3, ntrain = 12, ferr_max = 5.8832e-04\n",
      "order = 4, ntrain = 12, ferr_max = 5.6551e-04\n",
      "order = 3, ntrain = 13, ferr_max = 3.7868e-04\n",
      "order = 4, ntrain = 13, ferr_max = 3.6567e-04\n",
      "order = 3, ntrain = 14, ferr_max = 2.3325e-04\n",
      "order = 4, ntrain = 14, ferr_max = 2.2808e-04\n",
      "order = 3, ntrain = 15, ferr_max = 1.5594e-04\n",
      "order = 4, ntrain = 15, ferr_max = 1.4900e-04\n",
      "order = 3, ntrain = 16, ferr_max = 8.9605e-05\n"
     ]
    }
   ],
   "source": [
    "ferr_old = 1.\n",
    "omt, omlt, dl_test = get_dl_grid(nt=100, z=2.0)\n",
    "\n",
    "for ntrain in range(10,50):\n",
    "    for order in range(3,5):\n",
    "        omgt, omlgt, dlpoly = get_approximation(ntrain=ntrain, om0t=omt, omlt=omlt, \n",
    "                                                spacing='chebyshev', log=True,  \n",
    "                                                method='spline', order=order)        \n",
    "        ferr = np.abs(dlpoly/dl_test.T - 1.0)\n",
    "        if ferr.max() < ferr_old: \n",
    "            print(f'order = {order:d}, ntrain = {ntrain:d}, ferr_max = {ferr.max():.4e}')\n",
    "            ferr_old = ferr.max()\n",
    "    # break out of the inner loop if ferr is smaller than 1e-4\n",
    "    if ferr.max() < 1.e-4: break"
   ]
  },
  {
   "cell_type": "markdown",
   "id": "32ca2455",
   "metadata": {},
   "source": [
    "We can see that we can reach target accuracy with only 16 training points and cubic spline. \n",
    "\n",
    "Using even spacing requires 4th order spline and 39 training points. \n",
    "\n",
    "Using Chebyshev nodes but approximating $\\tilde{d}_L$ instead of $\\log_{10}\\tilde{d}_L$ can be achieved with cubic spline and 18 training points. \n",
    "\n",
    "Here is a plot of the fractional error for the optimal configuration. "
   ]
  },
  {
   "cell_type": "code",
   "execution_count": 91,
   "id": "399fa693",
   "metadata": {},
   "outputs": [
    {
     "name": "stdout",
     "output_type": "stream",
     "text": [
      "ferr_min = -7.2048e-05,  ferr_max = 9.4901e-05\n"
     ]
    },
    {
     "data": {
      "image/png": "[encoded data removed]",
      "text/plain": [
       "<Figure size 600x600 with 2 Axes>"
      ]
     },
     "metadata": {
      "needs_background": "light"
     },
     "output_type": "display_data"
    }
   ],
   "source": [
    "from codes.plotting import plot_color_map\n",
    "\n",
    "ferr = dlpoly/dl_test.T - 1.0\n",
    "#\n",
    "print(f'ferr_min = {ferr.min():.4e},  ferr_max = {ferr.max():.4e}')\n",
    "\n",
    "# plot approximating polynomial\n",
    "plot_color_map(omgt, omlgt, ferr, xlim=[0.,1.], ylim=[0.,1.], \n",
    "                   xlabel = '$x$', ylabel = '$y$', cmap='winter', colorbar=True, \n",
    "                   figsize=3.0)"
   ]
  },
  {
   "cell_type": "markdown",
   "id": "b74bc5b6",
   "metadata": {},
   "source": [
    "Chebyshev node spacing here does not have the role they play for the polynomial approximation in suppressing oscillatory behavior (not relevant for piecewise low-order polynomial splines). The reason Chebyshev nodes work better here is simply because there are more of them near the edges of the interval and so more training points near $\\Omega_{\\rm m0}\\approx 0$ and $\\Omega_\\Lambda\\approx 1$ where $d_L$ changes fast. \n",
    "\n",
    "We can achieve even better results with custom training point spacing which puts more training points in that region.  Example below shows that spacing $\\Omega_{\\rm m0}$ values as $\\Omega_{\\rm m0}^2$ and $\\Omega_{\\Lambda}^{1.75}$ spacing allows to get target accuracy with only 13 training points  in $\\Omega_{\\rm m0}$ dimension and 9 training points in $\\Omega_\\Lambda$ dimension."
   ]
  },
  {
   "cell_type": "code",
   "execution_count": 92,
   "id": "a322b9ba",
   "metadata": {},
   "outputs": [
    {
     "name": "stdout",
     "output_type": "stream",
     "text": [
      "ferr_max = 5.1443e-05\n"
     ]
    }
   ],
   "source": [
    "om0min, om0max = 0., 1.\n",
    "omLmin, omLmax = 0., 1.\n",
    "\n",
    "# numbers of training points in each dimension \n",
    "nom0 = 13; nomL = 9\n",
    "om0tr = om0min + (om0max-om0min) * np.linspace(0.,1.,nom0)**2 # square-law \n",
    "omltr = omLmin + (omLmax-omLmin) * (1.- np.linspace(0.,1.,nomL)**1.75)\n",
    "# the values of OmLtr are in descending order, so reverse the order before use\n",
    "omltr = omltr[::-1]\n",
    "\n",
    "\n",
    "dltr = np.zeros((nom0, nomL))\n",
    "H0 = 70.\n",
    "z = 2.0\n",
    "\n",
    "for i, omd in enumerate(om0tr):\n",
    "    for j, omld in enumerate(omltr):\n",
    "        # cancel the c/H0 factor to tabulate d_L without it\n",
    "        dltr[i,j] =  d_l_tilde(z, H0, omd, omld,  rtol=1e-10)\n",
    "\n",
    "\n",
    "fspl = RectBivariateSpline(om0tr, omltr, np.log10(dltr), s=0, kx=3, ky=3)\n",
    "\n",
    "omt, omlt = np.linspace(0.,1.,100), np.linspace(0.,1.,100)\n",
    "\n",
    "dltest = np.zeros((100,100))\n",
    "for i, omd in enumerate(omt):\n",
    "    for j, omld in enumerate(omlt):\n",
    "        # cancel the c/H0 factor to tabulate d_L without it\n",
    "        dltest[i,j] =  d_l_tilde(z, H0, omd, omld,  rtol=1e-10)\n",
    "\n",
    "dlspl = 10.**fspl(omt,omlt)\n",
    "\n",
    "ferr = np.abs(dlspl/dltest - 1.0)\n",
    "\n",
    "print(f'ferr_max = {ferr.max():.4e}')"
   ]
  },
  {
   "cell_type": "markdown",
   "id": "5ec18e7b",
   "metadata": {},
   "source": [
    "**1b. Polynomial approximation.** "
   ]
  },
  {
   "cell_type": "markdown",
   "id": "af07675e",
   "metadata": {},
   "source": [
    "Experimentation by hand shows that one gets close to the required for $n_{\\rm train}>20$ and polynomial order > 10. The code below scans the range of values of $n_{\\rm train}$ and order to find the combination that can reach target fractional accuracy of $10^{-4}$. This proves to be impossible for almost all choices due to roundoff errors. However, it is possible to reach this using Chebyshev placement of the training points and approximating $\\log \\tilde{d}_L$ instead of $\\tilde{d}_L$ itself, as shown below, where target accuracy is reached for $n_{\\rm train}=21$ and 15th order. "
   ]
  },
  {
   "cell_type": "code",
   "execution_count": 93,
   "id": "4f510787",
   "metadata": {
    "scrolled": false
   },
   "outputs": [
    {
     "name": "stdout",
     "output_type": "stream",
     "text": [
      "order = 10, ntrain = 20, ferr_max = 8.9060e-04\n",
      "order = 11, ntrain = 20, ferr_max = 5.6457e-04\n",
      "order = 12, ntrain = 20, ferr_max = 3.4982e-04\n",
      "order = 13, ntrain = 20, ferr_max = 2.0842e-04\n",
      "order = 14, ntrain = 20, ferr_max = 1.2373e-04\n",
      "order = 14, ntrain = 21, ferr_max = 1.2266e-04\n",
      "order = 15, ntrain = 21, ferr_max = 8.2178e-05\n"
     ]
    }
   ],
   "source": [
    "ferr_old = 1.\n",
    "\n",
    "for ntrain in range(20,36):\n",
    "    for order in range(10,36):\n",
    "        #print(ntrain, order)\n",
    "        omgt, omlgt, dlpoly = get_approximation(ntrain=ntrain, om0t=omt, omlt=omlt, \n",
    "                                                spacing='chebyshev', log=True,  \n",
    "                                                method='polynomial', order=order)        \n",
    "        ferr = np.abs(dlpoly/dl_test.T - 1.0)\n",
    "        # break out of the inner loop if ferr stops decreasing\n",
    "        if ferr.max() < ferr_old: \n",
    "            #\n",
    "            print(f'order = {order:d}, ntrain = {ntrain:d}, ferr_max = {ferr.max():.4e}')\n",
    "            ferr_old = ferr.max()\n",
    "    if ferr_old < 1.e-4: break"
   ]
  },
  {
   "cell_type": "markdown",
   "id": "1d0d8ccf",
   "metadata": {},
   "source": [
    "Below is plot of the fractional error showing that it does not exceed the target accuracy anywhere within the range."
   ]
  },
  {
   "cell_type": "code",
   "execution_count": 94,
   "id": "81830fd2",
   "metadata": {},
   "outputs": [
    {
     "name": "stdout",
     "output_type": "stream",
     "text": [
      "ferr_min = -6.7175e-05,  ferr_max = 8.2178e-05\n"
     ]
    },
    {
     "data": {
      "image/png": "[encoded data removed]",
      "text/plain": [
       "<Figure size 600x600 with 2 Axes>"
      ]
     },
     "metadata": {
      "needs_background": "light"
     },
     "output_type": "display_data"
    }
   ],
   "source": [
    "omgt, omlgt, dlpoly = get_approximation(ntrain=21, om0t=omt, omlt=omlt, \n",
    "                                        spacing='chebyshev', log=True,  \n",
    "                                        method='polynomial', order=15)        \n",
    "\n",
    "ferr = dlpoly/dl_test.T - 1.0\n",
    "#\n",
    "print(f'ferr_min = {ferr.min():.4e},  ferr_max = {ferr.max():.4e}')\n",
    "\n",
    "# plot approximating polynomial\n",
    "plot_color_map(omgt, omlgt, ferr, xlim=[0.,1.], ylim=[0.,1.], \n",
    "                   xlabel = '$x$', ylabel = '$y$', cmap='winter', colorbar=True, \n",
    "                   figsize=3.0)"
   ]
  },
  {
   "cell_type": "markdown",
   "id": "9fc04e4e",
   "metadata": {},
   "source": [
    "To summarize, we can obtain approximations with the target accuracy both for the spline and polynomial approximation. However, for the polynomial approximation this required considerably more effort, as we had to use both Chebyshev nodes and to construct approximation for $\\log_{10}\\tilde{d}_L$ instead of $\\tilde{d}_L$. Even then the required approximation required considerably more training points than spline approximation. \n",
    "\n",
    "In this case, spline approximation is superior. However, for good performance it requries spacing training points closer to the edges of the interval, as occurs in the Chebyshev spacing, where the approximated function is changing more rapidly. "
   ]
  },
  {
   "cell_type": "code",
   "execution_count": 95,
   "id": "0e8d646e",
   "metadata": {},
   "outputs": [
    {
     "name": "stdout",
     "output_type": "stream",
     "text": [
      "ferr_min = 4.7372e-12,  ferr_max = 1.1535e-03\n"
     ]
    }
   ],
   "source": [
    "ferr_old = 1.\n",
    "\n",
    "#print(ntrain, order)\n",
    "omgt, omlgt, dlpoly = get_approximation(ntrain=36, om0t=omt, omlt=omlt, \n",
    "                                    spacing='even', log=False,  \n",
    "                                    method='polynomial', order=36)        \n",
    "\n",
    "ferr = np.abs(dlpoly/dl_test.T - 1.0)\n",
    "print(f'ferr_min = {ferr.min():.4e},  ferr_max = {ferr.max():.4e}')\n"
   ]
  },
  {
   "cell_type": "markdown",
   "id": "1e811c78",
   "metadata": {},
   "source": [
    "## <font color='blue'>Exercise 2: implementing and testing  Differential Evolution algorithm for minimization (25 points)</font>\n",
    "\n",
    "**Background.** Minimization in many dimensions is generally a complicated task. However, a class of <a href=\"https://en.wikipedia.org/wiki/Differential_evolution\">Differential Evolution</a> (DE) algorithms developed from the initial ideas of R. Storn and K. Price in 1997 (<a href=\"https://link.springer.com/article/10.1023%2FA%3A1008202821328\">Storn & Price 1997</a>), are relatively simple to implement, work in arbitrary number of dimensions, do not require function derivatives, allow imposing bounds on the domain, and are quite efficient in minimizing multi-dimensional functions.\n",
    "\n",
    "### <font color='blue'>What you are learning in this exercise:</font>\n",
    "\n",
    "* how to implement a general multi-dimensional minimization DE algorithm\n",
    "* how to find minimum of a function in practice. "
   ]
  },
  {
   "cell_type": "markdown",
   "id": "7ac70894",
   "metadata": {},
   "source": [
    "The simplest version of the differential evolution algorithm described in detail in the notebook [08_optimization](https://drive.google.com/file/d/1oq838Jla7r6upwYf1uE7Oa6ctua0gIqU/view?usp=sharing),  can be presented as the following pseudo-code:  \n",
    "\n",
    "    npop = np.size(x0)[0] # the number of population members\n",
    "    xnow = np.copy(x0)\n",
    "    fnow = np.empty(npop)\n",
    "    for i in range(npop):\n",
    "        fnow[i] = func(xnow[i])\n",
    "    xnext = np.zeros_like(xnow)\n",
    "    ....\n",
    "    while some convergence criterion is not met: \n",
    "        # xnow is a vector of coordinate vectors of the current population\n",
    "        # xnext is a vector of coordinate vector of the next gen population\n",
    "        for i in range(npop):\n",
    "            # generate random unique indices  ir1, ir2, ir3 \n",
    "            # where all indices are not equal to each other and not equal to i\n",
    "            # s can be a constant for large npop, but it's more safe to make it a\n",
    "            # random number drawn from uniform distribution in the range [smin,1]\n",
    "            xtry = xnow[ir3] + s * (xnow[ir1] - xnow[ir2])\n",
    "            if func(xtry) <= fnow[i]:\n",
    "                xnext[i] = xtry\n",
    "                fnow[i] = func(xtry)\n",
    "            else:\n",
    "                xnext[i] = xnow[i]\n",
    "                \n",
    "        xnow = np.copy(xnext)"
   ]
  },
  {
   "cell_type": "markdown",
   "id": "657b2c7d",
   "metadata": {},
   "source": [
    "\n"
   ]
  },
  {
   "cell_type": "markdown",
   "id": "f3b8403c",
   "metadata": {},
   "source": [
    "**Task 2a. (20 points)** Use pseudo-code of the DE algorithm above to implement DE minimization function with the following interface (15 points):\n",
    "\n",
    "    def minimize_de(func, x0, atol=1.e-6, s=0.1, bounds=None):\n",
    "        \"\"\"\n",
    "        Parameters:\n",
    "        ------------\n",
    "        func - Python function object\n",
    "               function to minimize, should expect x0 as a parameter vector\n",
    "        x0   - vector of real numbers of shape (npop, nd), \n",
    "                where npop is population size and nd is the number of func parameters\n",
    "        atol - float\n",
    "                absolute tolerance threshold for change of population member positions\n",
    "        s    - float \n",
    "               s parameter for scaling steps, the step size will be dwarf from uniform distribution between s and 1\n",
    "        bounds - array of tuples \n",
    "                bounds for the minimization exploration; define the region in which to search for the minimum\n",
    "        \"\"\"\n",
    "                \n",
    "\n",
    "***Note:*** guard against for the cases when the small number of population members is used when population does not move at a given mutation stage, so that this does not result in premature stopping of the algorithm. \n",
    "\n",
    "***Note:*** Try to \"vectorize\" as much of the algorithm as possible. This code can be fully vectorized with only one loop for the mutations of the population. \n"
   ]
  },
  {
   "cell_type": "markdown",
   "id": "da8ac225",
   "metadata": {},
   "source": [
    "***Note:*** Assuming that we are searching for a minimum within some rectangular domain defined by the minimum and maximum values along each coordinate axis: $\\mathbf{x}_{\\rm min}$ and $\\mathbf{x}_{\\rm max}$, we can initialize the population members as \n",
    "\n",
    "$$\\mathbf{x}_0 = \\mathbf{x}_{\\rm min} + (\\mathbf{x}_{\\rm max}-\\mathbf{x}_{\\rm min}) \\cdot\\mathrm{rand}(0,1),$$\n",
    "\n",
    "where $\\mathrm{rand}(0,1)$ is a random number uniformly distributed from 0 to 1, generated using <tt>np.random.uniform</tt>.  \n"
   ]
  },
  {
   "cell_type": "markdown",
   "id": "86c5e7b9",
   "metadata": {},
   "source": [
    "***2b (5 points).*** Test your implementation using Rosenbrock function implemented below in 2- and 5-dimensions. Try different number of population members and $s$ values and choices for how $s$ is chosen and examine how results change and for what number of population members the algorithm returns correct minimum value reliably ($[1,1]$ in 2D and $[1, 1, 1, 1, 1]$ in 5D). \n",
    "\n",
    "* Present a brief discussion of how large population should be in 2D and 5D to get correct minimum reliably. \n",
    "\n",
    "* Present a brief discussion of how choices of $s$ affect results \n",
    "\n",
    "* Demonstrate that your function returns values within the specified atol value reliably in 5D. "
   ]
  },
  {
   "cell_type": "code",
   "execution_count": 96,
   "id": "7c42a104",
   "metadata": {},
   "outputs": [],
   "source": [
    "def rosenbrock(x):\n",
    "    \"\"\"The Rosenbrock \"banana\" function\n",
    "    x is a vector of points in 2 or more dimensional space\n",
    "    \"\"\"\n",
    "    return sum(100.0*(x[1:]-x[:-1]**2.0)**2.0 + (1-x[:-1])**2.0)\n"
   ]
  },
  {
   "cell_type": "code",
   "execution_count": 97,
   "id": "43b6512b",
   "metadata": {},
   "outputs": [],
   "source": [
    "\n",
    "def minimize_de(func, x0, atol=1.e-6, cr=0.7, tol=0.01, s=0.1, crossover=True, \n",
    "                               bounds=None, args=[], verbose=False):\n",
    "    '''\n",
    "    Differential Evolution implementation that is not fully vectorized\n",
    "    '''\n",
    "    assert(atol > 0.)\n",
    "    npop, nd = np.shape(x0)\n",
    "    xnow = np.copy(x0)\n",
    "    xnext = np.zeros_like(xnow)\n",
    "    dxmax = 100.*atol\n",
    "\n",
    "    # initialize array of sequences that do not include i\n",
    "    iseq_mi = np.zeros((npop, npop-1)).astype(int)\n",
    "    for i in range(npop): \n",
    "        iseq_mi[i] = np.hstack((np.arange(i),np.arange(i+1,npop)))\n",
    "    \n",
    "    fnow = np.zeros(npop)\n",
    "    for i in range(npop):\n",
    "        fnow[i] = func(xnow[i], *args)\n",
    "    \n",
    "    fnext = np.zeros_like(fnow)\n",
    "    converged = False\n",
    "    jdim = np.zeros((npop,nd))\n",
    "    for i in range(npop):\n",
    "        jdim[i,:] = np.arange(nd)\n",
    "        \n",
    "    sqrts = np.sqrt(s)\n",
    "    niter = 0 \n",
    "    while not converged:\n",
    "        niter += 1\n",
    "        fnext, xnext = np.copy(fnow), np.copy(xnow)\n",
    "        sr = np.random.uniform(s, 1., size=npop)\n",
    "        if crossover: \n",
    "            rj = np.random.uniform(size=npop*nd).reshape(npop,nd)\n",
    "            icr= rj > cr\n",
    "            # this part of the cross over does not seem to have much effect and just slows down the code\n",
    "            #iri = np.random.randint(0, nd, size=npop*nd).reshape(npop,nd)\n",
    "            #icr2 = ~(jdim - iri).astype('bool')\n",
    "            #icr = np.logical_or(icr1,icr2)\n",
    "               \n",
    "        for i in range(npop):\n",
    "            ir = np.random.permutation(iseq_mi[i])\n",
    "            xtry = xnow[ir[0]] + sr[i] * (xnow[ir[1]] - xnow[ir[2]])\n",
    "            if crossover: xtry[icr[i,:]] = xnow[i,icr[i,:]]\n",
    "            ftry = func(xtry, *args)\n",
    "            # check boundary condition \n",
    "            bleft  = (xtry-bounds[:,0]).all() > 0\n",
    "            bright = (bounds[:,1] - xtry).all() > 0\n",
    "            if ftry <= fnow[i] and bleft and bright:\n",
    "                xnext[i] = xtry\n",
    "                fnext[i] = ftry\n",
    "            else:\n",
    "                xnext[i] = xnow[i]\n",
    "                fnext[i] = fnow[i]\n",
    "                \n",
    "        converged = (np.abs(xnext - xnow).max() < atol).all()\n",
    "        xnow = np.copy(xnext)\n",
    "        fnow = np.copy(fnext)\n",
    "        \n",
    "        if verbose:\n",
    "            print(np.mean(xnext, axis=0), dxmax)\n",
    "\n",
    "    x_min = np.median(xnext, axis=0)\n",
    "    print('DE finished with {:d} function evaluations'.format(niter*2))\n",
    "    return x_min"
   ]
  },
  {
   "cell_type": "markdown",
   "id": "54923763",
   "metadata": {},
   "source": [
    "The Rosenbrock function below is modified to handle vector input of the shape (ndim, npop)"
   ]
  },
  {
   "cell_type": "code",
   "execution_count": 98,
   "id": "dc3447ac",
   "metadata": {},
   "outputs": [],
   "source": [
    "def rosenbrock_v(x):\n",
    "    \"\"\"The Rosenbrock \"banana\" function\n",
    "    x is a vector of points in 2 or more dimensional space\n",
    "    \"\"\"\n",
    "    return np.sum(100.0*(x[1:]-x[:-1]**2.0)**2.0 + (1-x[:-1])**2.0, axis=0).T\n"
   ]
  },
  {
   "cell_type": "code",
   "execution_count": 99,
   "id": "17a0616e",
   "metadata": {},
   "outputs": [],
   "source": [
    "def minimize_de_v(func, x0, atol=1.e-6, cr=0.7, tol=0.01, s=0.1, args=[], \n",
    "                               crossover=True, bounds=None, verbose=False):\n",
    "    \"\"\"\n",
    "    fully vectorized version of the Differential Evolution method \n",
    "    \n",
    "    \"\"\"\n",
    "    assert(atol > 0.)\n",
    "    npop, nd = np.shape(x0)\n",
    "    xnow = np.copy(x0.T)\n",
    "    xnext = np.zeros_like(xnow)\n",
    "    dxmax = 100.*atol\n",
    "\n",
    "    # initialize array of sequences that do not include i\n",
    "    ir = np.zeros((npop, npop-1)).astype(int)\n",
    "    for i in range(npop):\n",
    "        ir[i,:] = np.random.permutation(np.hstack((np.arange(i),np.arange(i+1,npop))))\n",
    "   \n",
    "    fnow = func(xnow, *args)    \n",
    "    fnext = np.zeros_like(fnow)\n",
    "\n",
    "    jdim = np.zeros((nd,npop))\n",
    "    for i in range(npop):\n",
    "        jdim[:,i] = np.arange(nd)\n",
    "        \n",
    "    sqrts = np.sqrt(s)\n",
    "    initind = np.arange(npop)\n",
    "\n",
    "    converged = False\n",
    "    \n",
    "    left_bounds = np.tile(bounds.T[0], (npop,1)).T\n",
    "    right_bounds = np.tile(bounds.T[1], (npop,1)).T\n",
    "    \n",
    "    niter = 0 \n",
    "    while not converged or dxmax == 0:\n",
    "        niter += 1\n",
    "        xnext = np.copy(xnow)\n",
    "        sr = np.random.uniform(s, np.minimum(1.+s,2.), size=npop)\n",
    "        \n",
    "        # the following 3 lines implement the 2nd part of crossover, \n",
    "        # but I found that this part doesn't make much difference but slows down calculation  \n",
    "        #iri = np.random.randint(0, nd, size=npop*nd).reshape(nd,npop)\n",
    "        #icr2 = ~(jdim - iri).astype('bool')\n",
    "        #icr = np.logical_or(icr1,icr2)\n",
    "        # shuffle indices \n",
    "        np.random.shuffle(ir.T)\n",
    "        # trial step\n",
    "        xtry = xnow[:,ir[:,0]] + np.multiply(np.tile(sr,(nd,1)), (xnow[:,ir[:,1]] - xnow[:,ir[:,2]]))\n",
    "        # crossover\n",
    "        if crossover: \n",
    "            rj = np.random.uniform(size=npop*nd).reshape(nd,npop)\n",
    "            icr = rj > cr\n",
    "            xtry[icr] = xnow[icr] \n",
    "            \n",
    "        ftry = func(xtry, *args)\n",
    "        iaccf = (ftry <= fnow)\n",
    "        iaccx = np.tile(iaccf, (nd,1)) & (xtry >= left_bounds) & (xtry <= right_bounds)\n",
    "        xnext[iaccx] = xtry[iaccx]\n",
    "        fnow = func(xnext, *args)\n",
    "        dxmax = np.abs(xnext - xnow).max()\n",
    "        converged = (dxmax < atol).all()\n",
    "        # this is an alternative convergence indicator similar to what's used in scipy.optimize.differential_evolution\n",
    "        #converged = (np.std(fnow, ddof=1) <= atol + tol * np.abs(np.mean(fnow))).all()\n",
    "        xnow = np.copy(xnext)\n",
    "        \n",
    "        if verbose:\n",
    "            print(xnext[0], dxmax)\n",
    "            \n",
    "    x_min = np.median(xnow, axis=1)\n",
    "    print('DE finished with {:d} function evaluations'.format(niter*2))\n",
    "    return x_min"
   ]
  },
  {
   "cell_type": "markdown",
   "id": "1616ae81",
   "metadata": {},
   "source": [
    "First test in 2D. "
   ]
  },
  {
   "cell_type": "code",
   "execution_count": 100,
   "id": "df1c1b02",
   "metadata": {},
   "outputs": [
    {
     "name": "stdout",
     "output_type": "stream",
     "text": [
      "DE finished with 766 function evaluations\n",
      "minimum at : [1. 1.]\n"
     ]
    }
   ],
   "source": [
    "xmin, xmax, ymin, ymax = -10, 10, -10, 10.\n",
    "\n",
    "npop = 15\n",
    "#np.random.seed(9999)\n",
    "\n",
    "bounds = np.array([(xmin, xmax), (ymin, ymax)])\n",
    "ndim = np.shape(bounds)[0]\n",
    "xnow = xmin + (xmax-xmin)*np.random.uniform(size=npop*ndim).reshape(npop,ndim)\n",
    "\n",
    "s=0.5\n",
    "x_min = minimize_de_v(rosenbrock_v, xnow, s=s, bounds=bounds, atol=1e-10, args=[])\n",
    "\n",
    "print(\"minimum at :\", x_min)"
   ]
  },
  {
   "cell_type": "markdown",
   "id": "9e2c6693",
   "metadata": {},
   "source": [
    "Reruning above with different <tt>npop</tt> values we can see that results are *not* stable for <tt>npop=10</tt>, while increasing <tt>npop</tt> to 15 makes it stable. Stability of the algorithm depends on the parameters which illustrates importance of such tests.  \n",
    "\n",
    "Below is test in 5D. Here runs with <tt>npop=15</tt> do not produce correct minimum. This is because the algorithm relies on information from other population members and small number of members does not allow to explore the multi-D space faithfull. However, for <tt>npop>=20</tt> results are stable, although for numbers close to the lower limit run-times vary significantly. Run time stabilizes for <tt>npop>=30</tt>"
   ]
  },
  {
   "cell_type": "code",
   "execution_count": 101,
   "id": "f4faed20",
   "metadata": {},
   "outputs": [
    {
     "name": "stdout",
     "output_type": "stream",
     "text": [
      "DE finished with 2156 function evaluations\n",
      "completed in 0.139 sec\n",
      "minimum at : [1. 1. 1. 1. 1.]\n"
     ]
    }
   ],
   "source": [
    "from time import time\n",
    "\n",
    "npop = 30\n",
    "xmin, xmax, ymin, ymax = -10, 10, -10, 10.\n",
    "\n",
    "bounds = np.array([(xmin, xmax), (ymin, ymax), (xmin, xmax), (ymin, ymax), (xmin, xmax)])\n",
    "ndim = np.shape(bounds)[0]\n",
    "xnow = xmin + (xmax-xmin)*np.random.uniform(size=npop*ndim).reshape(npop,ndim)\n",
    "\n",
    "tstart = time()\n",
    "s = 0.1\n",
    "x_min = minimize_de_v(rosenbrock_v, xnow, s=s, bounds=bounds, atol=1e-10, crossover=True, args=[])\n",
    "print(\"completed in %.3g sec\"%(time() - tstart))\n",
    "print(\"minimum at :\",x_min)\n"
   ]
  },
  {
   "cell_type": "markdown",
   "id": "40ec191e",
   "metadata": {},
   "source": [
    "Stability of the method at these <tt>npop</tt> is in large part due to the crossover stage. As can be seen below without crossover, results are not stable for <tt>npop=30</tt>, but become stable for  <tt>npop>=30</tt> and achieving even faster convergence than with <tt>npop=30</tt> and crossover. This is because crossover involves extra-work and employing it is a tradeoff.\n",
    "\n",
    "In this particular test, function computation is not expensive, but for more expensive functions ability to converge for smaller number of walkers could result in substantial speed up. "
   ]
  },
  {
   "cell_type": "code",
   "execution_count": 102,
   "id": "549e6265",
   "metadata": {},
   "outputs": [
    {
     "name": "stdout",
     "output_type": "stream",
     "text": [
      "DE finished with 1896 function evaluations\n",
      "completed in 0.137 sec\n",
      "minimum at : [1.00002517 1.00003046 1.00004779 1.00012336 1.00023675]\n"
     ]
    }
   ],
   "source": [
    "npop = 30\n",
    "xmin, xmax, ymin, ymax = -10, 10, -10, 10.\n",
    "\n",
    "bounds = np.array([(xmin, xmax), (ymin, ymax), (xmin, xmax), (ymin, ymax), (xmin, xmax)])\n",
    "ndim = np.shape(bounds)[0]\n",
    "xnow = xmin + (xmax-xmin)*np.random.uniform(size=npop*ndim).reshape(npop,ndim)\n",
    "\n",
    "tstart = time()\n",
    "s = 0.1\n",
    "x_min = minimize_de_v(rosenbrock_v, xnow, s=s, bounds=bounds, atol=1e-8, crossover=False, args=[])\n",
    "print(\"completed in %.3g sec\"%(time() - tstart))\n",
    "print(\"minimum at :\",x_min)\n"
   ]
  },
  {
   "cell_type": "markdown",
   "id": "6cf1dbbd",
   "metadata": {},
   "source": [
    "### Test of the effect of the cross-over stage on the speed of convergence\n",
    "\n",
    "Below is the test that shows how implementation of the crossover stage can improve the speed of convergence. "
   ]
  },
  {
   "cell_type": "code",
   "execution_count": 103,
   "id": "6e85c45f",
   "metadata": {},
   "outputs": [
    {
     "name": "stdout",
     "output_type": "stream",
     "text": [
      "DE finished with 1774 function evaluations\n",
      "completed in 0.112 sec\n",
      "minimum at : [1. 1. 1. 1. 1.]\n",
      "DE finished with 2074 function evaluations\n",
      "completed in 0.137 sec\n",
      "minimum at : [1. 1. 1. 1. 1.]\n",
      "DE finished with 1930 function evaluations\n",
      "completed in 0.12 sec\n",
      "minimum at : [1. 1. 1. 1. 1.]\n",
      "DE finished with 2552 function evaluations\n",
      "completed in 0.173 sec\n",
      "minimum at : [1. 1. 1. 1. 1.]\n",
      "DE finished with 2188 function evaluations\n",
      "completed in 0.137 sec\n",
      "minimum at : [1. 1. 1. 1. 1.]\n"
     ]
    }
   ],
   "source": [
    "npop = 30\n",
    "bounds = np.array([(xmin, xmax), (ymin, ymax), (xmin, xmax), (ymin, ymax), (xmin, xmax)])\n",
    "ndim = np.shape(bounds)[0]\n",
    "xnow = xmin + (xmax-xmin)*np.random.uniform(size=npop*ndim).reshape(npop,ndim)\n",
    "\n",
    "for s in [0.05, 0.1, 0.2, 0.5, 1.]:\n",
    "    tstart = time()\n",
    "    s = 0.1\n",
    "    x_min = minimize_de_v(rosenbrock_v, xnow, s=s, bounds=bounds, atol=1e-10, crossover=True, args=[])\n",
    "    print(\"completed in %.3g sec\"%(time() - tstart))\n",
    "    print(\"minimum at :\",x_min)\n"
   ]
  },
  {
   "cell_type": "markdown",
   "id": "e767c2c9",
   "metadata": {},
   "source": [
    "We see that the method that uses uniform distribution in $[s,1]$ interval, the speed is not strongly sensitive on the adopted $s$ value. "
   ]
  },
  {
   "cell_type": "markdown",
   "id": "445efb5e",
   "metadata": {},
   "source": [
    "#### Comparison to scipy.optimize.differential_evolution\n",
    "\n",
    "Below the optimization for the same function and the same parameters is done for <a href=\"https://docs.scipy.org/doc/scipy/reference/generated/scipy.optimize.differential_evolution.html\"><tt>scipy.optimize.differential_evolution</tt></a>\n",
    "\n",
    "Note that this function's parameter <tt>popsize</tt> is used to determine number of walkers (population size) as \n",
    "<tt>popsize * ndim</tt>. So <tt>popsize=6</tt> is equivalent to <tt>npop=30</tt> above for 5D Rosenbrock. \n",
    "\n",
    "\n",
    "In this function $s=$<tt>mutation</tt>, <tt>cr=recombination</tt>\n",
    "<tt>crossover=1</tt> is equivalent to not doing crossover at all. <tt>mutation=[s,1.]</tt> will use random s values uniformly drawn from $[s,1]$ interval. \n",
    "\n",
    "Parameter <tt>strategy='rand1bin'</tt> sets the algorithm to use the variant of the DE implemented above. However, results are qualitatively the same for some other strategies I tried. \n",
    "\n",
    "Other input parameters are set to match the parameters used in tests above. See the above link for description of these parameters. "
   ]
  },
  {
   "cell_type": "code",
   "execution_count": 104,
   "id": "2cbc081a",
   "metadata": {},
   "outputs": [
    {
     "name": "stdout",
     "output_type": "stream",
     "text": [
      "completed in 1 sec\n",
      "found minimum at: [1.00000032 1.00000045 1.00000084 1.00000148 1.00000311]\n",
      "in 15570 function evaluations\n",
      "----------------------------------------\n",
      "completed in 1.17 sec\n",
      "found minimum at: [1.00000042 1.00000081 1.00000116 1.00000229 1.00000485]\n",
      "in 18630 function evaluations\n",
      "----------------------------------------\n",
      "completed in 1.11 sec\n",
      "found minimum at: [0.9999994  0.99999929 0.9999985  0.99999722 0.99999445]\n",
      "in 18060 function evaluations\n",
      "----------------------------------------\n",
      "completed in 1.25 sec\n",
      "found minimum at: [0.99999994 1.00000018 1.0000006  1.00000113 1.00000197]\n",
      "in 20550 function evaluations\n",
      "----------------------------------------\n",
      "completed in 1.79 sec\n",
      "found minimum at: [0.99999626 0.99999643 0.99998913 0.99996414 0.9999455 ]\n",
      "in 30030 function evaluations\n",
      "----------------------------------------\n"
     ]
    }
   ],
   "source": [
    "from scipy.optimize import differential_evolution\n",
    "npop = 30\n",
    "bounds = np.array([(xmin, xmax), (ymin, ymax), (xmin, xmax), (ymin, ymax), (xmin, xmax)])\n",
    "\n",
    "for s in [0.05, 0.1, 0.2, 0.5, 1.]:\n",
    "    tstart = time()\n",
    "    res = differential_evolution(rosenbrock, bounds=bounds, mutation=[s, 1.], recombination=0.7, \n",
    "                                   atol=1.e-10, tol=0.01, strategy='rand1bin',\n",
    "                                   popsize=npop//5, polish=False)\n",
    "    print(\"completed in %.3g sec\"%(time() - tstart))\n",
    "    print(\"found minimum at:\", res.x)\n",
    "    print(\"in {:d} function evaluations\".format(res.nfev))\n",
    "    print(40*'-')"
   ]
  },
  {
   "cell_type": "markdown",
   "id": "954fbe7a",
   "metadata": {},
   "source": [
    "Here we see that for <tt>npop=30</tt> are unstable for $s<0.2$. Thus, the number of population members needs to be increased to <tt>npop=50</tt> for stable results. \n",
    "\n",
    "<tt>scipy.optimize.differential_evolution</tt> reqires more walkers for stability and performs a factor of 10 slower than the version implemented above. This is because the function computation in this function is not vectorized and this carries significant overhead. \n",
    "\n",
    "This again shows that it is often advantageous to implement your own version of a function that you need to use often and where stability, speed, and full control over customization of the function are important and not rely on the package function. "
   ]
  },
  {
   "cell_type": "code",
   "execution_count": 105,
   "id": "a85e1646",
   "metadata": {
    "slideshow": {
     "slide_type": "slide"
    }
   },
   "outputs": [
    {
     "name": "stdout",
     "output_type": "stream",
     "text": [
      "completed in 6.04 sec\n",
      "minimum at : [1. 1. 1. 1. 1.]\n"
     ]
    }
   ],
   "source": [
    "from scipy.optimize import differential_evolution\n",
    "from time import time\n",
    "\n",
    "xmin, xmax, ymin, ymax = -10., 10., -10., 10.\n",
    "bounds = [(xmin, xmax), (ymin, ymax), (xmin, xmax), (ymin, ymax), (xmin, xmax)]\n",
    "\n",
    "tstart = time()\n",
    "res = differential_evolution(rosenbrock, bounds, strategy='rand1bin', mutation=0.5, recombination=1.0,\n",
    "                             popsize=50, polish=False)\n",
    "\n",
    "print(\"completed in %.3g sec\"%(time() - tstart))\n",
    "print(\"minimum at :\",res.x)"
   ]
  },
  {
   "cell_type": "code",
   "execution_count": null,
   "id": "149088a9",
   "metadata": {},
   "outputs": [],
   "source": []
  }
 ],
 "metadata": {
  "kernelspec": {
   "display_name": "Python 3 (ipykernel)",
   "language": "python",
   "name": "python3"
  },
  "language_info": {
   "codemirror_mode": {
    "name": "ipython",
    "version": 3
   },
   "file_extension": ".py",
   "mimetype": "text/x-python",
   "name": "python",
   "nbconvert_exporter": "python",
   "pygments_lexer": "ipython3",
   "version": "3.9.1"
  }
 },
 "nbformat": 4,
 "nbformat_minor": 5
}
