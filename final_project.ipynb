{
 "cells": [
  {
   "cell_type": "code",
   "execution_count": 6,
   "metadata": {},
   "outputs": [],
   "source": [
    "#Path to Images\n",
    "impath = \"images_training_rev1/*.jpg\"\n",
    "#Path to Labels CSV\n",
    "lapath = \"training_solutions_rev1.csv\""
   ]
  },
  {
   "cell_type": "code",
   "execution_count": 7,
   "metadata": {},
   "outputs": [],
   "source": [
    "import pandas as pd\n",
    "import numpy as np\n",
    "from PIL import Image\n",
    "import matplotlib.pyplot as plt\n",
    "import skimage.io as io\n",
    "import keras\n",
    "from tqdm.notebook import trange,tqdm\n",
    "\n",
    "%matplotlib inline"
   ]
  },
  {
   "cell_type": "code",
   "execution_count": 8,
   "metadata": {},
   "outputs": [],
   "source": [
    "def lum(im):\n",
    "    pixels = io.imread(im)\n",
    "    return 0.21 * pixels[:,:,0] + 0.72 * pixels[:,:,1] + 0.07 * pixels[:,:,2]"
   ]
  },
  {
   "cell_type": "code",
   "execution_count": 9,
   "metadata": {},
   "outputs": [],
   "source": [
    "class BatchManager:\n",
    "    def __init__(self,galaxy_data,batches):\n",
    "        self.galaxy_data = galaxy_data\n",
    "        self.batches = batches\n",
    "        self.idx = 0\n",
    "        self.done = False\n",
    "        self.size = self.batches.shape[1]\n",
    "    \n",
    "    def __call__(self):\n",
    "        if self.done == True:\n",
    "            return False\n",
    "        label = np.take(self.galaxy_data.labels,self.batches[self.idx],axis=0)\n",
    "        out = np.zeros((self.size,self.galaxy_data.imsize[0] * self.galaxy_data.imsize[1]))\n",
    "        for i in range(self.size):\n",
    "            out[i] = self.galaxy_data.image_collection[self.batches[self.idx][i]].flatten()/255\n",
    "        self.idx += 1\n",
    "        if self.idx  >= self.batches.shape[0]:\n",
    "            self.done = True\n",
    "        return label,out\n",
    "\n",
    "class GalaxyData:\n",
    "    def __init__(self,lapath=lapath,impath=impath,load_func=lum):\n",
    "        self.impath,self.lapath,self.load_func = impath,lapath,load_func\n",
    "        self.label_df = pd.read_csv(lapath,index_col=0)\n",
    "        self.image_collection = io.ImageCollection(impath,load_func=load_func)\n",
    "        self.labels = self.label_df.to_numpy()\n",
    "        self.imsize = self.image_collection[0].shape\n",
    "    \n",
    "    def __call__(self,norm = 255):\n",
    "        print(\"LOADING DATA\")\n",
    "        out = np.zeros((self.labels.shape[0],self.image_collection[0].shape[0] * self.image_collection[0].shape[0]))\n",
    "        for i in trange(self.labels.shape[0]):\n",
    "            out[i] = self.image_collection[i].flatten()/norm\n",
    "        return self.labels,out\n",
    "    \n",
    "    def __getitem__(self,idx):\n",
    "        label = self.labels[idx]\n",
    "        im = self.image_collection[idx]\n",
    "        return label,im\n",
    "    \n",
    "    def batch(self,size):\n",
    "        indexes = np.arange(len(self.labels))\n",
    "        np.random.shuffle(indexes)\n",
    "        nims = indexes.shape[0]//size\n",
    "        indexes = indexes[:nims*size]\n",
    "        indexes = np.reshape(indexes,(nims,size))\n",
    "        return BatchManager(self,indexes)\n",
    "\n",
    "def display_image(im):\n",
    "    fig,ax = plt.subplots(1,1,figsize=(5,5))\n",
    "    ax.xaxis.set_visible(False)\n",
    "    ax.yaxis.set_visible(False)\n",
    "    ax.imshow(im, origin='lower', cmap='Greys')\n",
    "    ax.set_aspect('auto')\n",
    "    plt.show()"
   ]
  },
  {
   "cell_type": "code",
   "execution_count": null,
   "metadata": {},
   "outputs": [
    {
     "name": "stdout",
     "output_type": "stream",
     "text": [
      "Metal device set to: Apple M1 Pro\n",
      "\n",
      "systemMemory: 16.00 GB\n",
      "maxCacheSize: 5.33 GB\n",
      "\n"
     ]
    },
    {
     "name": "stderr",
     "output_type": "stream",
     "text": [
      "2022-05-20 18:06:09.730753: I tensorflow/core/common_runtime/pluggable_device/pluggable_device_factory.cc:305] Could not identify NUMA node of platform GPU ID 0, defaulting to 0. Your kernel may not have been built with NUMA support.\n",
      "2022-05-20 18:06:09.730959: I tensorflow/core/common_runtime/pluggable_device/pluggable_device_factory.cc:271] Created TensorFlow device (/job:localhost/replica:0/task:0/device:GPU:0 with 0 MB memory) -> physical PluggableDevice (device: 0, name: METAL, pci bus id: <undefined>)\n"
     ]
    }
   ],
   "source": [
    "model = keras.models.Sequential()\n",
    "model.add(keras.Input(shape=(424*424,)))\n",
    "model.add(keras.layers.Dense(32))\n",
    "model.add(keras.layers.Dense(32))\n",
    "model.add(keras.layers.Dense(37))"
   ]
  },
  {
   "cell_type": "code",
   "execution_count": null,
   "metadata": {},
   "outputs": [],
   "source": []
  }
 ],
 "metadata": {
  "interpreter": {
   "hash": "aee8b7b246df8f9039afb4144a1f6fd8d2ca17a180786b69acc140d282b71a49"
  },
  "kernelspec": {
   "display_name": "Conda (base)",
   "language": "python",
   "name": "base"
  },
  "language_info": {
   "codemirror_mode": {
    "name": "ipython",
    "version": 3
   },
   "file_extension": ".py",
   "mimetype": "text/x-python",
   "name": "python",
   "nbconvert_exporter": "python",
   "pygments_lexer": "ipython3",
   "version": "3.9.10"
  },
  "orig_nbformat": 4
 },
 "nbformat": 4,
 "nbformat_minor": 2
}
